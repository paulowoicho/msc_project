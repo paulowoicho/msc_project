{
  "nbformat": 4,
  "nbformat_minor": 0,
  "metadata": {
    "colab": {
      "name": "Summarization Task - Baselines",
      "provenance": [],
      "collapsed_sections": [],
      "toc_visible": true,
      "authorship_tag": "ABX9TyPqAJ+dJ4pofn6km2vRfbvP",
      "include_colab_link": true
    },
    "kernelspec": {
      "name": "python3",
      "display_name": "Python 3"
    }
  },
  "cells": [
    {
      "cell_type": "markdown",
      "metadata": {
        "id": "view-in-github",
        "colab_type": "text"
      },
      "source": [
        "<a href=\"https://colab.research.google.com/github/paulowoicho/msc_project/blob/master/Summarization_Task_Baselines.ipynb\" target=\"_parent\"><img src=\"https://colab.research.google.com/assets/colab-badge.svg\" alt=\"Open In Colab\"/></a>"
      ]
    },
    {
      "cell_type": "markdown",
      "metadata": {
        "id": "b1cjCP-8pRz0",
        "colab_type": "text"
      },
      "source": [
        "#Prepare the Data"
      ]
    },
    {
      "cell_type": "code",
      "metadata": {
        "id": "toyGpaFpfdSt",
        "colab_type": "code",
        "colab": {}
      },
      "source": [
        "from google.colab import auth\n",
        "auth.authenticate_user()"
      ],
      "execution_count": null,
      "outputs": []
    },
    {
      "cell_type": "code",
      "metadata": {
        "id": "sbd_s2aGiUme",
        "colab_type": "code",
        "colab": {
          "base_uri": "https://localhost:8080/",
          "height": 85
        },
        "outputId": "81020d41-0b06-44e5-cee8-2c2ae6465bd7"
      },
      "source": [
        "project_id = 'test-281700'\n",
        "!gcloud config set project {project_id}\n",
        "!gsutil ls"
      ],
      "execution_count": null,
      "outputs": [
        {
          "output_type": "stream",
          "text": [
            "Updated property [core/project].\n",
            "gs://spotify_asr_dataset/\n",
            "gs://staging.test-281700.appspot.com/\n",
            "gs://test-281700.appspot.com/\n"
          ],
          "name": "stdout"
        }
      ]
    },
    {
      "cell_type": "code",
      "metadata": {
        "id": "QDS_jEC4mEou",
        "colab_type": "code",
        "colab": {
          "base_uri": "https://localhost:8080/",
          "height": 68
        },
        "outputId": "c2c31537-7a30-4dfb-f02c-4ddbcdde1168"
      },
      "source": [
        "bucket_name = 'spotify_asr_dataset'\n",
        "#download dataset\n",
        "!gsutil -m cp -r gs://{bucket_name}/dataset.csv /content/"
      ],
      "execution_count": null,
      "outputs": [
        {
          "output_type": "stream",
          "text": [
            "Copying gs://spotify_asr_dataset/dataset.csv...\n",
            "/ [1/1 files][  2.9 GiB/  2.9 GiB] 100% Done  53.9 MiB/s ETA 00:00:00           \n",
            "Operation completed over 1 objects/2.9 GiB.                                      \n"
          ],
          "name": "stdout"
        }
      ]
    },
    {
      "cell_type": "code",
      "metadata": {
        "id": "SojNkwZiovVm",
        "colab_type": "code",
        "colab": {}
      },
      "source": [
        "import pandas as pd\n",
        "dataset = pd.read_csv('dataset.csv')"
      ],
      "execution_count": null,
      "outputs": []
    },
    {
      "cell_type": "code",
      "metadata": {
        "id": "gpUxwhEtVIuj",
        "colab_type": "code",
        "colab": {
          "base_uri": "https://localhost:8080/",
          "height": 204
        },
        "outputId": "ddccee5d-78a0-4921-a671-1cc20728b707"
      },
      "source": [
        "dataset.head(5)"
      ],
      "execution_count": null,
      "outputs": [
        {
          "output_type": "execute_result",
          "data": {
            "text/html": [
              "<div>\n",
              "<style scoped>\n",
              "    .dataframe tbody tr th:only-of-type {\n",
              "        vertical-align: middle;\n",
              "    }\n",
              "\n",
              "    .dataframe tbody tr th {\n",
              "        vertical-align: top;\n",
              "    }\n",
              "\n",
              "    .dataframe thead th {\n",
              "        text-align: right;\n",
              "    }\n",
              "</style>\n",
              "<table border=\"1\" class=\"dataframe\">\n",
              "  <thead>\n",
              "    <tr style=\"text-align: right;\">\n",
              "      <th></th>\n",
              "      <th>episode_id</th>\n",
              "      <th>transcript</th>\n",
              "    </tr>\n",
              "  </thead>\n",
              "  <tbody>\n",
              "    <tr>\n",
              "      <th>0</th>\n",
              "      <td>spotify:episode:399kdfMnjw0KYANZU7CQJ0</td>\n",
              "      <td>It's the mother back a podcast. Well that was...</td>\n",
              "    </tr>\n",
              "    <tr>\n",
              "      <th>1</th>\n",
              "      <td>spotify:episode:49wcMBeJfaaL6KFFdsWvac</td>\n",
              "      <td>If you haven't heard about anchor is the easi...</td>\n",
              "    </tr>\n",
              "    <tr>\n",
              "      <th>2</th>\n",
              "      <td>spotify:episode:0JOymLFsRdeBVZbEA72ayj</td>\n",
              "      <td>Hello and welcome to the podcast the first ev...</td>\n",
              "    </tr>\n",
              "    <tr>\n",
              "      <th>3</th>\n",
              "      <td>spotify:episode:7sHyO8wLeEd1LuxfS8AIls</td>\n",
              "      <td>Hey, hey. Hey. Hey. Hey, this is your girl Je...</td>\n",
              "    </tr>\n",
              "    <tr>\n",
              "      <th>4</th>\n",
              "      <td>spotify:episode:1WosITIkpJemzZaPh8zAVb</td>\n",
              "      <td>This is the planetary potential podcast for t...</td>\n",
              "    </tr>\n",
              "  </tbody>\n",
              "</table>\n",
              "</div>"
            ],
            "text/plain": [
              "                               episode_id                                         transcript\n",
              "0  spotify:episode:399kdfMnjw0KYANZU7CQJ0   It's the mother back a podcast. Well that was...\n",
              "1  spotify:episode:49wcMBeJfaaL6KFFdsWvac   If you haven't heard about anchor is the easi...\n",
              "2  spotify:episode:0JOymLFsRdeBVZbEA72ayj   Hello and welcome to the podcast the first ev...\n",
              "3  spotify:episode:7sHyO8wLeEd1LuxfS8AIls   Hey, hey. Hey. Hey. Hey, this is your girl Je...\n",
              "4  spotify:episode:1WosITIkpJemzZaPh8zAVb   This is the planetary potential podcast for t..."
            ]
          },
          "metadata": {
            "tags": []
          },
          "execution_count": 2
        }
      ]
    },
    {
      "cell_type": "code",
      "metadata": {
        "id": "xS0ymDQyVU4G",
        "colab_type": "code",
        "colab": {
          "base_uri": "https://localhost:8080/",
          "height": 34
        },
        "outputId": "3c7e0a70-939d-4c0d-d2aa-8a6da93dfea6"
      },
      "source": [
        "len(dataset)"
      ],
      "execution_count": null,
      "outputs": [
        {
          "output_type": "execute_result",
          "data": {
            "text/plain": [
              "105360"
            ]
          },
          "metadata": {
            "tags": []
          },
          "execution_count": 3
        }
      ]
    },
    {
      "cell_type": "code",
      "metadata": {
        "id": "0lveORK7V0bw",
        "colab_type": "code",
        "colab": {
          "base_uri": "https://localhost:8080/",
          "height": 119
        },
        "outputId": "d6fb848b-8ce3-4b7a-b306-e2f1ff965308"
      },
      "source": [
        "#download gold summaries\n",
        "!gsutil -m cp -r gs://{bucket_name}/150gold.tsv /content/\n",
        "\n",
        "#download metadata for episodes\n",
        "!gsutil -m cp -r gs://{bucket_name}/metadata.tsv /content/"
      ],
      "execution_count": null,
      "outputs": [
        {
          "output_type": "stream",
          "text": [
            "Copying gs://spotify_asr_dataset/150gold.tsv...\n",
            "/ [1/1 files][379.9 KiB/379.9 KiB] 100% Done                                    \n",
            "Operation completed over 1 objects/379.9 KiB.                                    \n",
            "Copying gs://spotify_asr_dataset/metadata.tsv...\n",
            "\\ [1/1 files][112.2 MiB/112.2 MiB] 100% Done                                    \n",
            "Operation completed over 1 objects/112.2 MiB.                                    \n"
          ],
          "name": "stdout"
        }
      ]
    },
    {
      "cell_type": "code",
      "metadata": {
        "id": "sEaaWRztY017",
        "colab_type": "code",
        "colab": {}
      },
      "source": [
        "gold_summaries = pd.read_csv('150gold.tsv', sep='\\t')\n",
        "podcasts_metadata = pd.read_csv('metadata.tsv', sep='\\t')"
      ],
      "execution_count": null,
      "outputs": []
    },
    {
      "cell_type": "code",
      "metadata": {
        "id": "VuFv1ntHZWRN",
        "colab_type": "code",
        "colab": {
          "base_uri": "https://localhost:8080/",
          "height": 802
        },
        "outputId": "08cd3e1b-707c-42d6-b188-09712b777178"
      },
      "source": [
        "gold_summaries.head(5)"
      ],
      "execution_count": null,
      "outputs": [
        {
          "output_type": "execute_result",
          "data": {
            "text/html": [
              "<div>\n",
              "<style scoped>\n",
              "    .dataframe tbody tr th:only-of-type {\n",
              "        vertical-align: middle;\n",
              "    }\n",
              "\n",
              "    .dataframe tbody tr th {\n",
              "        vertical-align: top;\n",
              "    }\n",
              "\n",
              "    .dataframe thead th {\n",
              "        text-align: right;\n",
              "    }\n",
              "</style>\n",
              "<table border=\"1\" class=\"dataframe\">\n",
              "  <thead>\n",
              "    <tr style=\"text-align: right;\">\n",
              "      <th></th>\n",
              "      <th>show name</th>\n",
              "      <th>episode name</th>\n",
              "      <th>episode id</th>\n",
              "      <th>creator description</th>\n",
              "      <th>EGFB</th>\n",
              "      <th>lexrank summary</th>\n",
              "      <th>EGFB.1</th>\n",
              "      <th>textrank summary</th>\n",
              "      <th>EGFB.2</th>\n",
              "      <th>lsa summary</th>\n",
              "      <th>EGFB.3</th>\n",
              "      <th>quasi-supervised summary</th>\n",
              "      <th>EGFB.4</th>\n",
              "      <th>supervised summary</th>\n",
              "      <th>EGFB.5</th>\n",
              "    </tr>\n",
              "  </thead>\n",
              "  <tbody>\n",
              "    <tr>\n",
              "      <th>0</th>\n",
              "      <td>Alpha Male Strategies</td>\n",
              "      <td>Passive Aggressive Women &amp; Developing Mental S...</td>\n",
              "      <td>spotify:episode:4KRC1TZ28FavN3J5zLHEtQ</td>\n",
              "      <td>Boost the podcast! Leave a 5-star review on th...</td>\n",
              "      <td>B</td>\n",
              "      <td>All right guys now as y'all guys might know so...</td>\n",
              "      <td>G</td>\n",
              "      <td>There's no such thing as talk about passengers...</td>\n",
              "      <td>F</td>\n",
              "      <td>I'll pay for all you guys who don't know what ...</td>\n",
              "      <td>F</td>\n",
              "      <td>All women a passive-aggressive. When a woman w...</td>\n",
              "      <td>G</td>\n",
              "      <td>Rejection is a woman’s way of saying you’re no...</td>\n",
              "      <td>B</td>\n",
              "    </tr>\n",
              "    <tr>\n",
              "      <th>1</th>\n",
              "      <td>I Hope the Day Has a Good YOU!</td>\n",
              "      <td>If You Are Bored, You Are Boring.</td>\n",
              "      <td>spotify:episode:4tdDQcsBOUVWnA9XrpgTzS</td>\n",
              "      <td>☀️ aGoodYOU.com 🧡 Discuss this episode in 🗣: f...</td>\n",
              "      <td>B</td>\n",
              "      <td>It was the first and last time I ever said tha...</td>\n",
              "      <td>E</td>\n",
              "      <td>The answer usually comes in the form of a whis...</td>\n",
              "      <td>E</td>\n",
              "      <td>It was the first and last time I ever said tha...</td>\n",
              "      <td>F</td>\n",
              "      <td>If you are bored you are boring. Most people m...</td>\n",
              "      <td>E</td>\n",
              "      <td>If you are bored, you are boring.  ---   Suppo...</td>\n",
              "      <td>B</td>\n",
              "    </tr>\n",
              "    <tr>\n",
              "      <th>2</th>\n",
              "      <td>American English Grammar Review</td>\n",
              "      <td>Prepositions of Movement Review Two American E...</td>\n",
              "      <td>spotify:episode:626YAxomH0HZ6nCW9NLlGY</td>\n",
              "      <td>Prepositions of movement review two is the sec...</td>\n",
              "      <td>F</td>\n",
              "      <td>So off is again the opposite of on what about ...</td>\n",
              "      <td>B</td>\n",
              "      <td>So off is again the opposite of on what about ...</td>\n",
              "      <td>B</td>\n",
              "      <td>Let's start out with into and out of into is t...</td>\n",
              "      <td>B</td>\n",
              "      <td>Prepositions of movement in this lesson. Let's...</td>\n",
              "      <td>B</td>\n",
              "      <td>In, out, and off refer to services differently...</td>\n",
              "      <td>B</td>\n",
              "    </tr>\n",
              "    <tr>\n",
              "      <th>3</th>\n",
              "      <td>Simmers Digest</td>\n",
              "      <td>Simmer's Digest ep. 1.0 : Introductions</td>\n",
              "      <td>spotify:episode:6AUFl7KQWN6pzGFEIEKFQu</td>\n",
              "      <td>Welcome one and all to the newest the first ev...</td>\n",
              "      <td>F</td>\n",
              "      <td>I hope you enjoy it and I am excited to get to...</td>\n",
              "      <td>F</td>\n",
              "      <td>My passion for The Sims 4 Grew From consuming ...</td>\n",
              "      <td>E</td>\n",
              "      <td>So sit back turn your volume up to 11 and let'...</td>\n",
              "      <td>B</td>\n",
              "      <td>Techobabble is the host of the simmers digest ...</td>\n",
              "      <td>F</td>\n",
              "      <td>Welcome to the very first episode of The Simme...</td>\n",
              "      <td>B</td>\n",
              "    </tr>\n",
              "    <tr>\n",
              "      <th>4</th>\n",
              "      <td>Kitty's Pod</td>\n",
              "      <td>TXT Run Away Reaction</td>\n",
              "      <td>spotify:episode:6C4V9iKa9qygtvJCngPO93</td>\n",
              "      <td>TXT Run Away Reaction  ---   This episode is s...</td>\n",
              "      <td>B</td>\n",
              "      <td>And I will tell you that I am very thrilled an...</td>\n",
              "      <td>B</td>\n",
              "      <td>And I will tell you that I am very thrilled an...</td>\n",
              "      <td>B</td>\n",
              "      <td>But before we get into that, if you haven't he...</td>\n",
              "      <td>B</td>\n",
              "      <td>Anchor is the easiest way to make a podcast. T...</td>\n",
              "      <td>B</td>\n",
              "      <td>Listen to the song Runaway by txt   ---   This...</td>\n",
              "      <td>B</td>\n",
              "    </tr>\n",
              "  </tbody>\n",
              "</table>\n",
              "</div>"
            ],
            "text/plain": [
              "                         show name  ... EGFB.5\n",
              "0            Alpha Male Strategies  ...      B\n",
              "1   I Hope the Day Has a Good YOU!  ...      B\n",
              "2  American English Grammar Review  ...      B\n",
              "3                   Simmers Digest  ...      B\n",
              "4                      Kitty's Pod  ...      B\n",
              "\n",
              "[5 rows x 15 columns]"
            ]
          },
          "metadata": {
            "tags": []
          },
          "execution_count": 5
        }
      ]
    },
    {
      "cell_type": "code",
      "metadata": {
        "id": "7YK-hlOrFfF8",
        "colab_type": "code",
        "colab": {
          "base_uri": "https://localhost:8080/",
          "height": 479
        },
        "outputId": "481a1e6f-22ca-4ce7-da2c-056fa8bd69f9"
      },
      "source": [
        "podcasts_metadata.head(5)"
      ],
      "execution_count": null,
      "outputs": [
        {
          "output_type": "execute_result",
          "data": {
            "text/html": [
              "<div>\n",
              "<style scoped>\n",
              "    .dataframe tbody tr th:only-of-type {\n",
              "        vertical-align: middle;\n",
              "    }\n",
              "\n",
              "    .dataframe tbody tr th {\n",
              "        vertical-align: top;\n",
              "    }\n",
              "\n",
              "    .dataframe thead th {\n",
              "        text-align: right;\n",
              "    }\n",
              "</style>\n",
              "<table border=\"1\" class=\"dataframe\">\n",
              "  <thead>\n",
              "    <tr style=\"text-align: right;\">\n",
              "      <th></th>\n",
              "      <th>show_uri</th>\n",
              "      <th>show_name</th>\n",
              "      <th>show_description</th>\n",
              "      <th>publisher</th>\n",
              "      <th>language</th>\n",
              "      <th>rss_link</th>\n",
              "      <th>episode_uri</th>\n",
              "      <th>episode_name</th>\n",
              "      <th>episode_description</th>\n",
              "      <th>duration</th>\n",
              "      <th>show_filename_prefix</th>\n",
              "      <th>episode_filename_prefix</th>\n",
              "    </tr>\n",
              "  </thead>\n",
              "  <tbody>\n",
              "    <tr>\n",
              "      <th>0</th>\n",
              "      <td>spotify:show:2NYtxEZyYelR6RMKmjfPLB</td>\n",
              "      <td>Kream in your Koffee</td>\n",
              "      <td>A 20-something blunt female takes on the world...</td>\n",
              "      <td>Katie Houle</td>\n",
              "      <td>['en']</td>\n",
              "      <td>https://anchor.fm/s/11b84b68/podcast/rss</td>\n",
              "      <td>spotify:episode:000A9sRBYdVh66csG2qEdj</td>\n",
              "      <td>1: It’s Christmas Time!</td>\n",
              "      <td>On the first ever episode of Kream in your Kof...</td>\n",
              "      <td>12.700133</td>\n",
              "      <td>show_2NYtxEZyYelR6RMKmjfPLB</td>\n",
              "      <td>000A9sRBYdVh66csG2qEdj</td>\n",
              "    </tr>\n",
              "    <tr>\n",
              "      <th>1</th>\n",
              "      <td>spotify:show:15iWCbU7QoO23EndPEO6aN</td>\n",
              "      <td>Morning Cup Of Murder</td>\n",
              "      <td>Ever wonder what murder took place on today in...</td>\n",
              "      <td>Morning Cup Of Murder</td>\n",
              "      <td>['en']</td>\n",
              "      <td>https://anchor.fm/s/b07181c/podcast/rss</td>\n",
              "      <td>spotify:episode:000HP8n3hNIfglT2wSI2cA</td>\n",
              "      <td>The Goleta Postal Facility shootings- January ...</td>\n",
              "      <td>See something, say something. It’s a mantra ma...</td>\n",
              "      <td>6.019383</td>\n",
              "      <td>show_15iWCbU7QoO23EndPEO6aN</td>\n",
              "      <td>000HP8n3hNIfglT2wSI2cA</td>\n",
              "    </tr>\n",
              "    <tr>\n",
              "      <th>2</th>\n",
              "      <td>spotify:show:6vZRgUFTYwbAA79UNCADr4</td>\n",
              "      <td>Inside The 18 : A Podcast for Goalkeepers by G...</td>\n",
              "      <td>Inside the 18 is your source for all things Go...</td>\n",
              "      <td>Inside the 18 GK Media</td>\n",
              "      <td>['en']</td>\n",
              "      <td>https://anchor.fm/s/81a072c/podcast/rss</td>\n",
              "      <td>spotify:episode:001UfOruzkA3Bn1SPjcdfa</td>\n",
              "      <td>Ep.36 - Incorporating a Singular Goalkeeping C...</td>\n",
              "      <td>Today’s episode is a sit down Michael and Omar...</td>\n",
              "      <td>43.616333</td>\n",
              "      <td>show_6vZRgUFTYwbAA79UNCADr4</td>\n",
              "      <td>001UfOruzkA3Bn1SPjcdfa</td>\n",
              "    </tr>\n",
              "    <tr>\n",
              "      <th>3</th>\n",
              "      <td>spotify:show:5BvKEjaMSuvUsGROGi2S7s</td>\n",
              "      <td>Arrowhead Live!</td>\n",
              "      <td>Your favorite podcast for everything @Chiefs! ...</td>\n",
              "      <td>Arrowhead Live!</td>\n",
              "      <td>['en-US']</td>\n",
              "      <td>https://anchor.fm/s/917dba4/podcast/rss</td>\n",
              "      <td>spotify:episode:001i89SvIQgDuuyC53hfBm</td>\n",
              "      <td>Episode 1: Arrowhead Live! Debut</td>\n",
              "      <td>Join us as we take a look at all current Chief...</td>\n",
              "      <td>58.189200</td>\n",
              "      <td>show_5BvKEjaMSuvUsGROGi2S7s</td>\n",
              "      <td>001i89SvIQgDuuyC53hfBm</td>\n",
              "    </tr>\n",
              "    <tr>\n",
              "      <th>4</th>\n",
              "      <td>spotify:show:7w3h3umpH74veEJcbE6xf4</td>\n",
              "      <td>FBoL</td>\n",
              "      <td>The comedy podcast about toxic characters, wri...</td>\n",
              "      <td>Emily Edwards</td>\n",
              "      <td>['en']</td>\n",
              "      <td>https://www.fuckboisoflit.com/episodes?format=rss</td>\n",
              "      <td>spotify:episode:0025RWNwe2lnp6HcnfzwzG</td>\n",
              "      <td>The Lion, The Witch, And The Wardrobe - Ashley...</td>\n",
              "      <td>The modern morality tail of how to stay good f...</td>\n",
              "      <td>51.782050</td>\n",
              "      <td>show_7w3h3umpH74veEJcbE6xf4</td>\n",
              "      <td>0025RWNwe2lnp6HcnfzwzG</td>\n",
              "    </tr>\n",
              "  </tbody>\n",
              "</table>\n",
              "</div>"
            ],
            "text/plain": [
              "                              show_uri  ... episode_filename_prefix\n",
              "0  spotify:show:2NYtxEZyYelR6RMKmjfPLB  ...  000A9sRBYdVh66csG2qEdj\n",
              "1  spotify:show:15iWCbU7QoO23EndPEO6aN  ...  000HP8n3hNIfglT2wSI2cA\n",
              "2  spotify:show:6vZRgUFTYwbAA79UNCADr4  ...  001UfOruzkA3Bn1SPjcdfa\n",
              "3  spotify:show:5BvKEjaMSuvUsGROGi2S7s  ...  001i89SvIQgDuuyC53hfBm\n",
              "4  spotify:show:7w3h3umpH74veEJcbE6xf4  ...  0025RWNwe2lnp6HcnfzwzG\n",
              "\n",
              "[5 rows x 12 columns]"
            ]
          },
          "metadata": {
            "tags": []
          },
          "execution_count": 6
        }
      ]
    },
    {
      "cell_type": "code",
      "metadata": {
        "id": "WXBMhAlMaeP5",
        "colab_type": "code",
        "colab": {
          "base_uri": "https://localhost:8080/",
          "height": 264
        },
        "outputId": "747b019e-2b03-4d74-f30f-c59d5ab27120"
      },
      "source": [
        "#one show can span multiple episodes\n",
        "podcasts_metadata[podcasts_metadata['show_uri'] == 'spotify:show:2NYtxEZyYelR6RMKmjfPLB']"
      ],
      "execution_count": null,
      "outputs": [
        {
          "output_type": "execute_result",
          "data": {
            "text/html": [
              "<div>\n",
              "<style scoped>\n",
              "    .dataframe tbody tr th:only-of-type {\n",
              "        vertical-align: middle;\n",
              "    }\n",
              "\n",
              "    .dataframe tbody tr th {\n",
              "        vertical-align: top;\n",
              "    }\n",
              "\n",
              "    .dataframe thead th {\n",
              "        text-align: right;\n",
              "    }\n",
              "</style>\n",
              "<table border=\"1\" class=\"dataframe\">\n",
              "  <thead>\n",
              "    <tr style=\"text-align: right;\">\n",
              "      <th></th>\n",
              "      <th>show_uri</th>\n",
              "      <th>show_name</th>\n",
              "      <th>show_description</th>\n",
              "      <th>publisher</th>\n",
              "      <th>language</th>\n",
              "      <th>rss_link</th>\n",
              "      <th>episode_uri</th>\n",
              "      <th>episode_name</th>\n",
              "      <th>episode_description</th>\n",
              "      <th>duration</th>\n",
              "      <th>show_filename_prefix</th>\n",
              "      <th>episode_filename_prefix</th>\n",
              "    </tr>\n",
              "  </thead>\n",
              "  <tbody>\n",
              "    <tr>\n",
              "      <th>0</th>\n",
              "      <td>spotify:show:2NYtxEZyYelR6RMKmjfPLB</td>\n",
              "      <td>Kream in your Koffee</td>\n",
              "      <td>A 20-something blunt female takes on the world...</td>\n",
              "      <td>Katie Houle</td>\n",
              "      <td>['en']</td>\n",
              "      <td>https://anchor.fm/s/11b84b68/podcast/rss</td>\n",
              "      <td>spotify:episode:000A9sRBYdVh66csG2qEdj</td>\n",
              "      <td>1: It’s Christmas Time!</td>\n",
              "      <td>On the first ever episode of Kream in your Kof...</td>\n",
              "      <td>12.700133</td>\n",
              "      <td>show_2NYtxEZyYelR6RMKmjfPLB</td>\n",
              "      <td>000A9sRBYdVh66csG2qEdj</td>\n",
              "    </tr>\n",
              "    <tr>\n",
              "      <th>11957</th>\n",
              "      <td>spotify:show:2NYtxEZyYelR6RMKmjfPLB</td>\n",
              "      <td>Kream in your Koffee</td>\n",
              "      <td>A 20-something blunt female takes on the world...</td>\n",
              "      <td>Katie Houle</td>\n",
              "      <td>['en']</td>\n",
              "      <td>https://anchor.fm/s/11b84b68/podcast/rss</td>\n",
              "      <td>spotify:episode:0sTNg31EACSHfZlt41RHmS</td>\n",
              "      <td>2: Tan Hands Save Lives</td>\n",
              "      <td>The do’s &amp; don’ts of self-tanning. A weird con...</td>\n",
              "      <td>20.016367</td>\n",
              "      <td>show_2NYtxEZyYelR6RMKmjfPLB</td>\n",
              "      <td>0sTNg31EACSHfZlt41RHmS</td>\n",
              "    </tr>\n",
              "    <tr>\n",
              "      <th>46132</th>\n",
              "      <td>spotify:show:2NYtxEZyYelR6RMKmjfPLB</td>\n",
              "      <td>Kream in your Koffee</td>\n",
              "      <td>A 20-something blunt female takes on the world...</td>\n",
              "      <td>Katie Houle</td>\n",
              "      <td>['en']</td>\n",
              "      <td>https://anchor.fm/s/11b84b68/podcast/rss</td>\n",
              "      <td>spotify:episode:3Ny7dKZ1QHZwadslXJ8Umf</td>\n",
              "      <td>6: #BYOD (with Liz Pickles)</td>\n",
              "      <td>On this week’s episode the gorgeous Liz Pickle...</td>\n",
              "      <td>80.472617</td>\n",
              "      <td>show_2NYtxEZyYelR6RMKmjfPLB</td>\n",
              "      <td>3Ny7dKZ1QHZwadslXJ8Umf</td>\n",
              "    </tr>\n",
              "  </tbody>\n",
              "</table>\n",
              "</div>"
            ],
            "text/plain": [
              "                                  show_uri  ... episode_filename_prefix\n",
              "0      spotify:show:2NYtxEZyYelR6RMKmjfPLB  ...  000A9sRBYdVh66csG2qEdj\n",
              "11957  spotify:show:2NYtxEZyYelR6RMKmjfPLB  ...  0sTNg31EACSHfZlt41RHmS\n",
              "46132  spotify:show:2NYtxEZyYelR6RMKmjfPLB  ...  3Ny7dKZ1QHZwadslXJ8Umf\n",
              "\n",
              "[3 rows x 12 columns]"
            ]
          },
          "metadata": {
            "tags": []
          },
          "execution_count": 7
        }
      ]
    },
    {
      "cell_type": "code",
      "metadata": {
        "id": "n_rfPdMb_wG0",
        "colab_type": "code",
        "colab": {}
      },
      "source": [
        "full_dataset = pd.merge(left=podcasts_metadata, right=dataset, how='left', left_on='episode_uri', right_on='episode_id')\n",
        "del full_dataset['episode_uri']"
      ],
      "execution_count": null,
      "outputs": []
    },
    {
      "cell_type": "code",
      "metadata": {
        "id": "1iiBMu8LjVQ2",
        "colab_type": "code",
        "colab": {
          "base_uri": "https://localhost:8080/",
          "height": 564
        },
        "outputId": "49603d32-8428-4501-dde0-e75b2c774afe"
      },
      "source": [
        "full_dataset.head(5)"
      ],
      "execution_count": null,
      "outputs": [
        {
          "output_type": "execute_result",
          "data": {
            "text/html": [
              "<div>\n",
              "<style scoped>\n",
              "    .dataframe tbody tr th:only-of-type {\n",
              "        vertical-align: middle;\n",
              "    }\n",
              "\n",
              "    .dataframe tbody tr th {\n",
              "        vertical-align: top;\n",
              "    }\n",
              "\n",
              "    .dataframe thead th {\n",
              "        text-align: right;\n",
              "    }\n",
              "</style>\n",
              "<table border=\"1\" class=\"dataframe\">\n",
              "  <thead>\n",
              "    <tr style=\"text-align: right;\">\n",
              "      <th></th>\n",
              "      <th>show_uri</th>\n",
              "      <th>show_name</th>\n",
              "      <th>show_description</th>\n",
              "      <th>publisher</th>\n",
              "      <th>language</th>\n",
              "      <th>rss_link</th>\n",
              "      <th>episode_name</th>\n",
              "      <th>episode_description</th>\n",
              "      <th>duration</th>\n",
              "      <th>show_filename_prefix</th>\n",
              "      <th>episode_filename_prefix</th>\n",
              "      <th>episode_id</th>\n",
              "      <th>transcript</th>\n",
              "    </tr>\n",
              "  </thead>\n",
              "  <tbody>\n",
              "    <tr>\n",
              "      <th>0</th>\n",
              "      <td>spotify:show:2NYtxEZyYelR6RMKmjfPLB</td>\n",
              "      <td>Kream in your Koffee</td>\n",
              "      <td>A 20-something blunt female takes on the world...</td>\n",
              "      <td>Katie Houle</td>\n",
              "      <td>['en']</td>\n",
              "      <td>https://anchor.fm/s/11b84b68/podcast/rss</td>\n",
              "      <td>1: It’s Christmas Time!</td>\n",
              "      <td>On the first ever episode of Kream in your Kof...</td>\n",
              "      <td>12.700133</td>\n",
              "      <td>show_2NYtxEZyYelR6RMKmjfPLB</td>\n",
              "      <td>000A9sRBYdVh66csG2qEdj</td>\n",
              "      <td>spotify:episode:000A9sRBYdVh66csG2qEdj</td>\n",
              "      <td>Hello. Hello. Hello everyone. This is Katie a...</td>\n",
              "    </tr>\n",
              "    <tr>\n",
              "      <th>1</th>\n",
              "      <td>spotify:show:15iWCbU7QoO23EndPEO6aN</td>\n",
              "      <td>Morning Cup Of Murder</td>\n",
              "      <td>Ever wonder what murder took place on today in...</td>\n",
              "      <td>Morning Cup Of Murder</td>\n",
              "      <td>['en']</td>\n",
              "      <td>https://anchor.fm/s/b07181c/podcast/rss</td>\n",
              "      <td>The Goleta Postal Facility shootings- January ...</td>\n",
              "      <td>See something, say something. It’s a mantra ma...</td>\n",
              "      <td>6.019383</td>\n",
              "      <td>show_15iWCbU7QoO23EndPEO6aN</td>\n",
              "      <td>000HP8n3hNIfglT2wSI2cA</td>\n",
              "      <td>spotify:episode:000HP8n3hNIfglT2wSI2cA</td>\n",
              "      <td>There were two more murders 15 miles away arr...</td>\n",
              "    </tr>\n",
              "    <tr>\n",
              "      <th>2</th>\n",
              "      <td>spotify:show:6vZRgUFTYwbAA79UNCADr4</td>\n",
              "      <td>Inside The 18 : A Podcast for Goalkeepers by G...</td>\n",
              "      <td>Inside the 18 is your source for all things Go...</td>\n",
              "      <td>Inside the 18 GK Media</td>\n",
              "      <td>['en']</td>\n",
              "      <td>https://anchor.fm/s/81a072c/podcast/rss</td>\n",
              "      <td>Ep.36 - Incorporating a Singular Goalkeeping C...</td>\n",
              "      <td>Today’s episode is a sit down Michael and Omar...</td>\n",
              "      <td>43.616333</td>\n",
              "      <td>show_6vZRgUFTYwbAA79UNCADr4</td>\n",
              "      <td>001UfOruzkA3Bn1SPjcdfa</td>\n",
              "      <td>spotify:episode:001UfOruzkA3Bn1SPjcdfa</td>\n",
              "      <td>Welcome to inside the 18. Today's episode is ...</td>\n",
              "    </tr>\n",
              "    <tr>\n",
              "      <th>3</th>\n",
              "      <td>spotify:show:5BvKEjaMSuvUsGROGi2S7s</td>\n",
              "      <td>Arrowhead Live!</td>\n",
              "      <td>Your favorite podcast for everything @Chiefs! ...</td>\n",
              "      <td>Arrowhead Live!</td>\n",
              "      <td>['en-US']</td>\n",
              "      <td>https://anchor.fm/s/917dba4/podcast/rss</td>\n",
              "      <td>Episode 1: Arrowhead Live! Debut</td>\n",
              "      <td>Join us as we take a look at all current Chief...</td>\n",
              "      <td>58.189200</td>\n",
              "      <td>show_5BvKEjaMSuvUsGROGi2S7s</td>\n",
              "      <td>001i89SvIQgDuuyC53hfBm</td>\n",
              "      <td>spotify:episode:001i89SvIQgDuuyC53hfBm</td>\n",
              "      <td>Hey cheese fans before we get started. I want...</td>\n",
              "    </tr>\n",
              "    <tr>\n",
              "      <th>4</th>\n",
              "      <td>spotify:show:7w3h3umpH74veEJcbE6xf4</td>\n",
              "      <td>FBoL</td>\n",
              "      <td>The comedy podcast about toxic characters, wri...</td>\n",
              "      <td>Emily Edwards</td>\n",
              "      <td>['en']</td>\n",
              "      <td>https://www.fuckboisoflit.com/episodes?format=rss</td>\n",
              "      <td>The Lion, The Witch, And The Wardrobe - Ashley...</td>\n",
              "      <td>The modern morality tail of how to stay good f...</td>\n",
              "      <td>51.782050</td>\n",
              "      <td>show_7w3h3umpH74veEJcbE6xf4</td>\n",
              "      <td>0025RWNwe2lnp6HcnfzwzG</td>\n",
              "      <td>spotify:episode:0025RWNwe2lnp6HcnfzwzG</td>\n",
              "      <td>Sorry to interrupt the show, but I do have to...</td>\n",
              "    </tr>\n",
              "  </tbody>\n",
              "</table>\n",
              "</div>"
            ],
            "text/plain": [
              "                              show_uri  ...                                         transcript\n",
              "0  spotify:show:2NYtxEZyYelR6RMKmjfPLB  ...   Hello. Hello. Hello everyone. This is Katie a...\n",
              "1  spotify:show:15iWCbU7QoO23EndPEO6aN  ...   There were two more murders 15 miles away arr...\n",
              "2  spotify:show:6vZRgUFTYwbAA79UNCADr4  ...   Welcome to inside the 18. Today's episode is ...\n",
              "3  spotify:show:5BvKEjaMSuvUsGROGi2S7s  ...   Hey cheese fans before we get started. I want...\n",
              "4  spotify:show:7w3h3umpH74veEJcbE6xf4  ...   Sorry to interrupt the show, but I do have to...\n",
              "\n",
              "[5 rows x 13 columns]"
            ]
          },
          "metadata": {
            "tags": []
          },
          "execution_count": 9
        }
      ]
    },
    {
      "cell_type": "markdown",
      "metadata": {
        "id": "itYxILiZla6V",
        "colab_type": "text"
      },
      "source": [
        "#Recreate Baselines (TextRank, LexRank, Lsa)"
      ]
    },
    {
      "cell_type": "code",
      "metadata": {
        "id": "9Edi6kIdjYfq",
        "colab_type": "code",
        "colab": {
          "base_uri": "https://localhost:8080/",
          "height": 34
        },
        "outputId": "7b51e517-b097-45e3-bfd8-be40eee04487"
      },
      "source": [
        "one_fifty_gold_summaries = full_dataset.loc[full_dataset[\"episode_id\"].isin(gold_summaries['episode id'])]\n",
        "len(one_fifty_gold_summaries)"
      ],
      "execution_count": null,
      "outputs": [
        {
          "output_type": "execute_result",
          "data": {
            "text/plain": [
              "150"
            ]
          },
          "metadata": {
            "tags": []
          },
          "execution_count": 10
        }
      ]
    },
    {
      "cell_type": "code",
      "metadata": {
        "id": "VIJYEEypl4Qn",
        "colab_type": "code",
        "colab": {
          "base_uri": "https://localhost:8080/",
          "height": 725
        },
        "outputId": "e692985f-291b-4dbe-c05c-f2ccdf495e01"
      },
      "source": [
        "one_fifty_gold_summaries = one_fifty_gold_summaries[['episode_id', 'episode_name', 'episode_description', 'transcript']]\n",
        "one_fifty_gold_summaries"
      ],
      "execution_count": null,
      "outputs": [
        {
          "output_type": "execute_result",
          "data": {
            "text/html": [
              "<div>\n",
              "<style scoped>\n",
              "    .dataframe tbody tr th:only-of-type {\n",
              "        vertical-align: middle;\n",
              "    }\n",
              "\n",
              "    .dataframe tbody tr th {\n",
              "        vertical-align: top;\n",
              "    }\n",
              "\n",
              "    .dataframe thead th {\n",
              "        text-align: right;\n",
              "    }\n",
              "</style>\n",
              "<table border=\"1\" class=\"dataframe\">\n",
              "  <thead>\n",
              "    <tr style=\"text-align: right;\">\n",
              "      <th></th>\n",
              "      <th>episode_id</th>\n",
              "      <th>episode_name</th>\n",
              "      <th>episode_description</th>\n",
              "      <th>transcript</th>\n",
              "    </tr>\n",
              "  </thead>\n",
              "  <tbody>\n",
              "    <tr>\n",
              "      <th>1926</th>\n",
              "      <td>spotify:episode:08hXUWN6aOnHULXrqMiwTi</td>\n",
              "      <td>Recruiting Secrets From a MLM Recruiting Monst...</td>\n",
              "      <td>If you want to start mastering recruiting whic...</td>\n",
              "      <td>Hello everybody. What's going on in this Jess...</td>\n",
              "    </tr>\n",
              "    <tr>\n",
              "      <th>2692</th>\n",
              "      <td>spotify:episode:0CExTNH4LFqp1ec1mhTd4I</td>\n",
              "      <td>A Public Service Announcement from the mrbrown...</td>\n",
              "      <td>Don't be a silent victim of crime. a parody fr...</td>\n",
              "      <td>Ladies, have you been molested don't be a vic...</td>\n",
              "    </tr>\n",
              "    <tr>\n",
              "      <th>2704</th>\n",
              "      <td>spotify:episode:0CGkzBarXCoYA24w5buABS</td>\n",
              "      <td>Favorite parts!!!</td>\n",
              "      <td>We will share some of our favorite parts of Ha...</td>\n",
              "      <td>Hello everybody, welcome back to butter girls...</td>\n",
              "    </tr>\n",
              "    <tr>\n",
              "      <th>2943</th>\n",
              "      <td>spotify:episode:0DKARHBAz6GNwwIBz9Y4Sk</td>\n",
              "      <td>Fear? I Don't Know Her!</td>\n",
              "      <td>Hey eaters!! To commemorate spooky season, thi...</td>\n",
              "      <td>Hey heaters, it's Daisy and Abby and we are t...</td>\n",
              "    </tr>\n",
              "    <tr>\n",
              "      <th>3463</th>\n",
              "      <td>spotify:episode:0Fg2g7eNnVBUj9FmtN8uKd</td>\n",
              "      <td>Unschool -001 /Introduction</td>\n",
              "      <td>Introduction | Show Formalities | What to Expe...</td>\n",
              "      <td>Hey, what's up, this is Uncle Sharma from the...</td>\n",
              "    </tr>\n",
              "    <tr>\n",
              "      <th>...</th>\n",
              "      <td>...</td>\n",
              "      <td>...</td>\n",
              "      <td>...</td>\n",
              "      <td>...</td>\n",
              "    </tr>\n",
              "    <tr>\n",
              "      <th>99028</th>\n",
              "      <td>spotify:episode:7JdHnC4Jm05d7gsvpt2iMN</td>\n",
              "      <td>Self Guided 30 Minute Meditation | Meditation ...</td>\n",
              "      <td>Learn to meditate by practicing your own medit...</td>\n",
              "      <td>Thank you for joining me for another piece pr...</td>\n",
              "    </tr>\n",
              "    <tr>\n",
              "      <th>99372</th>\n",
              "      <td>spotify:episode:7LBJuMprDt6nN8lWZhw1ZN</td>\n",
              "      <td>The Lady Lemur</td>\n",
              "      <td>This week, John &amp; Kat are joined by the Lady L...</td>\n",
              "      <td>Welcome to the Leaky nib a podcast about pens...</td>\n",
              "    </tr>\n",
              "    <tr>\n",
              "      <th>100490</th>\n",
              "      <td>spotify:episode:7dEbuTgXCXjIufsfgyohnI</td>\n",
              "      <td>1. Pilot</td>\n",
              "      <td>Bruce Forsyth, Sherlock's hair and time travel...</td>\n",
              "      <td>I've got something very excited to tell you t...</td>\n",
              "    </tr>\n",
              "    <tr>\n",
              "      <th>104281</th>\n",
              "      <td>spotify:episode:7uv6JrgV01fiecvCgxRMy8</td>\n",
              "      <td>Best Organic Dessert Recipes</td>\n",
              "      <td>Comfort Foods for Cold Nights</td>\n",
              "      <td>Ingredients bolognese sauce 1 large onion coa...</td>\n",
              "    </tr>\n",
              "    <tr>\n",
              "      <th>105261</th>\n",
              "      <td>spotify:episode:7zd15Qptaa1rxz4QCbHotX</td>\n",
              "      <td>BREAKING EMERGENCY POD: TYLER BARISHAW LIKELY ...</td>\n",
              "      <td>BREAKING EMERGENCY POD: TYLER BARISHAW LIKELY ...</td>\n",
              "      <td>Welcome to the good life.  Welcome to the goo...</td>\n",
              "    </tr>\n",
              "  </tbody>\n",
              "</table>\n",
              "<p>150 rows × 4 columns</p>\n",
              "</div>"
            ],
            "text/plain": [
              "                                    episode_id  ...                                         transcript\n",
              "1926    spotify:episode:08hXUWN6aOnHULXrqMiwTi  ...   Hello everybody. What's going on in this Jess...\n",
              "2692    spotify:episode:0CExTNH4LFqp1ec1mhTd4I  ...   Ladies, have you been molested don't be a vic...\n",
              "2704    spotify:episode:0CGkzBarXCoYA24w5buABS  ...   Hello everybody, welcome back to butter girls...\n",
              "2943    spotify:episode:0DKARHBAz6GNwwIBz9Y4Sk  ...   Hey heaters, it's Daisy and Abby and we are t...\n",
              "3463    spotify:episode:0Fg2g7eNnVBUj9FmtN8uKd  ...   Hey, what's up, this is Uncle Sharma from the...\n",
              "...                                        ...  ...                                                ...\n",
              "99028   spotify:episode:7JdHnC4Jm05d7gsvpt2iMN  ...   Thank you for joining me for another piece pr...\n",
              "99372   spotify:episode:7LBJuMprDt6nN8lWZhw1ZN  ...   Welcome to the Leaky nib a podcast about pens...\n",
              "100490  spotify:episode:7dEbuTgXCXjIufsfgyohnI  ...   I've got something very excited to tell you t...\n",
              "104281  spotify:episode:7uv6JrgV01fiecvCgxRMy8  ...   Ingredients bolognese sauce 1 large onion coa...\n",
              "105261  spotify:episode:7zd15Qptaa1rxz4QCbHotX  ...   Welcome to the good life.  Welcome to the goo...\n",
              "\n",
              "[150 rows x 4 columns]"
            ]
          },
          "metadata": {
            "tags": []
          },
          "execution_count": 11
        }
      ]
    },
    {
      "cell_type": "code",
      "metadata": {
        "id": "CnjX297Vpt7_",
        "colab_type": "code",
        "colab": {
          "base_uri": "https://localhost:8080/",
          "height": 241
        },
        "outputId": "ff6035b9-3704-4cb2-df9a-ec00b3731d6c"
      },
      "source": [
        "!pip install sumy"
      ],
      "execution_count": null,
      "outputs": [
        {
          "output_type": "stream",
          "text": [
            "Requirement already satisfied: sumy in /usr/local/lib/python3.6/dist-packages (0.8.1)\n",
            "Requirement already satisfied: pycountry>=18.2.23 in /usr/local/lib/python3.6/dist-packages (from sumy) (20.7.3)\n",
            "Requirement already satisfied: nltk>=3.0.2 in /usr/local/lib/python3.6/dist-packages (from sumy) (3.2.5)\n",
            "Requirement already satisfied: breadability>=0.1.20 in /usr/local/lib/python3.6/dist-packages (from sumy) (0.1.20)\n",
            "Requirement already satisfied: docopt<0.7,>=0.6.1 in /usr/local/lib/python3.6/dist-packages (from sumy) (0.6.2)\n",
            "Requirement already satisfied: requests>=2.7.0 in /usr/local/lib/python3.6/dist-packages (from sumy) (2.23.0)\n",
            "Requirement already satisfied: six in /usr/local/lib/python3.6/dist-packages (from nltk>=3.0.2->sumy) (1.15.0)\n",
            "Requirement already satisfied: lxml>=2.0 in /usr/local/lib/python3.6/dist-packages (from breadability>=0.1.20->sumy) (4.2.6)\n",
            "Requirement already satisfied: chardet in /usr/local/lib/python3.6/dist-packages (from breadability>=0.1.20->sumy) (3.0.4)\n",
            "Requirement already satisfied: certifi>=2017.4.17 in /usr/local/lib/python3.6/dist-packages (from requests>=2.7.0->sumy) (2020.6.20)\n",
            "Requirement already satisfied: urllib3!=1.25.0,!=1.25.1,<1.26,>=1.21.1 in /usr/local/lib/python3.6/dist-packages (from requests>=2.7.0->sumy) (1.24.3)\n",
            "Requirement already satisfied: idna<3,>=2.5 in /usr/local/lib/python3.6/dist-packages (from requests>=2.7.0->sumy) (2.10)\n"
          ],
          "name": "stdout"
        }
      ]
    },
    {
      "cell_type": "code",
      "metadata": {
        "id": "f-Z8Ft5dsBwe",
        "colab_type": "code",
        "colab": {
          "base_uri": "https://localhost:8080/",
          "height": 68
        },
        "outputId": "56039c32-6c31-4ab3-e85c-60d43e70929a"
      },
      "source": [
        "!python sumy_example.py"
      ],
      "execution_count": null,
      "outputs": [
        {
          "output_type": "stream",
          "text": [
            "[nltk_data] Downloading package punkt to /root/nltk_data...\n",
            "[nltk_data]   Package punkt is already up-to-date!\n",
            "This is a sample sentence. My laptop is on my bed. \n"
          ],
          "name": "stdout"
        }
      ]
    },
    {
      "cell_type": "code",
      "metadata": {
        "id": "jsps2PCvq6AB",
        "colab_type": "code",
        "colab": {
          "base_uri": "https://localhost:8080/",
          "height": 156
        },
        "outputId": "4ec63d82-ebe5-4f34-cc18-f0a1535d012a"
      },
      "source": [
        "from sumy_example import summarize\n",
        "\n",
        "one_fifty_gold_summaries['textrank_summary'] = one_fifty_gold_summaries.apply(lambda row: summarize(row['transcript'], 'text_rank'), axis=1)\n",
        "one_fifty_gold_summaries['lexrank_summary'] = one_fifty_gold_summaries.apply(lambda row: summarize(row['transcript'], 'lex_rank'), axis=1)\n",
        "one_fifty_gold_summaries['lsa_summary'] = one_fifty_gold_summaries.apply(lambda row: summarize(row['transcript'], 'lsa'), axis=1)"
      ],
      "execution_count": null,
      "outputs": [
        {
          "output_type": "stream",
          "text": [
            "[nltk_data] Downloading package punkt to /root/nltk_data...\n",
            "[nltk_data]   Package punkt is already up-to-date!\n",
            "This is a sample sentence. My laptop is on my bed. \n"
          ],
          "name": "stdout"
        },
        {
          "output_type": "stream",
          "text": [
            "/usr/local/lib/python3.6/dist-packages/sumy/summarizers/lsa.py:76: UserWarning: Number of words (40) is lower than number of sentences (157). LSA algorithm may not work properly.\n",
            "  warn(message % (words_count, sentences_count))\n",
            "/usr/local/lib/python3.6/dist-packages/sumy/summarizers/lsa.py:76: UserWarning: Number of words (1076) is lower than number of sentences (1149). LSA algorithm may not work properly.\n",
            "  warn(message % (words_count, sentences_count))\n"
          ],
          "name": "stderr"
        }
      ]
    },
    {
      "cell_type": "code",
      "metadata": {
        "id": "EttJqLagrPid",
        "colab_type": "code",
        "colab": {
          "base_uri": "https://localhost:8080/",
          "height": 120
        },
        "outputId": "81a303e0-2914-4e5c-e34e-c5e37febfbd7"
      },
      "source": [
        "one_fifty_gold_summaries.iloc[3]['textrank_summary']"
      ],
      "execution_count": null,
      "outputs": [
        {
          "output_type": "execute_result",
          "data": {
            "application/vnd.google.colaboratory.intrinsic+json": {
              "type": "string"
            },
            "text/plain": [
              "\"Yeah, and it gives you opportunity to be that courageous person where if you weren't afraid of something you would never know that it was actually like something you could have done and then they talked kind of talk about the fight or flight response and it's the eye  Dia of fear keeps us safe in a lot of situations like you and I are both very aware of where we are at night and looking around to different people and making sure we're safe and that fear Keeps Us Alive everyday. Yeah before you can actually show forth, which is one of the hardest parts of overcoming fear because admitting fear to yourself is scary foot and I got anything for your own fear to um, yeah. \""
            ]
          },
          "metadata": {
            "tags": []
          },
          "execution_count": 15
        }
      ]
    },
    {
      "cell_type": "code",
      "metadata": {
        "id": "5JmzVKoRyCEK",
        "colab_type": "code",
        "colab": {
          "base_uri": "https://localhost:8080/",
          "height": 69
        },
        "outputId": "7b3bf8e0-224e-4aa7-aa23-a9c9ff21be0a"
      },
      "source": [
        "one_fifty_gold_summaries.iloc[3]['lexrank_summary']"
      ],
      "execution_count": null,
      "outputs": [
        {
          "output_type": "execute_result",
          "data": {
            "application/vnd.google.colaboratory.intrinsic+json": {
              "type": "string"
            },
            "text/plain": [
              "\"I kind of get that fear also a side note of what I'm afraid of kidnap being kidnapped is probably the biggest one but in a much more real sense, it's going like I'm not accomplishing enough for giving enough that really ties in with the time thing because it says it yeah, we should be having something done. And what's my fear? \""
            ]
          },
          "metadata": {
            "tags": []
          },
          "execution_count": 16
        }
      ]
    },
    {
      "cell_type": "code",
      "metadata": {
        "id": "FSk5Qjo64-Jt",
        "colab_type": "code",
        "colab": {
          "base_uri": "https://localhost:8080/",
          "height": 86
        },
        "outputId": "b6bf89d6-abd9-48f8-d023-a959dcd79ff4"
      },
      "source": [
        "one_fifty_gold_summaries.iloc[3]['lsa_summary']"
      ],
      "execution_count": null,
      "outputs": [
        {
          "output_type": "execute_result",
          "data": {
            "application/vnd.google.colaboratory.intrinsic+json": {
              "type": "string"
            },
            "text/plain": [
              "\"Yeah, so the idea of habituation  In the psychology today article talks about how it's when our nervous system returns to a more comfortable state, which is a good thing. When you happen to be in a very dangerous situation, once you return to this state of habituation, then you know that your body has calmed down but then we don't go outside and explore to a mode and we can go on autopilot and then then we're not as aware that we're doing it because we're just naturally doing it. \""
            ]
          },
          "metadata": {
            "tags": []
          },
          "execution_count": 17
        }
      ]
    },
    {
      "cell_type": "code",
      "metadata": {
        "id": "6EeShx8xBuWh",
        "colab_type": "code",
        "colab": {
          "base_uri": "https://localhost:8080/",
          "height": 35
        },
        "outputId": "a504ce84-bf1e-4942-aca8-1f2447db9341"
      },
      "source": [
        "one_fifty_gold_summaries.iloc[3]['episode_description']"
      ],
      "execution_count": null,
      "outputs": [
        {
          "output_type": "execute_result",
          "data": {
            "application/vnd.google.colaboratory.intrinsic+json": {
              "type": "string"
            },
            "text/plain": [
              "\"Hey eaters!! To commemorate spooky season, this week's podcast will make you reevaluate your deepest darkest fears! \""
            ]
          },
          "metadata": {
            "tags": []
          },
          "execution_count": 18
        }
      ]
    },
    {
      "cell_type": "code",
      "metadata": {
        "id": "vzBLU5-VB89C",
        "colab_type": "code",
        "colab": {}
      },
      "source": [
        ""
      ],
      "execution_count": null,
      "outputs": []
    }
  ]
}