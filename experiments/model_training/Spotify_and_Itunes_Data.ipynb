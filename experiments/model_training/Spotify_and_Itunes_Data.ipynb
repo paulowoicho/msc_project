{
  "nbformat": 4,
  "nbformat_minor": 0,
  "metadata": {
    "colab": {
      "name": "Spotify and Itunes Data",
      "provenance": []
    },
    "kernelspec": {
      "name": "python3",
      "display_name": "Python 3"
    }
  },
  "cells": [
    {
      "cell_type": "code",
      "metadata": {
        "id": "020dK4Vw6XVk",
        "colab_type": "code",
        "colab": {}
      },
      "source": [
        "from google.colab import auth\n",
        "auth.authenticate_user()"
      ],
      "execution_count": null,
      "outputs": []
    },
    {
      "cell_type": "code",
      "metadata": {
        "id": "EpbMklZ56m92",
        "colab_type": "code",
        "colab": {
          "base_uri": "https://localhost:8080/",
          "height": 136
        },
        "outputId": "5772165f-10c1-4735-c5a3-7479af6d24ff"
      },
      "source": [
        "project_id = 'test-281700'\n",
        "!gcloud config set project {project_id}\n",
        "!gsutil ls"
      ],
      "execution_count": null,
      "outputs": [
        {
          "output_type": "stream",
          "text": [
            "Updated property [core/project].\n",
            "\n",
            "\n",
            "To take a quick anonymous survey, run:\n",
            "  $ gcloud survey\n",
            "\n",
            "gs://spotify_asr_dataset/\n"
          ],
          "name": "stdout"
        }
      ]
    },
    {
      "cell_type": "code",
      "metadata": {
        "id": "M-JR9s_l6wjY",
        "colab_type": "code",
        "colab": {
          "base_uri": "https://localhost:8080/",
          "height": 119
        },
        "outputId": "603fa0bc-d1c0-4c5e-e2ae-9b05c8e1bd17"
      },
      "source": [
        "bucket_name = 'spotify_asr_dataset'\n",
        "\n",
        "#download metadata for episodes\n",
        "!gsutil -m cp -r gs://{bucket_name}/metadata.tsv /content/\n",
        "\n",
        "#download itunes data\n",
        "!gsutil -m cp -r gs://{bucket_name}/episodes.csv /content/"
      ],
      "execution_count": null,
      "outputs": [
        {
          "output_type": "stream",
          "text": [
            "Copying gs://spotify_asr_dataset/metadata.tsv...\n",
            "| [1/1 files][112.2 MiB/112.2 MiB] 100% Done                                    \n",
            "Operation completed over 1 objects/112.2 MiB.                                    \n",
            "Copying gs://spotify_asr_dataset/episodes.csv...\n",
            "/ [1/1 files][  1.2 GiB/  1.2 GiB] 100% Done  35.2 MiB/s ETA 00:00:00           \n",
            "Operation completed over 1 objects/1.2 GiB.                                      \n"
          ],
          "name": "stdout"
        }
      ]
    },
    {
      "cell_type": "code",
      "metadata": {
        "id": "MmUI3fIY7JA4",
        "colab_type": "code",
        "colab": {}
      },
      "source": [
        "import pandas as pd\n",
        "\n",
        "metadata = pd.read_csv('metadata.tsv', sep='\\t')\n",
        "itunes_episodes = pd.read_csv('episodes.csv')\n",
        "itunes_shows = pd.read_csv('shows.csv')"
      ],
      "execution_count": null,
      "outputs": []
    },
    {
      "cell_type": "code",
      "metadata": {
        "id": "jwtUw51s7pZA",
        "colab_type": "code",
        "colab": {
          "base_uri": "https://localhost:8080/",
          "height": 216
        },
        "outputId": "9aa8c25b-4d9a-4b16-d7f4-d9212a8ee7d5"
      },
      "source": [
        "metadata.head(2)"
      ],
      "execution_count": null,
      "outputs": [
        {
          "output_type": "execute_result",
          "data": {
            "text/html": [
              "<div>\n",
              "<style scoped>\n",
              "    .dataframe tbody tr th:only-of-type {\n",
              "        vertical-align: middle;\n",
              "    }\n",
              "\n",
              "    .dataframe tbody tr th {\n",
              "        vertical-align: top;\n",
              "    }\n",
              "\n",
              "    .dataframe thead th {\n",
              "        text-align: right;\n",
              "    }\n",
              "</style>\n",
              "<table border=\"1\" class=\"dataframe\">\n",
              "  <thead>\n",
              "    <tr style=\"text-align: right;\">\n",
              "      <th></th>\n",
              "      <th>show_uri</th>\n",
              "      <th>show_name</th>\n",
              "      <th>show_description</th>\n",
              "      <th>publisher</th>\n",
              "      <th>language</th>\n",
              "      <th>rss_link</th>\n",
              "      <th>episode_uri</th>\n",
              "      <th>episode_name</th>\n",
              "      <th>episode_description</th>\n",
              "      <th>duration</th>\n",
              "      <th>show_filename_prefix</th>\n",
              "      <th>episode_filename_prefix</th>\n",
              "    </tr>\n",
              "  </thead>\n",
              "  <tbody>\n",
              "    <tr>\n",
              "      <th>0</th>\n",
              "      <td>spotify:show:2NYtxEZyYelR6RMKmjfPLB</td>\n",
              "      <td>Kream in your Koffee</td>\n",
              "      <td>A 20-something blunt female takes on the world...</td>\n",
              "      <td>Katie Houle</td>\n",
              "      <td>['en']</td>\n",
              "      <td>https://anchor.fm/s/11b84b68/podcast/rss</td>\n",
              "      <td>spotify:episode:000A9sRBYdVh66csG2qEdj</td>\n",
              "      <td>1: It’s Christmas Time!</td>\n",
              "      <td>On the first ever episode of Kream in your Kof...</td>\n",
              "      <td>12.700133</td>\n",
              "      <td>show_2NYtxEZyYelR6RMKmjfPLB</td>\n",
              "      <td>000A9sRBYdVh66csG2qEdj</td>\n",
              "    </tr>\n",
              "    <tr>\n",
              "      <th>1</th>\n",
              "      <td>spotify:show:15iWCbU7QoO23EndPEO6aN</td>\n",
              "      <td>Morning Cup Of Murder</td>\n",
              "      <td>Ever wonder what murder took place on today in...</td>\n",
              "      <td>Morning Cup Of Murder</td>\n",
              "      <td>['en']</td>\n",
              "      <td>https://anchor.fm/s/b07181c/podcast/rss</td>\n",
              "      <td>spotify:episode:000HP8n3hNIfglT2wSI2cA</td>\n",
              "      <td>The Goleta Postal Facility shootings- January ...</td>\n",
              "      <td>See something, say something. It’s a mantra ma...</td>\n",
              "      <td>6.019383</td>\n",
              "      <td>show_15iWCbU7QoO23EndPEO6aN</td>\n",
              "      <td>000HP8n3hNIfglT2wSI2cA</td>\n",
              "    </tr>\n",
              "  </tbody>\n",
              "</table>\n",
              "</div>"
            ],
            "text/plain": [
              "                              show_uri  ... episode_filename_prefix\n",
              "0  spotify:show:2NYtxEZyYelR6RMKmjfPLB  ...  000A9sRBYdVh66csG2qEdj\n",
              "1  spotify:show:15iWCbU7QoO23EndPEO6aN  ...  000HP8n3hNIfglT2wSI2cA\n",
              "\n",
              "[2 rows x 12 columns]"
            ]
          },
          "metadata": {
            "tags": []
          },
          "execution_count": 30
        }
      ]
    },
    {
      "cell_type": "code",
      "metadata": {
        "id": "t8jXYMJP76er",
        "colab_type": "code",
        "colab": {
          "base_uri": "https://localhost:8080/",
          "height": 352
        },
        "outputId": "ac2929c0-2160-42bc-8fdd-15f04312ff5a"
      },
      "source": [
        "itunes_episodes.head(2)"
      ],
      "execution_count": null,
      "outputs": [
        {
          "output_type": "execute_result",
          "data": {
            "text/html": [
              "<div>\n",
              "<style scoped>\n",
              "    .dataframe tbody tr th:only-of-type {\n",
              "        vertical-align: middle;\n",
              "    }\n",
              "\n",
              "    .dataframe tbody tr th {\n",
              "        vertical-align: top;\n",
              "    }\n",
              "\n",
              "    .dataframe thead th {\n",
              "        text-align: right;\n",
              "    }\n",
              "</style>\n",
              "<table border=\"1\" class=\"dataframe\">\n",
              "  <thead>\n",
              "    <tr style=\"text-align: right;\">\n",
              "      <th></th>\n",
              "      <th>id</th>\n",
              "      <th>show_id</th>\n",
              "      <th>title</th>\n",
              "      <th>link</th>\n",
              "      <th>guid</th>\n",
              "      <th>subtitle</th>\n",
              "      <th>description</th>\n",
              "      <th>summary</th>\n",
              "      <th>author</th>\n",
              "      <th>audio_url</th>\n",
              "      <th>audio_file_size</th>\n",
              "      <th>audio_mime_type</th>\n",
              "      <th>category</th>\n",
              "      <th>explicit</th>\n",
              "      <th>length</th>\n",
              "      <th>pub_date</th>\n",
              "      <th>keywords</th>\n",
              "    </tr>\n",
              "  </thead>\n",
              "  <tbody>\n",
              "    <tr>\n",
              "      <th>0</th>\n",
              "      <td>0000209c-904f-3794-a8d7-283a70cf993c</td>\n",
              "      <td>8ab10fd5-1acb-330e-be52-beebf19f0703</td>\n",
              "      <td>DJ DA KID QUEST MARCH 14TH MIXSHOW LIVE ON MIX...</td>\n",
              "      <td>https://www.podomatic.com/podcasts/teamosmnetw...</td>\n",
              "      <td>http://teamosmnetwork.podomatic.com/entry/2008...</td>\n",
              "      <td>DJ THA KID QUEST INTRO 9TH WARD FT JD - ADD ME...</td>\n",
              "      <td>&lt;img src=\"http://assets.podomatic.net/ts/e7/04...</td>\n",
              "      <td>DJ THA KID QUEST INTRO 9TH WARD FT JD - ADD ME...</td>\n",
              "      <td>NaN</td>\n",
              "      <td>http://teamosmnetwork.podOmatic.com/enclosure/...</td>\n",
              "      <td>81099614</td>\n",
              "      <td>audio/mpeg</td>\n",
              "      <td>NaN</td>\n",
              "      <td>1</td>\n",
              "      <td>5571</td>\n",
              "      <td>2008-03-19T17:21:46</td>\n",
              "      <td>2pac,97,akon,ali,amazing,andre,ashanti,autogra...</td>\n",
              "    </tr>\n",
              "    <tr>\n",
              "      <th>1</th>\n",
              "      <td>000020d5-40ec-351e-aa7a-e8af775de245</td>\n",
              "      <td>16f67b61-d35c-38fa-9bfb-36146d2be45b</td>\n",
              "      <td>Back To Goa - Kameleon part 2 (Archaic Revival)</td>\n",
              "      <td>http://max99.libsyn.com/back-to-goa-kameleon-p...</td>\n",
              "      <td>be56007c5636418ce74c58b75dade7f3</td>\n",
              "      <td>Special part 2 of 2 of Back To Goa Pangea spec...</td>\n",
              "      <td>&lt;p style=\"margin: 0.0px 0.0px 0.0px 0.0px; fon...</td>\n",
              "      <td>NaN</td>\n",
              "      <td>NaN</td>\n",
              "      <td>http://traffic.libsyn.com/max99/Back_To_Goa_-_...</td>\n",
              "      <td>189289362</td>\n",
              "      <td>audio/mpeg</td>\n",
              "      <td>NaN</td>\n",
              "      <td>0</td>\n",
              "      <td>1243</td>\n",
              "      <td>2011-10-08T21:15:00</td>\n",
              "      <td>to,back,trance,pangea,goa,psy,kameleon</td>\n",
              "    </tr>\n",
              "  </tbody>\n",
              "</table>\n",
              "</div>"
            ],
            "text/plain": [
              "                                     id  ...                                           keywords\n",
              "0  0000209c-904f-3794-a8d7-283a70cf993c  ...  2pac,97,akon,ali,amazing,andre,ashanti,autogra...\n",
              "1  000020d5-40ec-351e-aa7a-e8af775de245  ...             to,back,trance,pangea,goa,psy,kameleon\n",
              "\n",
              "[2 rows x 17 columns]"
            ]
          },
          "metadata": {
            "tags": []
          },
          "execution_count": 31
        }
      ]
    },
    {
      "cell_type": "code",
      "metadata": {
        "id": "A1R0-sesDOdU",
        "colab_type": "code",
        "colab": {
          "base_uri": "https://localhost:8080/",
          "height": 301
        },
        "outputId": "eaf54d2b-0fdf-44a5-e1b8-3d46c388c6a2"
      },
      "source": [
        "itunes_shows.head(2)"
      ],
      "execution_count": null,
      "outputs": [
        {
          "output_type": "execute_result",
          "data": {
            "text/html": [
              "<div>\n",
              "<style scoped>\n",
              "    .dataframe tbody tr th:only-of-type {\n",
              "        vertical-align: middle;\n",
              "    }\n",
              "\n",
              "    .dataframe tbody tr th {\n",
              "        vertical-align: top;\n",
              "    }\n",
              "\n",
              "    .dataframe thead th {\n",
              "        text-align: right;\n",
              "    }\n",
              "</style>\n",
              "<table border=\"1\" class=\"dataframe\">\n",
              "  <thead>\n",
              "    <tr style=\"text-align: right;\">\n",
              "      <th></th>\n",
              "      <th>id</th>\n",
              "      <th>feed_url</th>\n",
              "      <th>title</th>\n",
              "      <th>subtitle</th>\n",
              "      <th>description</th>\n",
              "      <th>summary</th>\n",
              "      <th>author</th>\n",
              "      <th>email</th>\n",
              "      <th>link</th>\n",
              "      <th>language</th>\n",
              "      <th>explicit</th>\n",
              "      <th>image</th>\n",
              "      <th>category</th>\n",
              "      <th>subcategory</th>\n",
              "      <th>created_at</th>\n",
              "      <th>last_build_date</th>\n",
              "    </tr>\n",
              "  </thead>\n",
              "  <tbody>\n",
              "    <tr>\n",
              "      <th>0</th>\n",
              "      <td>0002da5f-49a2-31ba-b44c-cdeabdf113cb</td>\n",
              "      <td>http://www.cbc.ca/podcasting/includes/dispatch...</td>\n",
              "      <td>Dispatches from CBC Radio</td>\n",
              "      <td>NaN</td>\n",
              "      <td>CBC Radio's Dispatches host Rick MacInnes-Rae ...</td>\n",
              "      <td>CBC Radio's Dispatches host Rick MacInnes-Rae ...</td>\n",
              "      <td>CBC Radio</td>\n",
              "      <td>podcasting@cbc.ca</td>\n",
              "      <td>http://www.cbc.ca/podcasting</td>\n",
              "      <td>en-ca</td>\n",
              "      <td>0</td>\n",
              "      <td>http://www.cbc.ca/podcasting/images/promo-disp...</td>\n",
              "      <td>News &amp; Politics</td>\n",
              "      <td>Public Radio</td>\n",
              "      <td>2016-11-27T03:15:54</td>\n",
              "      <td>2016-11-27T03:15:54</td>\n",
              "    </tr>\n",
              "    <tr>\n",
              "      <th>1</th>\n",
              "      <td>00044845-beb8-35f3-99e2-01dbcfb6eb63</td>\n",
              "      <td>http://everydayissaturday.com/feed/podcast/</td>\n",
              "      <td>Motivation | Inspiration| Success with Entrepr...</td>\n",
              "      <td>Motivation - Inspiration - Success - Mindset -...</td>\n",
              "      <td>Sam Crowley delivers million dollar motivation...</td>\n",
              "      <td>Sam Crowley delivers million dollar motivation...</td>\n",
              "      <td>Sam Crowley</td>\n",
              "      <td>sam@everydayissaturday.com</td>\n",
              "      <td>http://everydayissaturday.com</td>\n",
              "      <td>en-us</td>\n",
              "      <td>0</td>\n",
              "      <td>http://everydayissaturday.com/wp-content/uploa...</td>\n",
              "      <td>Business</td>\n",
              "      <td>Business</td>\n",
              "      <td>2016-11-26T19:11:59</td>\n",
              "      <td>2016-11-21T14:19:34</td>\n",
              "    </tr>\n",
              "  </tbody>\n",
              "</table>\n",
              "</div>"
            ],
            "text/plain": [
              "                                     id  ...      last_build_date\n",
              "0  0002da5f-49a2-31ba-b44c-cdeabdf113cb  ...  2016-11-27T03:15:54\n",
              "1  00044845-beb8-35f3-99e2-01dbcfb6eb63  ...  2016-11-21T14:19:34\n",
              "\n",
              "[2 rows x 16 columns]"
            ]
          },
          "metadata": {
            "tags": []
          },
          "execution_count": 32
        }
      ]
    },
    {
      "cell_type": "code",
      "metadata": {
        "id": "T35ez84uEG70",
        "colab_type": "code",
        "colab": {}
      },
      "source": [
        "itunes_data = itunes_episodes.merge(itunes_shows, left_on='show_id', right_on='id')"
      ],
      "execution_count": null,
      "outputs": []
    },
    {
      "cell_type": "code",
      "metadata": {
        "id": "-RZ0bI3dE2cK",
        "colab_type": "code",
        "colab": {
          "base_uri": "https://localhost:8080/",
          "height": 369
        },
        "outputId": "fb41525f-fed0-4ff5-c151-0b304251eba6"
      },
      "source": [
        "itunes_data.head(2)"
      ],
      "execution_count": null,
      "outputs": [
        {
          "output_type": "execute_result",
          "data": {
            "text/html": [
              "<div>\n",
              "<style scoped>\n",
              "    .dataframe tbody tr th:only-of-type {\n",
              "        vertical-align: middle;\n",
              "    }\n",
              "\n",
              "    .dataframe tbody tr th {\n",
              "        vertical-align: top;\n",
              "    }\n",
              "\n",
              "    .dataframe thead th {\n",
              "        text-align: right;\n",
              "    }\n",
              "</style>\n",
              "<table border=\"1\" class=\"dataframe\">\n",
              "  <thead>\n",
              "    <tr style=\"text-align: right;\">\n",
              "      <th></th>\n",
              "      <th>id_x</th>\n",
              "      <th>show_id</th>\n",
              "      <th>title_x</th>\n",
              "      <th>link_x</th>\n",
              "      <th>guid</th>\n",
              "      <th>subtitle_x</th>\n",
              "      <th>description_x</th>\n",
              "      <th>summary_x</th>\n",
              "      <th>author_x</th>\n",
              "      <th>audio_url</th>\n",
              "      <th>audio_file_size</th>\n",
              "      <th>audio_mime_type</th>\n",
              "      <th>category_x</th>\n",
              "      <th>explicit_x</th>\n",
              "      <th>length</th>\n",
              "      <th>pub_date</th>\n",
              "      <th>keywords</th>\n",
              "      <th>id_y</th>\n",
              "      <th>feed_url</th>\n",
              "      <th>title_y</th>\n",
              "      <th>subtitle_y</th>\n",
              "      <th>description_y</th>\n",
              "      <th>summary_y</th>\n",
              "      <th>author_y</th>\n",
              "      <th>email</th>\n",
              "      <th>link_y</th>\n",
              "      <th>language</th>\n",
              "      <th>explicit_y</th>\n",
              "      <th>image</th>\n",
              "      <th>category_y</th>\n",
              "      <th>subcategory</th>\n",
              "      <th>created_at</th>\n",
              "      <th>last_build_date</th>\n",
              "    </tr>\n",
              "  </thead>\n",
              "  <tbody>\n",
              "    <tr>\n",
              "      <th>0</th>\n",
              "      <td>0000209c-904f-3794-a8d7-283a70cf993c</td>\n",
              "      <td>8ab10fd5-1acb-330e-be52-beebf19f0703</td>\n",
              "      <td>DJ DA KID QUEST MARCH 14TH MIXSHOW LIVE ON MIX...</td>\n",
              "      <td>https://www.podomatic.com/podcasts/teamosmnetw...</td>\n",
              "      <td>http://teamosmnetwork.podomatic.com/entry/2008...</td>\n",
              "      <td>DJ THA KID QUEST INTRO 9TH WARD FT JD - ADD ME...</td>\n",
              "      <td>&lt;img src=\"http://assets.podomatic.net/ts/e7/04...</td>\n",
              "      <td>DJ THA KID QUEST INTRO 9TH WARD FT JD - ADD ME...</td>\n",
              "      <td>NaN</td>\n",
              "      <td>http://teamosmnetwork.podOmatic.com/enclosure/...</td>\n",
              "      <td>81099614</td>\n",
              "      <td>audio/mpeg</td>\n",
              "      <td>NaN</td>\n",
              "      <td>1</td>\n",
              "      <td>5571</td>\n",
              "      <td>2008-03-19T17:21:46</td>\n",
              "      <td>2pac,97,akon,ali,amazing,andre,ashanti,autogra...</td>\n",
              "      <td>8ab10fd5-1acb-330e-be52-beebf19f0703</td>\n",
              "      <td>http://teamosmnetwork.podomatic.com/rss2.xml</td>\n",
              "      <td>TEAM OSM NETWORK</td>\n",
              "      <td>IT'S ONLY ONE TEAM ON TOP</td>\n",
              "      <td>NaN</td>\n",
              "      <td>NaN</td>\n",
              "      <td>TEAM OSM NETWORK</td>\n",
              "      <td>NaN</td>\n",
              "      <td>NaN</td>\n",
              "      <td>en-us</td>\n",
              "      <td>0</td>\n",
              "      <td>http://teamosmnetwork.podomatic.com/images/def...</td>\n",
              "      <td>Music</td>\n",
              "      <td>NaN</td>\n",
              "      <td>2016-11-26T18:39:21</td>\n",
              "      <td>2016-11-26T18:39:21</td>\n",
              "    </tr>\n",
              "    <tr>\n",
              "      <th>1</th>\n",
              "      <td>330fff01-bf2f-365f-83f0-d5f3ea5d065d</td>\n",
              "      <td>8ab10fd5-1acb-330e-be52-beebf19f0703</td>\n",
              "      <td>DJ 4SHO EAR O THE STREETZ RADIO VOL.3 SOUTHERN...</td>\n",
              "      <td>https://www.podomatic.com/podcasts/teamosmnetw...</td>\n",
              "      <td>http://teamosmnetwork.podomatic.com/entry/2008...</td>\n",
              "      <td>1 THE BOSS RICK ROSS, T PAIN 2 GHETTO RICH RIC...</td>\n",
              "      <td>&lt;img src=\"http://assets.podomatic.net/ts/e7/04...</td>\n",
              "      <td>1 THE BOSS RICK ROSS, T PAIN 2 GHETTO RICH RIC...</td>\n",
              "      <td>NaN</td>\n",
              "      <td>http://teamosmnetwork.podOmatic.com/enclosure/...</td>\n",
              "      <td>60403106</td>\n",
              "      <td>audio/mpeg</td>\n",
              "      <td>NaN</td>\n",
              "      <td>1</td>\n",
              "      <td>4150</td>\n",
              "      <td>2008-03-03T20:33:37</td>\n",
              "      <td>2pac,97,akon,ali,amazing,andre,ashanti,autogra...</td>\n",
              "      <td>8ab10fd5-1acb-330e-be52-beebf19f0703</td>\n",
              "      <td>http://teamosmnetwork.podomatic.com/rss2.xml</td>\n",
              "      <td>TEAM OSM NETWORK</td>\n",
              "      <td>IT'S ONLY ONE TEAM ON TOP</td>\n",
              "      <td>NaN</td>\n",
              "      <td>NaN</td>\n",
              "      <td>TEAM OSM NETWORK</td>\n",
              "      <td>NaN</td>\n",
              "      <td>NaN</td>\n",
              "      <td>en-us</td>\n",
              "      <td>0</td>\n",
              "      <td>http://teamosmnetwork.podomatic.com/images/def...</td>\n",
              "      <td>Music</td>\n",
              "      <td>NaN</td>\n",
              "      <td>2016-11-26T18:39:21</td>\n",
              "      <td>2016-11-26T18:39:21</td>\n",
              "    </tr>\n",
              "  </tbody>\n",
              "</table>\n",
              "</div>"
            ],
            "text/plain": [
              "                                   id_x  ...      last_build_date\n",
              "0  0000209c-904f-3794-a8d7-283a70cf993c  ...  2016-11-26T18:39:21\n",
              "1  330fff01-bf2f-365f-83f0-d5f3ea5d065d  ...  2016-11-26T18:39:21\n",
              "\n",
              "[2 rows x 33 columns]"
            ]
          },
          "metadata": {
            "tags": []
          },
          "execution_count": 34
        }
      ]
    },
    {
      "cell_type": "code",
      "metadata": {
        "id": "YiCv3EdjE7wC",
        "colab_type": "code",
        "colab": {
          "base_uri": "https://localhost:8080/",
          "height": 145
        },
        "outputId": "7a3d2b36-1762-430a-8344-d3cb22592092"
      },
      "source": [
        "itunes_data = itunes_data[['id_x', 'id_y', 'title_x', 'summary_x', 'title_y']]\n",
        "itunes_data.head(2)"
      ],
      "execution_count": null,
      "outputs": [
        {
          "output_type": "execute_result",
          "data": {
            "text/html": [
              "<div>\n",
              "<style scoped>\n",
              "    .dataframe tbody tr th:only-of-type {\n",
              "        vertical-align: middle;\n",
              "    }\n",
              "\n",
              "    .dataframe tbody tr th {\n",
              "        vertical-align: top;\n",
              "    }\n",
              "\n",
              "    .dataframe thead th {\n",
              "        text-align: right;\n",
              "    }\n",
              "</style>\n",
              "<table border=\"1\" class=\"dataframe\">\n",
              "  <thead>\n",
              "    <tr style=\"text-align: right;\">\n",
              "      <th></th>\n",
              "      <th>id_x</th>\n",
              "      <th>id_y</th>\n",
              "      <th>title_x</th>\n",
              "      <th>summary_x</th>\n",
              "      <th>title_y</th>\n",
              "    </tr>\n",
              "  </thead>\n",
              "  <tbody>\n",
              "    <tr>\n",
              "      <th>0</th>\n",
              "      <td>0000209c-904f-3794-a8d7-283a70cf993c</td>\n",
              "      <td>8ab10fd5-1acb-330e-be52-beebf19f0703</td>\n",
              "      <td>DJ DA KID QUEST MARCH 14TH MIXSHOW LIVE ON MIX...</td>\n",
              "      <td>DJ THA KID QUEST INTRO 9TH WARD FT JD - ADD ME...</td>\n",
              "      <td>TEAM OSM NETWORK</td>\n",
              "    </tr>\n",
              "    <tr>\n",
              "      <th>1</th>\n",
              "      <td>330fff01-bf2f-365f-83f0-d5f3ea5d065d</td>\n",
              "      <td>8ab10fd5-1acb-330e-be52-beebf19f0703</td>\n",
              "      <td>DJ 4SHO EAR O THE STREETZ RADIO VOL.3 SOUTHERN...</td>\n",
              "      <td>1 THE BOSS RICK ROSS, T PAIN 2 GHETTO RICH RIC...</td>\n",
              "      <td>TEAM OSM NETWORK</td>\n",
              "    </tr>\n",
              "  </tbody>\n",
              "</table>\n",
              "</div>"
            ],
            "text/plain": [
              "                                   id_x  ...           title_y\n",
              "0  0000209c-904f-3794-a8d7-283a70cf993c  ...  TEAM OSM NETWORK\n",
              "1  330fff01-bf2f-365f-83f0-d5f3ea5d065d  ...  TEAM OSM NETWORK\n",
              "\n",
              "[2 rows x 5 columns]"
            ]
          },
          "metadata": {
            "tags": []
          },
          "execution_count": 39
        }
      ]
    },
    {
      "cell_type": "code",
      "metadata": {
        "id": "uI0Sn-HoFe62",
        "colab_type": "code",
        "colab": {}
      },
      "source": [
        "combined = metadata.merge(itunes_data, left_on=['show_name','episode_name'], right_on = ['title_y','title_x'])"
      ],
      "execution_count": null,
      "outputs": []
    },
    {
      "cell_type": "code",
      "metadata": {
        "id": "LfvosVlbHaEO",
        "colab_type": "code",
        "colab": {
          "base_uri": "https://localhost:8080/",
          "height": 301
        },
        "outputId": "4c180631-1ffb-41f4-a6d3-42a2c0ccb147"
      },
      "source": [
        "combined.head(2)"
      ],
      "execution_count": null,
      "outputs": [
        {
          "output_type": "execute_result",
          "data": {
            "text/html": [
              "<div>\n",
              "<style scoped>\n",
              "    .dataframe tbody tr th:only-of-type {\n",
              "        vertical-align: middle;\n",
              "    }\n",
              "\n",
              "    .dataframe tbody tr th {\n",
              "        vertical-align: top;\n",
              "    }\n",
              "\n",
              "    .dataframe thead th {\n",
              "        text-align: right;\n",
              "    }\n",
              "</style>\n",
              "<table border=\"1\" class=\"dataframe\">\n",
              "  <thead>\n",
              "    <tr style=\"text-align: right;\">\n",
              "      <th></th>\n",
              "      <th>show_uri</th>\n",
              "      <th>show_name</th>\n",
              "      <th>show_description</th>\n",
              "      <th>publisher</th>\n",
              "      <th>language</th>\n",
              "      <th>rss_link</th>\n",
              "      <th>episode_uri</th>\n",
              "      <th>episode_name</th>\n",
              "      <th>episode_description</th>\n",
              "      <th>duration</th>\n",
              "      <th>show_filename_prefix</th>\n",
              "      <th>episode_filename_prefix</th>\n",
              "      <th>id_x</th>\n",
              "      <th>id_y</th>\n",
              "      <th>title_x</th>\n",
              "      <th>summary_x</th>\n",
              "      <th>title_y</th>\n",
              "    </tr>\n",
              "  </thead>\n",
              "  <tbody>\n",
              "    <tr>\n",
              "      <th>0</th>\n",
              "      <td>spotify:show:7gozmLqbcbr6PScMjc0Zl4</td>\n",
              "      <td>Reply All</td>\n",
              "      <td>\"'A podcast about the internet' that is actual...</td>\n",
              "      <td>Gimlet</td>\n",
              "      <td>['en']</td>\n",
              "      <td>https://feeds.megaphone.fm/replyall</td>\n",
              "      <td>spotify:episode:01ugJcZ5cbSdvhrL92WXYW</td>\n",
              "      <td>#24 Exit &amp; Return, Part II</td>\n",
              "      <td>This week, we conclude Shulem Deen’s story.  I...</td>\n",
              "      <td>23.184100</td>\n",
              "      <td>show_7gozmLqbcbr6PScMjc0Zl4</td>\n",
              "      <td>01ugJcZ5cbSdvhrL92WXYW</td>\n",
              "      <td>24f81324-ccb7-3f72-b454-2914bd2736e1</td>\n",
              "      <td>850417fa-904f-3cfc-8792-751d4b9f04b2</td>\n",
              "      <td>#24 Exit &amp; Return, Part II</td>\n",
              "      <td>This week, we conclude Shulem Deen’s story.&amp;nb...</td>\n",
              "      <td>Reply All</td>\n",
              "    </tr>\n",
              "    <tr>\n",
              "      <th>1</th>\n",
              "      <td>spotify:show:7gozmLqbcbr6PScMjc0Zl4</td>\n",
              "      <td>Reply All</td>\n",
              "      <td>\"'A podcast about the internet' that is actual...</td>\n",
              "      <td>Gimlet</td>\n",
              "      <td>['en']</td>\n",
              "      <td>https://feeds.megaphone.fm/replyall</td>\n",
              "      <td>spotify:episode:0A6JZqMLAA6Kf8mDQXFVrr</td>\n",
              "      <td>#18 Silence And Respect</td>\n",
              "      <td>In 2012, a woman named Lindsey Stone posted a ...</td>\n",
              "      <td>26.822517</td>\n",
              "      <td>show_7gozmLqbcbr6PScMjc0Zl4</td>\n",
              "      <td>0A6JZqMLAA6Kf8mDQXFVrr</td>\n",
              "      <td>36ac13ab-e84b-3cf1-9fac-a31de9a192c8</td>\n",
              "      <td>850417fa-904f-3cfc-8792-751d4b9f04b2</td>\n",
              "      <td>#18 Silence And Respect</td>\n",
              "      <td>In 2012, a woman named Lindsey Stone posted a ...</td>\n",
              "      <td>Reply All</td>\n",
              "    </tr>\n",
              "  </tbody>\n",
              "</table>\n",
              "</div>"
            ],
            "text/plain": [
              "                              show_uri  ...    title_y\n",
              "0  spotify:show:7gozmLqbcbr6PScMjc0Zl4  ...  Reply All\n",
              "1  spotify:show:7gozmLqbcbr6PScMjc0Zl4  ...  Reply All\n",
              "\n",
              "[2 rows x 17 columns]"
            ]
          },
          "metadata": {
            "tags": []
          },
          "execution_count": 43
        }
      ]
    },
    {
      "cell_type": "code",
      "metadata": {
        "id": "dglefGYHHepJ",
        "colab_type": "code",
        "colab": {
          "base_uri": "https://localhost:8080/",
          "height": 34
        },
        "outputId": "5b138b84-7ec4-4d05-d41e-8c42df9fbff4"
      },
      "source": [
        "len(combined)"
      ],
      "execution_count": null,
      "outputs": [
        {
          "output_type": "execute_result",
          "data": {
            "text/plain": [
              "165"
            ]
          },
          "metadata": {
            "tags": []
          },
          "execution_count": 44
        }
      ]
    },
    {
      "cell_type": "code",
      "metadata": {
        "id": "XMlH3rssH7I6",
        "colab_type": "code",
        "colab": {
          "base_uri": "https://localhost:8080/",
          "height": 103
        },
        "outputId": "70871b47-29b4-43be-a3dd-fd6f393bbd8c"
      },
      "source": [
        "combined.iloc[100]['episode_description']"
      ],
      "execution_count": null,
      "outputs": [
        {
          "output_type": "execute_result",
          "data": {
            "application/vnd.google.colaboratory.intrinsic+json": {
              "type": "string"
            },
            "text/plain": [
              "'If you want perfect stickiness, look to gecko feet - not a crayfish straightjacket. The Facts Surprisingly Awesome’s theme music is “How We Do” by Nicholas Britell. Our ad music is by Build Buildings. This episode was edited by Alex Blumberg and Caitlin Kenney, and produced by Rachel Ward and Kalila Holt, with help from Emma Jacobs, Jacob Cruz, Laura Sims, and was mixed by Andrew Dunn. Special thanks to Jody Roberts at the Chemical Heritage Foundation. Sponsors Mack Weldon Squarespace NatureBox'"
            ]
          },
          "metadata": {
            "tags": []
          },
          "execution_count": 62
        }
      ]
    },
    {
      "cell_type": "code",
      "metadata": {
        "id": "U3E3u11-JLLI",
        "colab_type": "code",
        "colab": {
          "base_uri": "https://localhost:8080/",
          "height": 103
        },
        "outputId": "6d0005d6-d958-40db-ffcc-234dd35e4b02"
      },
      "source": [
        "combined.iloc[100]['summary_x']"
      ],
      "execution_count": null,
      "outputs": [
        {
          "output_type": "execute_result",
          "data": {
            "application/vnd.google.colaboratory.intrinsic+json": {
              "type": "string"
            },
            "text/plain": [
              "'If you want perfect stickiness, look to gecko feet - not a crayfish straightjacket.\\n\\nThe Facts\\nSurprisingly Awesome’s theme music is “How We Do” by Nicholas Britell. Our ad music is by Build Buildings. This episode was edited by Alex Blumberg and Caitlin Kenney, and produced by Rachel Ward and Kalila Holt, with help from Emma Jacobs, Jacob Cruz, Laura Sims, and was mixed by Andrew Dunn. Special thanks to Jody Roberts at the Chemical Heritage Foundation.\\n\\nSponsors\\nMack Weldon\\nSquarespace\\nNatureBox'"
            ]
          },
          "metadata": {
            "tags": []
          },
          "execution_count": 63
        }
      ]
    },
    {
      "cell_type": "markdown",
      "metadata": {
        "id": "W5BT1aP9LLx_",
        "colab_type": "text"
      },
      "source": [
        "Desriptions are the exact same so there is no point of retraining, since i need the transcripts for training"
      ]
    }
  ]
}