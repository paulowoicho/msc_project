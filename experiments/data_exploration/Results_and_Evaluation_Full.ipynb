{
  "nbformat": 4,
  "nbformat_minor": 0,
  "metadata": {
    "colab": {
      "name": "Results and Evaluation - Full",
      "provenance": []
    },
    "kernelspec": {
      "name": "python3",
      "display_name": "Python 3"
    }
  },
  "cells": [
    {
      "cell_type": "code",
      "metadata": {
        "id": "58bHuiNsLT73",
        "colab_type": "code",
        "colab": {}
      },
      "source": [
        "#the files\n",
        "import pandas as pd\n",
        "\n",
        "base = pd.read_csv('150_gold.csv')\n",
        "finetuned_t5 = pd.read_csv('150_gold_t5.csv')\n",
        "pegasus1 = pd.read_csv('150gold-pegasus-1.csv')\n",
        "pegasus2 = pd.read_csv('150gold-pegasus-1.csv')\n",
        "filtered_pegasus = pd.read_csv('150gold_filtered-pegasus.csv')\n",
        "filtered_t5 = pd.read_csv('150gold_filtered-t5.csv')\n",
        "base_t5 = pd.read_csv('t5_base_inference.csv')\n",
        "extractive = pd.read_csv('extractive_models.csv')\n",
        "ensemble = pd.read_csv('ensemble_models.csv')"
      ],
      "execution_count": null,
      "outputs": []
    },
    {
      "cell_type": "code",
      "metadata": {
        "id": "EYqFZ9LEfNFM",
        "colab_type": "code",
        "colab": {
          "base_uri": "https://localhost:8080/",
          "height": 301
        },
        "outputId": "b190d770-b999-4a48-d82e-1fbccfb42a0c"
      },
      "source": [
        "base.head(2)"
      ],
      "execution_count": null,
      "outputs": [
        {
          "output_type": "execute_result",
          "data": {
            "text/html": [
              "<div>\n",
              "<style scoped>\n",
              "    .dataframe tbody tr th:only-of-type {\n",
              "        vertical-align: middle;\n",
              "    }\n",
              "\n",
              "    .dataframe tbody tr th {\n",
              "        vertical-align: top;\n",
              "    }\n",
              "\n",
              "    .dataframe thead th {\n",
              "        text-align: right;\n",
              "    }\n",
              "</style>\n",
              "<table border=\"1\" class=\"dataframe\">\n",
              "  <thead>\n",
              "    <tr style=\"text-align: right;\">\n",
              "      <th></th>\n",
              "      <th>episode_id</th>\n",
              "      <th>episode_name</th>\n",
              "      <th>episode_description</th>\n",
              "      <th>transcript</th>\n",
              "      <th>textrank_summary</th>\n",
              "      <th>lexrank_summary</th>\n",
              "      <th>lsa_summary</th>\n",
              "      <th>semi_supervised</th>\n",
              "      <th>supervised</th>\n",
              "      <th>extractive</th>\n",
              "      <th>t5_abstractive</th>\n",
              "      <th>first_five</th>\n",
              "    </tr>\n",
              "  </thead>\n",
              "  <tbody>\n",
              "    <tr>\n",
              "      <th>0</th>\n",
              "      <td>spotify:episode:08hXUWN6aOnHULXrqMiwTi</td>\n",
              "      <td>Recruiting Secrets From a MLM Recruiting Monst...</td>\n",
              "      <td>If you want to start mastering recruiting whic...</td>\n",
              "      <td>Hello everybody. What's going on in this Jess...</td>\n",
              "      <td>Let's download these stories about whoever I d...</td>\n",
              "      <td>You can do whatever networking events and I'm ...</td>\n",
              "      <td>We're going to talk about some powerful recrui...</td>\n",
              "      <td>You cannot scummy hashtag wisely, or the peop...</td>\n",
              "      <td>In this episode I talk about some powerful re...</td>\n",
              "      <td>You cannot scummy hashtag wisely, or the peopl...</td>\n",
              "      <td>--- This episode is sponsored by  Anchor: The ...</td>\n",
              "      <td>Hello everybody. What's going on in this Jess...</td>\n",
              "    </tr>\n",
              "    <tr>\n",
              "      <th>1</th>\n",
              "      <td>spotify:episode:0CExTNH4LFqp1ec1mhTd4I</td>\n",
              "      <td>A Public Service Announcement from the mrbrown...</td>\n",
              "      <td>Don't be a silent victim of crime. a parody fr...</td>\n",
              "      <td>Ladies, have you been molested don't be a vic...</td>\n",
              "      <td>Have someone escort you home when it's late ab...</td>\n",
              "      <td>But you can touch his life. But you can touch ...</td>\n",
              "      <td>If you only touched you in minor ways never mi...</td>\n",
              "      <td>If you have been molested call the police sho...</td>\n",
              "      <td>If you have been molested, here are some of t...</td>\n",
              "      <td>Ladies, have you been molested don't be a vict...</td>\n",
              "      <td>Ladies, have you been molested? Don't be a sil...</td>\n",
              "      <td>Ladies, have you been molested don't be a vic...</td>\n",
              "    </tr>\n",
              "  </tbody>\n",
              "</table>\n",
              "</div>"
            ],
            "text/plain": [
              "                               episode_id  ...                                         first_five\n",
              "0  spotify:episode:08hXUWN6aOnHULXrqMiwTi  ...   Hello everybody. What's going on in this Jess...\n",
              "1  spotify:episode:0CExTNH4LFqp1ec1mhTd4I  ...   Ladies, have you been molested don't be a vic...\n",
              "\n",
              "[2 rows x 12 columns]"
            ]
          },
          "metadata": {
            "tags": []
          },
          "execution_count": 2
        }
      ]
    },
    {
      "cell_type": "code",
      "metadata": {
        "id": "sShlzgJByemF",
        "colab_type": "code",
        "colab": {
          "base_uri": "https://localhost:8080/",
          "height": 51
        },
        "outputId": "4b01f35a-6f93-4112-e3a2-a2156f13ab3d"
      },
      "source": [
        "#clean the episode descriptions\n",
        "import nltk\n",
        "nltk.download('punkt')\n",
        "from nltk.tokenize import sent_tokenize\n",
        "\n",
        "import string\n",
        "\n",
        "def clean_up(text):\n",
        "    head, _ , _ = text.partition(' ---')\n",
        "    head = head.strip()\n",
        "    if len(head) > 0:\n",
        "        first_letter = head[0].capitalize()\n",
        "        head = first_letter + head[1:]\n",
        "        if head[-1] in string.punctuation:\n",
        "            head += '.'\n",
        "    return head"
      ],
      "execution_count": null,
      "outputs": [
        {
          "output_type": "stream",
          "text": [
            "[nltk_data] Downloading package punkt to /root/nltk_data...\n",
            "[nltk_data]   Package punkt is already up-to-date!\n"
          ],
          "name": "stdout"
        }
      ]
    },
    {
      "cell_type": "code",
      "metadata": {
        "id": "kwzke_XYfP5Y",
        "colab_type": "code",
        "colab": {
          "base_uri": "https://localhost:8080/",
          "height": 496
        },
        "outputId": "2a2bf539-265e-45bd-dc17-ff42add41375"
      },
      "source": [
        "#keyword extraction class\n",
        "from collections import OrderedDict\n",
        "import numpy as np\n",
        "import spacy\n",
        "!python -m spacy download en_core_web_sm\n",
        "!python -m spacy link en_core_web_sm en\n",
        "from spacy.lang.en.stop_words import STOP_WORDS\n",
        "\n",
        "nlp = spacy.load('en')\n",
        "\n",
        "class TextRank4Keyword():\n",
        "    \"\"\"Extract keywords from text\"\"\"\n",
        "    \n",
        "    def __init__(self):\n",
        "        self.d = 0.85 # damping coefficient, usually is .85\n",
        "        self.min_diff = 1e-5 # convergence threshold\n",
        "        self.steps = 10 # iteration steps\n",
        "        self.node_weight = None # save keywords and its weight\n",
        "\n",
        "    \n",
        "    def set_stopwords(self, stopwords):  \n",
        "        \"\"\"Set stop words\"\"\"\n",
        "        for word in STOP_WORDS.union(set(stopwords)):\n",
        "            lexeme = nlp.vocab[word]\n",
        "            lexeme.is_stop = True\n",
        "    \n",
        "    # def normalize(self, token):\n",
        "    #     if (token.is_alpha):\n",
        "    #         return token.lemma_.lower().strip() if token.lemma_ != \"-PRON-\" else token.lower_\n",
        "    \n",
        "    def sentence_segment(self, doc, candidate_pos, lower):\n",
        "        \"\"\"Store those words only in cadidate_pos\"\"\"\n",
        "        sentences = []\n",
        "        for sent in doc.sents:\n",
        "            selected_words = []\n",
        "            for token in sent:\n",
        "                # Store words only with cadidate POS tag\n",
        "                if token.pos_ in candidate_pos and token.is_stop is False and token.is_alpha:\n",
        "                    # token = self.normalize(token)\n",
        "                    # selected_words.append(token)\n",
        "                    if lower is True:\n",
        "                        selected_words.append(token.lemma_.lower().strip() if token.lemma_ != \"-PRON-\" else token.lower_)\n",
        "                    else:\n",
        "                        selected_words.append(token.lemma_.lower().strip() if token.lemma_ != \"-PRON-\" else token.lower_)\n",
        "            sentences.append(selected_words)\n",
        "        return sentences\n",
        "    \n",
        "        \n",
        "    def get_vocab(self, sentences):\n",
        "        \"\"\"Get all tokens\"\"\"\n",
        "        vocab = OrderedDict()\n",
        "        i = 0\n",
        "        for sentence in sentences:\n",
        "            for word in sentence:\n",
        "                if word not in vocab:\n",
        "                    vocab[word] = i\n",
        "                    i += 1\n",
        "        return vocab\n",
        "    \n",
        "    def get_token_pairs(self, window_size, sentences):\n",
        "        \"\"\"Build token_pairs from windows in sentences\"\"\"\n",
        "        token_pairs = list()\n",
        "        for sentence in sentences:\n",
        "            for i, word in enumerate(sentence):\n",
        "                for j in range(i+1, i+window_size):\n",
        "                    if j >= len(sentence):\n",
        "                        break\n",
        "                    pair = (word, sentence[j])\n",
        "                    if pair not in token_pairs:\n",
        "                        token_pairs.append(pair)\n",
        "        return token_pairs\n",
        "        \n",
        "    def symmetrize(self, a):\n",
        "        return a + a.T - np.diag(a.diagonal())\n",
        "    \n",
        "    def get_matrix(self, vocab, token_pairs):\n",
        "        \"\"\"Get normalized matrix\"\"\"\n",
        "        # Build matrix\n",
        "        vocab_size = len(vocab)\n",
        "        g = np.zeros((vocab_size, vocab_size), dtype='float')\n",
        "        for word1, word2 in token_pairs:\n",
        "            i, j = vocab[word1], vocab[word2]\n",
        "            g[i][j] = 1\n",
        "            \n",
        "        # Get Symmeric matrix\n",
        "        g = self.symmetrize(g)\n",
        "        \n",
        "        # Normalize matrix by column\n",
        "        norm = np.sum(g, axis=0)\n",
        "        g_norm = np.divide(g, norm, where=norm!=0) # this is ignore the 0 element in norm\n",
        "        \n",
        "        return g_norm\n",
        "\n",
        "    \n",
        "    def get_keywords(self, number=100000, limit=0.0):\n",
        "        \"\"\"Print top number keywords\"\"\"\n",
        "        node_weight = OrderedDict(sorted(self.node_weight.items(), key=lambda t: t[1], reverse=True))\n",
        "        keywords = []\n",
        "        for i, (key, value) in enumerate(node_weight.items()):\n",
        "            if value >= limit:\n",
        "                keywords.append(key)\n",
        "            # print(key + ' - ' + str(value))\n",
        "            # if i > number:\n",
        "            #     break\n",
        "        return keywords\n",
        "        \n",
        "        \n",
        "    def analyze(self, text, \n",
        "                candidate_pos=['NOUN', 'PROPN'], \n",
        "                window_size=4, lower=False, stopwords=list()):\n",
        "        \"\"\"Main function to analyze text\"\"\"\n",
        "        \n",
        "        # Set stop words\n",
        "        self.set_stopwords(stopwords)\n",
        "        \n",
        "        # Pare text by spaCy\n",
        "        doc = nlp(text)\n",
        "        \n",
        "        # Filter sentences\n",
        "        sentences = self.sentence_segment(doc, candidate_pos, lower) # list of list of words\n",
        "        \n",
        "        # Build vocabulary\n",
        "        vocab = self.get_vocab(sentences)\n",
        "        \n",
        "        # Get token_pairs from windows\n",
        "        token_pairs = self.get_token_pairs(window_size, sentences)\n",
        "        \n",
        "        # Get normalized matrix\n",
        "        g = self.get_matrix(vocab, token_pairs)\n",
        "        \n",
        "        # Initionlization for weight(pagerank value)\n",
        "        pr = np.array([1] * len(vocab))\n",
        "        \n",
        "        # Iteration\n",
        "        previous_pr = 0\n",
        "        for epoch in range(self.steps):\n",
        "            pr = (1-self.d) + self.d * np.dot(g, pr)\n",
        "            if abs(previous_pr - sum(pr))  < self.min_diff:\n",
        "                break\n",
        "            else:\n",
        "                previous_pr = sum(pr)\n",
        "\n",
        "        # Get weight for each node\n",
        "        node_weight = dict()\n",
        "        for word, index in vocab.items():\n",
        "            node_weight[word] = pr[index]\n",
        "        \n",
        "        self.node_weight = node_weight"
      ],
      "execution_count": null,
      "outputs": [
        {
          "output_type": "stream",
          "text": [
            "Requirement already satisfied: en_core_web_sm==2.2.5 from https://github.com/explosion/spacy-models/releases/download/en_core_web_sm-2.2.5/en_core_web_sm-2.2.5.tar.gz#egg=en_core_web_sm==2.2.5 in /usr/local/lib/python3.6/dist-packages (2.2.5)\n",
            "Requirement already satisfied: spacy>=2.2.2 in /usr/local/lib/python3.6/dist-packages (from en_core_web_sm==2.2.5) (2.2.4)\n",
            "Requirement already satisfied: srsly<1.1.0,>=1.0.2 in /usr/local/lib/python3.6/dist-packages (from spacy>=2.2.2->en_core_web_sm==2.2.5) (1.0.2)\n",
            "Requirement already satisfied: requests<3.0.0,>=2.13.0 in /usr/local/lib/python3.6/dist-packages (from spacy>=2.2.2->en_core_web_sm==2.2.5) (2.23.0)\n",
            "Requirement already satisfied: cymem<2.1.0,>=2.0.2 in /usr/local/lib/python3.6/dist-packages (from spacy>=2.2.2->en_core_web_sm==2.2.5) (2.0.3)\n",
            "Requirement already satisfied: preshed<3.1.0,>=3.0.2 in /usr/local/lib/python3.6/dist-packages (from spacy>=2.2.2->en_core_web_sm==2.2.5) (3.0.2)\n",
            "Requirement already satisfied: wasabi<1.1.0,>=0.4.0 in /usr/local/lib/python3.6/dist-packages (from spacy>=2.2.2->en_core_web_sm==2.2.5) (0.7.1)\n",
            "Requirement already satisfied: setuptools in /usr/local/lib/python3.6/dist-packages (from spacy>=2.2.2->en_core_web_sm==2.2.5) (49.6.0)\n",
            "Requirement already satisfied: catalogue<1.1.0,>=0.0.7 in /usr/local/lib/python3.6/dist-packages (from spacy>=2.2.2->en_core_web_sm==2.2.5) (1.0.0)\n",
            "Requirement already satisfied: numpy>=1.15.0 in /usr/local/lib/python3.6/dist-packages (from spacy>=2.2.2->en_core_web_sm==2.2.5) (1.18.5)\n",
            "Requirement already satisfied: tqdm<5.0.0,>=4.38.0 in /usr/local/lib/python3.6/dist-packages (from spacy>=2.2.2->en_core_web_sm==2.2.5) (4.41.1)\n",
            "Requirement already satisfied: thinc==7.4.0 in /usr/local/lib/python3.6/dist-packages (from spacy>=2.2.2->en_core_web_sm==2.2.5) (7.4.0)\n",
            "Requirement already satisfied: plac<1.2.0,>=0.9.6 in /usr/local/lib/python3.6/dist-packages (from spacy>=2.2.2->en_core_web_sm==2.2.5) (1.1.3)\n",
            "Requirement already satisfied: blis<0.5.0,>=0.4.0 in /usr/local/lib/python3.6/dist-packages (from spacy>=2.2.2->en_core_web_sm==2.2.5) (0.4.1)\n",
            "Requirement already satisfied: murmurhash<1.1.0,>=0.28.0 in /usr/local/lib/python3.6/dist-packages (from spacy>=2.2.2->en_core_web_sm==2.2.5) (1.0.2)\n",
            "Requirement already satisfied: urllib3!=1.25.0,!=1.25.1,<1.26,>=1.21.1 in /usr/local/lib/python3.6/dist-packages (from requests<3.0.0,>=2.13.0->spacy>=2.2.2->en_core_web_sm==2.2.5) (1.24.3)\n",
            "Requirement already satisfied: chardet<4,>=3.0.2 in /usr/local/lib/python3.6/dist-packages (from requests<3.0.0,>=2.13.0->spacy>=2.2.2->en_core_web_sm==2.2.5) (3.0.4)\n",
            "Requirement already satisfied: idna<3,>=2.5 in /usr/local/lib/python3.6/dist-packages (from requests<3.0.0,>=2.13.0->spacy>=2.2.2->en_core_web_sm==2.2.5) (2.10)\n",
            "Requirement already satisfied: certifi>=2017.4.17 in /usr/local/lib/python3.6/dist-packages (from requests<3.0.0,>=2.13.0->spacy>=2.2.2->en_core_web_sm==2.2.5) (2020.6.20)\n",
            "Requirement already satisfied: importlib-metadata>=0.20; python_version < \"3.8\" in /usr/local/lib/python3.6/dist-packages (from catalogue<1.1.0,>=0.0.7->spacy>=2.2.2->en_core_web_sm==2.2.5) (1.7.0)\n",
            "Requirement already satisfied: zipp>=0.5 in /usr/local/lib/python3.6/dist-packages (from importlib-metadata>=0.20; python_version < \"3.8\"->catalogue<1.1.0,>=0.0.7->spacy>=2.2.2->en_core_web_sm==2.2.5) (3.1.0)\n",
            "\u001b[38;5;2m✔ Download and installation successful\u001b[0m\n",
            "You can now load the model via spacy.load('en_core_web_sm')\n",
            "\n",
            "\u001b[38;5;1m✘ Link 'en' already exists\u001b[0m\n",
            "To overwrite an existing link, use the --force flag\n",
            "\n"
          ],
          "name": "stdout"
        }
      ]
    },
    {
      "cell_type": "code",
      "metadata": {
        "id": "cbNziJpijxPq",
        "colab_type": "code",
        "colab": {}
      },
      "source": [
        "#get scores\n",
        "def scores(transcript_keywords, summary_keywords):\n",
        "    total_keywords = len(transcript_keywords)\n",
        "    total_summary_keywords = len(summary_keywords)\n",
        "#     print(total_keywords, total_summary_keywords)\n",
        "    correct_keywords = 0\n",
        "\n",
        "    for keyword in summary_keywords:\n",
        "        if keyword in transcript_keywords:\n",
        "            correct_keywords += 1\n",
        "\n",
        "    \n",
        "    precision = 0\n",
        "    recall = 0\n",
        "    f1 = 0\n",
        "    if total_keywords == 0:\n",
        "        return {'precision':precision, 'recall':recall, 'f1':f1}\n",
        "    \n",
        "    if total_summary_keywords > 0:\n",
        "        precision = correct_keywords / total_summary_keywords\n",
        "        recall = correct_keywords / total_keywords\n",
        "    \n",
        "    if precision > 0 and recall > 0:\n",
        "        f1 = (2 *(recall * precision)) / (recall + precision)\n",
        "    \n",
        "    return {'precision':precision, 'recall':recall, 'f1':f1}"
      ],
      "execution_count": null,
      "outputs": []
    },
    {
      "cell_type": "code",
      "metadata": {
        "id": "TOrgWpNdj8OB",
        "colab_type": "code",
        "colab": {}
      },
      "source": [
        "tr4w = TextRank4Keyword()\n",
        "def compute_scores(transcript, summary):\n",
        "    tr4w.analyze(transcript, candidate_pos = ['NOUN','PROPN'], window_size=4, lower=True)\n",
        "    transcript_keywords = tr4w.get_keywords()\n",
        "    tr4w.analyze(summary, candidate_pos = ['NOUN','PROPN'], window_size=4, lower=True)\n",
        "    summary_keywords = tr4w.get_keywords()\n",
        "    return scores(transcript_keywords, summary_keywords)"
      ],
      "execution_count": null,
      "outputs": []
    },
    {
      "cell_type": "code",
      "metadata": {
        "id": "Jw2SxdOhj8_I",
        "colab_type": "code",
        "colab": {}
      },
      "source": [
        "base['episode_description'] = base.apply(lambda row: clean_up(row['episode_description']), axis=1)\n",
        "base['scores'] =  base.apply(lambda row: compute_scores(row['transcript'] ,row['episode_description']), axis=1)"
      ],
      "execution_count": null,
      "outputs": []
    },
    {
      "cell_type": "code",
      "metadata": {
        "id": "lhGRNwDEkblL",
        "colab_type": "code",
        "colab": {}
      },
      "source": [
        "def get_precision(scores):\n",
        "    precision = scores['precision']\n",
        "    return precision\n",
        "\n",
        "def get_recall(scores):\n",
        "    recall = scores['recall']\n",
        "    return recall\n",
        "\n",
        "def get_f1(scores):\n",
        "    f1 = scores['f1']\n",
        "    return f1"
      ],
      "execution_count": null,
      "outputs": []
    },
    {
      "cell_type": "code",
      "metadata": {
        "id": "-RWlXJzLmWg-",
        "colab_type": "code",
        "colab": {}
      },
      "source": [
        "base['precision'] = base.apply(lambda row: get_precision(row['scores']), axis=1)\n",
        "base['recall'] = base.apply(lambda row: get_recall(row['scores']), axis=1)\n",
        "base['f1'] = base.apply(lambda row: get_f1(row['scores']), axis=1)"
      ],
      "execution_count": null,
      "outputs": []
    },
    {
      "cell_type": "code",
      "metadata": {
        "id": "zwE44MICmf3g",
        "colab_type": "code",
        "colab": {
          "base_uri": "https://localhost:8080/",
          "height": 301
        },
        "outputId": "ab76359a-1e67-4cdb-8637-c8f98be2b41d"
      },
      "source": [
        "base.head(2)"
      ],
      "execution_count": null,
      "outputs": [
        {
          "output_type": "execute_result",
          "data": {
            "text/html": [
              "<div>\n",
              "<style scoped>\n",
              "    .dataframe tbody tr th:only-of-type {\n",
              "        vertical-align: middle;\n",
              "    }\n",
              "\n",
              "    .dataframe tbody tr th {\n",
              "        vertical-align: top;\n",
              "    }\n",
              "\n",
              "    .dataframe thead th {\n",
              "        text-align: right;\n",
              "    }\n",
              "</style>\n",
              "<table border=\"1\" class=\"dataframe\">\n",
              "  <thead>\n",
              "    <tr style=\"text-align: right;\">\n",
              "      <th></th>\n",
              "      <th>episode_id</th>\n",
              "      <th>episode_name</th>\n",
              "      <th>episode_description</th>\n",
              "      <th>transcript</th>\n",
              "      <th>textrank_summary</th>\n",
              "      <th>lexrank_summary</th>\n",
              "      <th>lsa_summary</th>\n",
              "      <th>semi_supervised</th>\n",
              "      <th>supervised</th>\n",
              "      <th>extractive</th>\n",
              "      <th>t5_abstractive</th>\n",
              "      <th>first_five</th>\n",
              "      <th>scores</th>\n",
              "      <th>precision</th>\n",
              "      <th>recall</th>\n",
              "      <th>f1</th>\n",
              "    </tr>\n",
              "  </thead>\n",
              "  <tbody>\n",
              "    <tr>\n",
              "      <th>0</th>\n",
              "      <td>spotify:episode:08hXUWN6aOnHULXrqMiwTi</td>\n",
              "      <td>Recruiting Secrets From a MLM Recruiting Monst...</td>\n",
              "      <td>If you want to start mastering recruiting whic...</td>\n",
              "      <td>Hello everybody. What's going on in this Jess...</td>\n",
              "      <td>Let's download these stories about whoever I d...</td>\n",
              "      <td>You can do whatever networking events and I'm ...</td>\n",
              "      <td>We're going to talk about some powerful recrui...</td>\n",
              "      <td>You cannot scummy hashtag wisely, or the peop...</td>\n",
              "      <td>In this episode I talk about some powerful re...</td>\n",
              "      <td>You cannot scummy hashtag wisely, or the peopl...</td>\n",
              "      <td>--- This episode is sponsored by  Anchor: The ...</td>\n",
              "      <td>Hello everybody. What's going on in this Jess...</td>\n",
              "      <td>{'precision': 0.7857142857142857, 'recall': 0....</td>\n",
              "      <td>0.785714</td>\n",
              "      <td>0.036913</td>\n",
              "      <td>0.070513</td>\n",
              "    </tr>\n",
              "    <tr>\n",
              "      <th>1</th>\n",
              "      <td>spotify:episode:0CExTNH4LFqp1ec1mhTd4I</td>\n",
              "      <td>A Public Service Announcement from the mrbrown...</td>\n",
              "      <td>Don't be a silent victim of crime. a parody fr...</td>\n",
              "      <td>Ladies, have you been molested don't be a vic...</td>\n",
              "      <td>Have someone escort you home when it's late ab...</td>\n",
              "      <td>But you can touch his life. But you can touch ...</td>\n",
              "      <td>If you only touched you in minor ways never mi...</td>\n",
              "      <td>If you have been molested call the police sho...</td>\n",
              "      <td>If you have been molested, here are some of t...</td>\n",
              "      <td>Ladies, have you been molested don't be a vict...</td>\n",
              "      <td>Ladies, have you been molested? Don't be a sil...</td>\n",
              "      <td>Ladies, have you been molested don't be a vic...</td>\n",
              "      <td>{'precision': 1.0, 'recall': 0.096774193548387...</td>\n",
              "      <td>1.000000</td>\n",
              "      <td>0.096774</td>\n",
              "      <td>0.176471</td>\n",
              "    </tr>\n",
              "  </tbody>\n",
              "</table>\n",
              "</div>"
            ],
            "text/plain": [
              "                               episode_id  ...        f1\n",
              "0  spotify:episode:08hXUWN6aOnHULXrqMiwTi  ...  0.070513\n",
              "1  spotify:episode:0CExTNH4LFqp1ec1mhTd4I  ...  0.176471\n",
              "\n",
              "[2 rows x 16 columns]"
            ]
          },
          "metadata": {
            "tags": []
          },
          "execution_count": 10
        }
      ]
    },
    {
      "cell_type": "code",
      "metadata": {
        "id": "EJF6OVukm82P",
        "colab_type": "code",
        "colab": {
          "base_uri": "https://localhost:8080/",
          "height": 34
        },
        "outputId": "cc455bd3-90f9-4e33-875d-90588fa2bf7d"
      },
      "source": [
        "filtered = base[(base['precision'] >= 0.75)]\n",
        "filtered.reset_index(inplace=True, drop=True)\n",
        "len(filtered)"
      ],
      "execution_count": null,
      "outputs": [
        {
          "output_type": "execute_result",
          "data": {
            "text/plain": [
              "54"
            ]
          },
          "metadata": {
            "tags": []
          },
          "execution_count": 11
        }
      ]
    },
    {
      "cell_type": "code",
      "metadata": {
        "id": "-arQyjJtnpfd",
        "colab_type": "code",
        "colab": {
          "base_uri": "https://localhost:8080/",
          "height": 185
        },
        "outputId": "ae94b477-caca-4578-f7f0-ec6a24da3005"
      },
      "source": [
        "filtered.head(1)"
      ],
      "execution_count": null,
      "outputs": [
        {
          "output_type": "execute_result",
          "data": {
            "text/html": [
              "<div>\n",
              "<style scoped>\n",
              "    .dataframe tbody tr th:only-of-type {\n",
              "        vertical-align: middle;\n",
              "    }\n",
              "\n",
              "    .dataframe tbody tr th {\n",
              "        vertical-align: top;\n",
              "    }\n",
              "\n",
              "    .dataframe thead th {\n",
              "        text-align: right;\n",
              "    }\n",
              "</style>\n",
              "<table border=\"1\" class=\"dataframe\">\n",
              "  <thead>\n",
              "    <tr style=\"text-align: right;\">\n",
              "      <th></th>\n",
              "      <th>episode_id</th>\n",
              "      <th>episode_name</th>\n",
              "      <th>episode_description</th>\n",
              "      <th>transcript</th>\n",
              "      <th>textrank_summary</th>\n",
              "      <th>lexrank_summary</th>\n",
              "      <th>lsa_summary</th>\n",
              "      <th>semi_supervised</th>\n",
              "      <th>supervised</th>\n",
              "      <th>extractive</th>\n",
              "      <th>t5_abstractive</th>\n",
              "      <th>first_five</th>\n",
              "      <th>scores</th>\n",
              "      <th>precision</th>\n",
              "      <th>recall</th>\n",
              "      <th>f1</th>\n",
              "    </tr>\n",
              "  </thead>\n",
              "  <tbody>\n",
              "    <tr>\n",
              "      <th>0</th>\n",
              "      <td>spotify:episode:08hXUWN6aOnHULXrqMiwTi</td>\n",
              "      <td>Recruiting Secrets From a MLM Recruiting Monst...</td>\n",
              "      <td>If you want to start mastering recruiting whic...</td>\n",
              "      <td>Hello everybody. What's going on in this Jess...</td>\n",
              "      <td>Let's download these stories about whoever I d...</td>\n",
              "      <td>You can do whatever networking events and I'm ...</td>\n",
              "      <td>We're going to talk about some powerful recrui...</td>\n",
              "      <td>You cannot scummy hashtag wisely, or the peop...</td>\n",
              "      <td>In this episode I talk about some powerful re...</td>\n",
              "      <td>You cannot scummy hashtag wisely, or the peopl...</td>\n",
              "      <td>--- This episode is sponsored by  Anchor: The ...</td>\n",
              "      <td>Hello everybody. What's going on in this Jess...</td>\n",
              "      <td>{'precision': 0.7857142857142857, 'recall': 0....</td>\n",
              "      <td>0.785714</td>\n",
              "      <td>0.036913</td>\n",
              "      <td>0.070513</td>\n",
              "    </tr>\n",
              "  </tbody>\n",
              "</table>\n",
              "</div>"
            ],
            "text/plain": [
              "                               episode_id  ...        f1\n",
              "0  spotify:episode:08hXUWN6aOnHULXrqMiwTi  ...  0.070513\n",
              "\n",
              "[1 rows x 16 columns]"
            ]
          },
          "metadata": {
            "tags": []
          },
          "execution_count": 12
        }
      ]
    },
    {
      "cell_type": "code",
      "metadata": {
        "id": "SjWLYa-xs-vi",
        "colab_type": "code",
        "colab": {
          "base_uri": "https://localhost:8080/",
          "height": 52
        },
        "outputId": "6714a84a-4dba-4d20-9d71-7debbe604327"
      },
      "source": [
        "filtered.iloc[4]['supervised']"
      ],
      "execution_count": null,
      "outputs": [
        {
          "output_type": "execute_result",
          "data": {
            "application/vnd.google.colaboratory.intrinsic+json": {
              "type": "string"
            },
            "text/plain": [
              "' In this episode I talk about some of the key learnings that I got when I took a social media Hiatus for four months.   ---   Send in a voice message: https://anchor.fm/bevinfm/message'"
            ]
          },
          "metadata": {
            "tags": []
          },
          "execution_count": 13
        }
      ]
    },
    {
      "cell_type": "code",
      "metadata": {
        "id": "6rpPSJz3tezB",
        "colab_type": "code",
        "colab": {
          "base_uri": "https://localhost:8080/",
          "height": 51
        },
        "outputId": "ebe258ba-aadd-4533-d623-f26c29b497ec"
      },
      "source": [
        "!pip install rouge\n",
        "from rouge import Rouge\n",
        "rouge = Rouge()"
      ],
      "execution_count": null,
      "outputs": [
        {
          "output_type": "stream",
          "text": [
            "Requirement already satisfied: rouge in /usr/local/lib/python3.6/dist-packages (1.0.0)\n",
            "Requirement already satisfied: six in /usr/local/lib/python3.6/dist-packages (from rouge) (1.15.0)\n"
          ],
          "name": "stdout"
        }
      ]
    },
    {
      "cell_type": "code",
      "metadata": {
        "id": "VhzNKjkh258E",
        "colab_type": "code",
        "colab": {
          "base_uri": "https://localhost:8080/",
          "height": 34
        },
        "outputId": "b78caf93-f09c-477a-d465-123a7088c792"
      },
      "source": [
        " #filtered['supervised'] = filtered.apply(lambda row: clean_up(row['supervised']), axis=1)\n",
        "#  rouge.get_scores(filtered['supervised'], filtered['episode_description'],  avg=True)\n",
        "\n",
        "# len(pegasus2)"
      ],
      "execution_count": null,
      "outputs": [
        {
          "output_type": "execute_result",
          "data": {
            "text/plain": [
              "150"
            ]
          },
          "metadata": {
            "tags": []
          },
          "execution_count": 41
        }
      ]
    },
    {
      "cell_type": "code",
      "metadata": {
        "id": "6qo8BsHga5_8",
        "colab_type": "code",
        "colab": {
          "base_uri": "https://localhost:8080/",
          "height": 148
        },
        "outputId": "ccba827f-35f7-49a4-ee10-9a557e9f3eed"
      },
      "source": [
        "ensemble.head(1)"
      ],
      "execution_count": null,
      "outputs": [
        {
          "output_type": "execute_result",
          "data": {
            "text/html": [
              "<div>\n",
              "<style scoped>\n",
              "    .dataframe tbody tr th:only-of-type {\n",
              "        vertical-align: middle;\n",
              "    }\n",
              "\n",
              "    .dataframe tbody tr th {\n",
              "        vertical-align: top;\n",
              "    }\n",
              "\n",
              "    .dataframe thead th {\n",
              "        text-align: right;\n",
              "    }\n",
              "</style>\n",
              "<table border=\"1\" class=\"dataframe\">\n",
              "  <thead>\n",
              "    <tr style=\"text-align: right;\">\n",
              "      <th></th>\n",
              "      <th>Unnamed: 0</th>\n",
              "      <th>episode_id</th>\n",
              "      <th>transcript</th>\n",
              "      <th>episode_description</th>\n",
              "      <th>spanBert_t5</th>\n",
              "      <th>firstN_t5</th>\n",
              "    </tr>\n",
              "  </thead>\n",
              "  <tbody>\n",
              "    <tr>\n",
              "      <th>0</th>\n",
              "      <td>0</td>\n",
              "      <td>spotify:episode:08hXUWN6aOnHULXrqMiwTi</td>\n",
              "      <td>Hello everybody. What's going on in this Jess...</td>\n",
              "      <td>If you want to start mastering recruiting whic...</td>\n",
              "      <td>This is the #1 network marketing podcast in th...</td>\n",
              "      <td>This is a great podcast to start your network ...</td>\n",
              "    </tr>\n",
              "  </tbody>\n",
              "</table>\n",
              "</div>"
            ],
            "text/plain": [
              "   Unnamed: 0  ...                                          firstN_t5\n",
              "0           0  ...  This is a great podcast to start your network ...\n",
              "\n",
              "[1 rows x 6 columns]"
            ]
          },
          "metadata": {
            "tags": []
          },
          "execution_count": 14
        }
      ]
    },
    {
      "cell_type": "code",
      "metadata": {
        "id": "fHZaZjcg3vWb",
        "colab_type": "code",
        "colab": {}
      },
      "source": [
        "filtered_abs = filtered.merge(ensemble, how='inner', on='episode_id')\n",
        "# filtered_abs = filtered_abs.merge(pegasus2, how='inner', on='episode_id')\n",
        "# filtered_abs = filtered_abs.merge(filtered_pegasus, how='inner', on='episode_id')\n",
        "# filtered_abs.head(2)"
      ],
      "execution_count": null,
      "outputs": []
    },
    {
      "cell_type": "code",
      "metadata": {
        "id": "3hmzQE7c6Uv7",
        "colab_type": "code",
        "colab": {
          "base_uri": "https://localhost:8080/",
          "height": 318
        },
        "outputId": "03a36719-4381-4095-a596-63c0cc866ec2"
      },
      "source": [
        "filtered_abs.head(2)"
      ],
      "execution_count": null,
      "outputs": [
        {
          "output_type": "execute_result",
          "data": {
            "text/html": [
              "<div>\n",
              "<style scoped>\n",
              "    .dataframe tbody tr th:only-of-type {\n",
              "        vertical-align: middle;\n",
              "    }\n",
              "\n",
              "    .dataframe tbody tr th {\n",
              "        vertical-align: top;\n",
              "    }\n",
              "\n",
              "    .dataframe thead th {\n",
              "        text-align: right;\n",
              "    }\n",
              "</style>\n",
              "<table border=\"1\" class=\"dataframe\">\n",
              "  <thead>\n",
              "    <tr style=\"text-align: right;\">\n",
              "      <th></th>\n",
              "      <th>episode_id</th>\n",
              "      <th>episode_name</th>\n",
              "      <th>episode_description_x</th>\n",
              "      <th>transcript_x</th>\n",
              "      <th>textrank_summary</th>\n",
              "      <th>lexrank_summary</th>\n",
              "      <th>lsa_summary</th>\n",
              "      <th>semi_supervised</th>\n",
              "      <th>supervised</th>\n",
              "      <th>extractive</th>\n",
              "      <th>t5_abstractive</th>\n",
              "      <th>first_five</th>\n",
              "      <th>scores</th>\n",
              "      <th>precision</th>\n",
              "      <th>recall</th>\n",
              "      <th>f1</th>\n",
              "      <th>Unnamed: 0</th>\n",
              "      <th>transcript_y</th>\n",
              "      <th>episode_description_y</th>\n",
              "      <th>spanBert_t5</th>\n",
              "      <th>firstN_t5</th>\n",
              "    </tr>\n",
              "  </thead>\n",
              "  <tbody>\n",
              "    <tr>\n",
              "      <th>0</th>\n",
              "      <td>spotify:episode:08hXUWN6aOnHULXrqMiwTi</td>\n",
              "      <td>Recruiting Secrets From a MLM Recruiting Monst...</td>\n",
              "      <td>If you want to start mastering recruiting whic...</td>\n",
              "      <td>Hello everybody. What's going on in this Jess...</td>\n",
              "      <td>Let's download these stories about whoever I d...</td>\n",
              "      <td>You can do whatever networking events and I'm ...</td>\n",
              "      <td>We're going to talk about some powerful recrui...</td>\n",
              "      <td>You cannot scummy hashtag wisely, or the peop...</td>\n",
              "      <td>In this episode I talk about some powerful re...</td>\n",
              "      <td>You cannot scummy hashtag wisely, or the peopl...</td>\n",
              "      <td>--- This episode is sponsored by  Anchor: The ...</td>\n",
              "      <td>Hello everybody. What's going on in this Jess...</td>\n",
              "      <td>{'precision': 0.7857142857142857, 'recall': 0....</td>\n",
              "      <td>0.785714</td>\n",
              "      <td>0.036913</td>\n",
              "      <td>0.070513</td>\n",
              "      <td>0</td>\n",
              "      <td>Hello everybody. What's going on in this Jess...</td>\n",
              "      <td>If you want to start mastering recruiting whic...</td>\n",
              "      <td>This is the #1 network marketing podcast in th...</td>\n",
              "      <td>This is a great podcast to start your network ...</td>\n",
              "    </tr>\n",
              "    <tr>\n",
              "      <th>1</th>\n",
              "      <td>spotify:episode:0CExTNH4LFqp1ec1mhTd4I</td>\n",
              "      <td>A Public Service Announcement from the mrbrown...</td>\n",
              "      <td>Don't be a silent victim of crime. a parody fr...</td>\n",
              "      <td>Ladies, have you been molested don't be a vic...</td>\n",
              "      <td>Have someone escort you home when it's late ab...</td>\n",
              "      <td>But you can touch his life. But you can touch ...</td>\n",
              "      <td>If you only touched you in minor ways never mi...</td>\n",
              "      <td>If you have been molested call the police sho...</td>\n",
              "      <td>If you have been molested, here are some of t...</td>\n",
              "      <td>Ladies, have you been molested don't be a vict...</td>\n",
              "      <td>Ladies, have you been molested? Don't be a sil...</td>\n",
              "      <td>Ladies, have you been molested don't be a vic...</td>\n",
              "      <td>{'precision': 1.0, 'recall': 0.096774193548387...</td>\n",
              "      <td>1.000000</td>\n",
              "      <td>0.096774</td>\n",
              "      <td>0.176471</td>\n",
              "      <td>1</td>\n",
              "      <td>Ladies, have you been molested don't be a vic...</td>\n",
              "      <td>Don't be a silent victim of crime. a parody fr...</td>\n",
              "      <td>--- Send in a voice message: https://anchor.fm...</td>\n",
              "      <td>This is a Public Service Announcement for Mr. ...</td>\n",
              "    </tr>\n",
              "  </tbody>\n",
              "</table>\n",
              "</div>"
            ],
            "text/plain": [
              "                               episode_id  ...                                          firstN_t5\n",
              "0  spotify:episode:08hXUWN6aOnHULXrqMiwTi  ...  This is a great podcast to start your network ...\n",
              "1  spotify:episode:0CExTNH4LFqp1ec1mhTd4I  ...  This is a Public Service Announcement for Mr. ...\n",
              "\n",
              "[2 rows x 21 columns]"
            ]
          },
          "metadata": {
            "tags": []
          },
          "execution_count": 16
        }
      ]
    },
    {
      "cell_type": "code",
      "metadata": {
        "id": "eOtH8o3pqkOQ",
        "colab_type": "code",
        "colab": {}
      },
      "source": [
        "# filtered_abs = filtered_abs.loc[:,~filtered_abs.columns.duplicated()]"
      ],
      "execution_count": null,
      "outputs": []
    },
    {
      "cell_type": "code",
      "metadata": {
        "id": "BY8z_RkAzsu0",
        "colab_type": "code",
        "colab": {
          "base_uri": "https://localhost:8080/",
          "height": 202
        },
        "outputId": "36228e45-5c84-4237-aa4d-ea602c57ad24"
      },
      "source": [
        "# filtered_abs.head(1)"
      ],
      "execution_count": null,
      "outputs": [
        {
          "output_type": "execute_result",
          "data": {
            "text/html": [
              "<div>\n",
              "<style scoped>\n",
              "    .dataframe tbody tr th:only-of-type {\n",
              "        vertical-align: middle;\n",
              "    }\n",
              "\n",
              "    .dataframe tbody tr th {\n",
              "        vertical-align: top;\n",
              "    }\n",
              "\n",
              "    .dataframe thead th {\n",
              "        text-align: right;\n",
              "    }\n",
              "</style>\n",
              "<table border=\"1\" class=\"dataframe\">\n",
              "  <thead>\n",
              "    <tr style=\"text-align: right;\">\n",
              "      <th></th>\n",
              "      <th>episode_id</th>\n",
              "      <th>episode_name_x</th>\n",
              "      <th>episode_description_x</th>\n",
              "      <th>transcript_x</th>\n",
              "      <th>textrank_summary_x</th>\n",
              "      <th>lexrank_summary_x</th>\n",
              "      <th>lsa_summary_x</th>\n",
              "      <th>semi_supervised_x</th>\n",
              "      <th>supervised_x</th>\n",
              "      <th>extractive_x</th>\n",
              "      <th>t5_abstractive_x</th>\n",
              "      <th>first_five_x</th>\n",
              "      <th>scores</th>\n",
              "      <th>precision</th>\n",
              "      <th>recall</th>\n",
              "      <th>f1</th>\n",
              "      <th>episode_name_y</th>\n",
              "      <th>episode_description_y</th>\n",
              "      <th>transcript_y</th>\n",
              "      <th>textrank_summary_y</th>\n",
              "      <th>lexrank_summary_y</th>\n",
              "      <th>lsa_summary_y</th>\n",
              "      <th>semi_supervised_y</th>\n",
              "      <th>supervised_y</th>\n",
              "      <th>extractive_y</th>\n",
              "      <th>t5_abstractive_y</th>\n",
              "      <th>first_five_y</th>\n",
              "      <th>pegasus-trained_x</th>\n",
              "      <th>pegasus-trained_y</th>\n",
              "      <th>filtered-t5</th>\n",
              "    </tr>\n",
              "  </thead>\n",
              "  <tbody>\n",
              "    <tr>\n",
              "      <th>0</th>\n",
              "      <td>spotify:episode:08hXUWN6aOnHULXrqMiwTi</td>\n",
              "      <td>Recruiting Secrets From a MLM Recruiting Monst...</td>\n",
              "      <td>If you want to start mastering recruiting whic...</td>\n",
              "      <td>Hello everybody. What's going on in this Jess...</td>\n",
              "      <td>Let's download these stories about whoever I d...</td>\n",
              "      <td>You can do whatever networking events and I'm ...</td>\n",
              "      <td>We're going to talk about some powerful recrui...</td>\n",
              "      <td>You cannot scummy hashtag wisely, or the peop...</td>\n",
              "      <td>In this episode I talk about some powerful re...</td>\n",
              "      <td>You cannot scummy hashtag wisely, or the peopl...</td>\n",
              "      <td>--- This episode is sponsored by  Anchor: The ...</td>\n",
              "      <td>Hello everybody. What's going on in this Jess...</td>\n",
              "      <td>{'precision': 0.7857142857142857, 'recall': 0....</td>\n",
              "      <td>0.785714</td>\n",
              "      <td>0.036913</td>\n",
              "      <td>0.070513</td>\n",
              "      <td>Recruiting Secrets From a MLM Recruiting Monst...</td>\n",
              "      <td>If you want to start mastering recruiting whic...</td>\n",
              "      <td>Hello everybody. What's going on in this Jess...</td>\n",
              "      <td>Let's download these stories about whoever I d...</td>\n",
              "      <td>You can do whatever networking events and I'm ...</td>\n",
              "      <td>We're going to talk about some powerful recrui...</td>\n",
              "      <td>You cannot scummy hashtag wisely, or the peop...</td>\n",
              "      <td>In this episode I talk about some powerful re...</td>\n",
              "      <td>You cannot scummy hashtag wisely, or the peopl...</td>\n",
              "      <td>--- This episode is sponsored by  Anchor: The ...</td>\n",
              "      <td>Hello everybody. What's going on in this Jess...</td>\n",
              "      <td>Is a powerful recruiting technique for massive...</td>\n",
              "      <td>Is a powerful recruiting technique for massive...</td>\n",
              "      <td>Jesse Lee is the Godfather of network marketin...</td>\n",
              "    </tr>\n",
              "  </tbody>\n",
              "</table>\n",
              "</div>"
            ],
            "text/plain": [
              "                               episode_id  ...                                        filtered-t5\n",
              "0  spotify:episode:08hXUWN6aOnHULXrqMiwTi  ...  Jesse Lee is the Godfather of network marketin...\n",
              "\n",
              "[1 rows x 30 columns]"
            ]
          },
          "metadata": {
            "tags": []
          },
          "execution_count": 44
        }
      ]
    },
    {
      "cell_type": "code",
      "metadata": {
        "id": "HRe5eWVXcNxd",
        "colab_type": "code",
        "colab": {}
      },
      "source": [
        "# filtered_abs = filtered_abs[['episode_id', 'episode_name_x', 'episode_description_x', 'pegasus-trained_x', 'pegasus-trained_y', 'filtered-t5']]\n",
        "filtered_abs['spanBert_t5'] = filtered_abs.apply(lambda row: clean_up(row['spanBert_t5']), axis=1)\n",
        "filtered_abs['firstN_t5'] = filtered_abs.apply(lambda row: clean_up(row['firstN_t5']), axis=1)\n",
        "# filtered_abs['filtered_pegasus'] = filtered_abs.apply(lambda row: clean_up(row['filtered-t5']), axis=1)"
      ],
      "execution_count": null,
      "outputs": []
    },
    {
      "cell_type": "code",
      "metadata": {
        "id": "R00_-XR7d3kP",
        "colab_type": "code",
        "colab": {
          "base_uri": "https://localhost:8080/",
          "height": 34
        },
        "outputId": "79d3346f-5e31-44db-d500-149122168743"
      },
      "source": [
        "# len(filtered_abs)"
      ],
      "execution_count": null,
      "outputs": [
        {
          "output_type": "execute_result",
          "data": {
            "text/plain": [
              "54"
            ]
          },
          "metadata": {
            "tags": []
          },
          "execution_count": 48
        }
      ]
    },
    {
      "cell_type": "code",
      "metadata": {
        "id": "eBvLE-bA-CI9",
        "colab_type": "code",
        "colab": {
          "base_uri": "https://localhost:8080/",
          "height": 170
        },
        "outputId": "48dac4c7-6435-4a5a-ebca-0eb9ba667b67"
      },
      "source": [
        "rouge.get_scores(filtered_abs['firstN_t5'], filtered_abs['episode_description_x'],  avg=True)"
      ],
      "execution_count": null,
      "outputs": [
        {
          "output_type": "execute_result",
          "data": {
            "text/plain": [
              "{'rouge-1': {'f': 0.15267601255025376,\n",
              "  'p': 0.19362990629251883,\n",
              "  'r': 0.20668914315203887},\n",
              " 'rouge-2': {'f': 0.03538914789773092,\n",
              "  'p': 0.04007405098673013,\n",
              "  'r': 0.054443292152407625},\n",
              " 'rouge-l': {'f': 0.14380397639876452,\n",
              "  'p': 0.17304373223203856,\n",
              "  'r': 0.1905634875397711}}"
            ]
          },
          "metadata": {
            "tags": []
          },
          "execution_count": 19
        }
      ]
    },
    {
      "cell_type": "code",
      "metadata": {
        "id": "tiRTCVE-_3u0",
        "colab_type": "code",
        "colab": {}
      },
      "source": [
        "def get_rouge(summary, gold):\n",
        "  s = str(summary)\n",
        "  g = str(gold)\n",
        "  res = rouge.get_scores(s, g)\n",
        "  return res[0]['rouge-l']['f'] * 100\n"
      ],
      "execution_count": null,
      "outputs": []
    },
    {
      "cell_type": "code",
      "metadata": {
        "id": "gTWlE2uCi_4R",
        "colab_type": "code",
        "colab": {
          "base_uri": "https://localhost:8080/",
          "height": 202
        },
        "outputId": "90ae2b4e-63a2-4e5b-f319-e8143b77516e"
      },
      "source": [
        "filtered_abs.head(1)"
      ],
      "execution_count": null,
      "outputs": [
        {
          "output_type": "execute_result",
          "data": {
            "text/html": [
              "<div>\n",
              "<style scoped>\n",
              "    .dataframe tbody tr th:only-of-type {\n",
              "        vertical-align: middle;\n",
              "    }\n",
              "\n",
              "    .dataframe tbody tr th {\n",
              "        vertical-align: top;\n",
              "    }\n",
              "\n",
              "    .dataframe thead th {\n",
              "        text-align: right;\n",
              "    }\n",
              "</style>\n",
              "<table border=\"1\" class=\"dataframe\">\n",
              "  <thead>\n",
              "    <tr style=\"text-align: right;\">\n",
              "      <th></th>\n",
              "      <th>episode_id</th>\n",
              "      <th>episode_name</th>\n",
              "      <th>episode_description_x</th>\n",
              "      <th>transcript_x</th>\n",
              "      <th>textrank_summary</th>\n",
              "      <th>lexrank_summary</th>\n",
              "      <th>lsa_summary</th>\n",
              "      <th>semi_supervised</th>\n",
              "      <th>supervised</th>\n",
              "      <th>extractive</th>\n",
              "      <th>t5_abstractive</th>\n",
              "      <th>first_five</th>\n",
              "      <th>scores</th>\n",
              "      <th>precision</th>\n",
              "      <th>recall</th>\n",
              "      <th>f1</th>\n",
              "      <th>Unnamed: 0</th>\n",
              "      <th>transcript_y</th>\n",
              "      <th>episode_description_y</th>\n",
              "      <th>spanBert_t5</th>\n",
              "      <th>firstN_t5</th>\n",
              "    </tr>\n",
              "  </thead>\n",
              "  <tbody>\n",
              "    <tr>\n",
              "      <th>0</th>\n",
              "      <td>spotify:episode:08hXUWN6aOnHULXrqMiwTi</td>\n",
              "      <td>Recruiting Secrets From a MLM Recruiting Monst...</td>\n",
              "      <td>If you want to start mastering recruiting whic...</td>\n",
              "      <td>Hello everybody. What's going on in this Jess...</td>\n",
              "      <td>Let's download these stories about whoever I d...</td>\n",
              "      <td>You can do whatever networking events and I'm ...</td>\n",
              "      <td>We're going to talk about some powerful recrui...</td>\n",
              "      <td>You cannot scummy hashtag wisely, or the peop...</td>\n",
              "      <td>In this episode I talk about some powerful re...</td>\n",
              "      <td>You cannot scummy hashtag wisely, or the peopl...</td>\n",
              "      <td>--- This episode is sponsored by  Anchor: The ...</td>\n",
              "      <td>Hello everybody. What's going on in this Jess...</td>\n",
              "      <td>{'precision': 0.7857142857142857, 'recall': 0....</td>\n",
              "      <td>0.785714</td>\n",
              "      <td>0.036913</td>\n",
              "      <td>0.070513</td>\n",
              "      <td>0</td>\n",
              "      <td>Hello everybody. What's going on in this Jess...</td>\n",
              "      <td>If you want to start mastering recruiting whic...</td>\n",
              "      <td>This is the #1 network marketing podcast in th...</td>\n",
              "      <td>This is a great podcast to start your network ...</td>\n",
              "    </tr>\n",
              "  </tbody>\n",
              "</table>\n",
              "</div>"
            ],
            "text/plain": [
              "                               episode_id  ...                                          firstN_t5\n",
              "0  spotify:episode:08hXUWN6aOnHULXrqMiwTi  ...  This is a great podcast to start your network ...\n",
              "\n",
              "[1 rows x 21 columns]"
            ]
          },
          "metadata": {
            "tags": []
          },
          "execution_count": 21
        }
      ]
    },
    {
      "cell_type": "code",
      "metadata": {
        "id": "8s_B93YMIxoD",
        "colab_type": "code",
        "colab": {}
      },
      "source": [
        "filtered_abs['SpanBERT + T5 ROUGE-L'] = filtered_abs.apply(lambda row: get_rouge(row['spanBert_t5'], row['episode_description_x']), axis=1)\n",
        "filtered_abs['First 15 + T5 ROUGE-L'] = filtered_abs.apply(lambda row: get_rouge(row['firstN_t5'], row['episode_description_x']), axis=1)\n",
        "# filtered_abs['T5 Finetuned ROUGE-L'] = filtered_abs.apply(lambda row: get_rouge(row['t5_abstractive'], row['episode_description_x']), axis=1)"
      ],
      "execution_count": null,
      "outputs": []
    },
    {
      "cell_type": "code",
      "metadata": {
        "id": "PLSV94y3JMAW",
        "colab_type": "code",
        "colab": {
          "base_uri": "https://localhost:8080/",
          "height": 219
        },
        "outputId": "404957d5-5f2d-4b72-9029-7aa98bd8daa4"
      },
      "source": [
        "# filtered_abs.head(1)"
      ],
      "execution_count": null,
      "outputs": [
        {
          "output_type": "execute_result",
          "data": {
            "text/html": [
              "<div>\n",
              "<style scoped>\n",
              "    .dataframe tbody tr th:only-of-type {\n",
              "        vertical-align: middle;\n",
              "    }\n",
              "\n",
              "    .dataframe tbody tr th {\n",
              "        vertical-align: top;\n",
              "    }\n",
              "\n",
              "    .dataframe thead th {\n",
              "        text-align: right;\n",
              "    }\n",
              "</style>\n",
              "<table border=\"1\" class=\"dataframe\">\n",
              "  <thead>\n",
              "    <tr style=\"text-align: right;\">\n",
              "      <th></th>\n",
              "      <th>episode_id</th>\n",
              "      <th>episode_name_x</th>\n",
              "      <th>episode_description_x</th>\n",
              "      <th>t5_base</th>\n",
              "      <th>filtered-t5</th>\n",
              "      <th>t5_abstractive</th>\n",
              "      <th>T5 Base ROUGE-L</th>\n",
              "      <th>T5 Filtered ROUGE-L</th>\n",
              "      <th>T5 Finetuned ROUGE-L</th>\n",
              "    </tr>\n",
              "  </thead>\n",
              "  <tbody>\n",
              "    <tr>\n",
              "      <th>0</th>\n",
              "      <td>spotify:episode:08hXUWN6aOnHULXrqMiwTi</td>\n",
              "      <td>Recruiting Secrets From a MLM Recruiting Monst...</td>\n",
              "      <td>If you want to start mastering recruiting whic...</td>\n",
              "      <td>If you want to be a network marketing recruiti...</td>\n",
              "      <td>.. make up your mind and start recruiting!.. i...</td>\n",
              "      <td>This is a great episode to start your network ...</td>\n",
              "      <td>32.183908</td>\n",
              "      <td>21.238938</td>\n",
              "      <td>19.178082</td>\n",
              "    </tr>\n",
              "  </tbody>\n",
              "</table>\n",
              "</div>"
            ],
            "text/plain": [
              "                               episode_id  ... T5 Finetuned ROUGE-L\n",
              "0  spotify:episode:08hXUWN6aOnHULXrqMiwTi  ...            19.178082\n",
              "\n",
              "[1 rows x 9 columns]"
            ]
          },
          "metadata": {
            "tags": []
          },
          "execution_count": 25
        }
      ]
    },
    {
      "cell_type": "code",
      "metadata": {
        "id": "rx90tdR7JtNE",
        "colab_type": "code",
        "colab": {
          "base_uri": "https://localhost:8080/",
          "height": 298
        },
        "outputId": "239b617a-ded9-41c0-b637-20ac88c07793"
      },
      "source": [
        "import matplotlib.pyplot as plt\n",
        "filtered_abs.boxplot(column=['SpanBERT + T5 ROUGE-L', 'First 15 + T5 ROUGE-L'])\n",
        "plt.suptitle(\"\")\n",
        "plt.title(\"Boxplot of ROUGE-L Scores of Ensemble Models\")"
      ],
      "execution_count": null,
      "outputs": [
        {
          "output_type": "execute_result",
          "data": {
            "text/plain": [
              "Text(0.5, 1.0, 'Boxplot of ROUGE-L Scores of Ensemble Models')"
            ]
          },
          "metadata": {
            "tags": []
          },
          "execution_count": 23
        },
        {
          "output_type": "display_data",
          "data": {
            "image/png": "[encoded data removed]",
            "text/plain": [
              "<Figure size 432x288 with 1 Axes>"
            ]
          },
          "metadata": {
            "tags": [],
            "needs_background": "light"
          }
        }
      ]
    },
    {
      "cell_type": "code",
      "metadata": {
        "id": "d8qEhtw_KmfT",
        "colab_type": "code",
        "colab": {
          "base_uri": "https://localhost:8080/",
          "height": 34
        },
        "outputId": "7b3b52c9-5efa-473a-91d0-136d34706c46"
      },
      "source": [
        "# filtered_abs['T5 Finetuned ROUGE-L'].max()"
      ],
      "execution_count": null,
      "outputs": [
        {
          "output_type": "execute_result",
          "data": {
            "text/plain": [
              "41.37930989298454"
            ]
          },
          "metadata": {
            "tags": []
          },
          "execution_count": 27
        }
      ]
    },
    {
      "cell_type": "code",
      "metadata": {
        "id": "noa-oqr-Nzg7",
        "colab_type": "code",
        "colab": {
          "base_uri": "https://localhost:8080/",
          "height": 369
        },
        "outputId": "736297ea-62d0-4a42-ed47-e93e1ee87d55"
      },
      "source": [
        "# filtered_abs[filtered_abs['T5 Finetuned ROUGE-L'] == 0]"
      ],
      "execution_count": null,
      "outputs": [
        {
          "output_type": "execute_result",
          "data": {
            "text/html": [
              "<div>\n",
              "<style scoped>\n",
              "    .dataframe tbody tr th:only-of-type {\n",
              "        vertical-align: middle;\n",
              "    }\n",
              "\n",
              "    .dataframe tbody tr th {\n",
              "        vertical-align: top;\n",
              "    }\n",
              "\n",
              "    .dataframe thead th {\n",
              "        text-align: right;\n",
              "    }\n",
              "</style>\n",
              "<table border=\"1\" class=\"dataframe\">\n",
              "  <thead>\n",
              "    <tr style=\"text-align: right;\">\n",
              "      <th></th>\n",
              "      <th>episode_id</th>\n",
              "      <th>episode_name_x</th>\n",
              "      <th>episode_description_x</th>\n",
              "      <th>t5_base</th>\n",
              "      <th>filtered-t5</th>\n",
              "      <th>t5_abstractive</th>\n",
              "      <th>T5 Base ROUGE-L</th>\n",
              "      <th>T5 Filtered ROUGE-L</th>\n",
              "      <th>T5 Finetuned ROUGE-L</th>\n",
              "    </tr>\n",
              "  </thead>\n",
              "  <tbody>\n",
              "    <tr>\n",
              "      <th>3</th>\n",
              "      <td>spotify:episode:0DKARHBAz6GNwwIBz9Y4Sk</td>\n",
              "      <td>Fear? I Don't Know Her!</td>\n",
              "      <td>Hey eaters!! To commemorate spooky season, thi...</td>\n",
              "      <td>A lot of people are afraid of what they're doi...</td>\n",
              "      <td>. We talk about how we can overcome fear, and ...</td>\n",
              "      <td>This episode we talk about fear and how it can...</td>\n",
              "      <td>7.692307</td>\n",
              "      <td>3.703703</td>\n",
              "      <td>0.0</td>\n",
              "    </tr>\n",
              "    <tr>\n",
              "      <th>31</th>\n",
              "      <td>spotify:episode:4oTmr0q3EuTvaehhsY6lcu</td>\n",
              "      <td>21 Signs Shes No Good</td>\n",
              "      <td>Just Listen G</td>\n",
              "      <td>A lot of women aren't good at what they do, bu...</td>\n",
              "      <td>.. if you’re single, it’s time to take care of...</td>\n",
              "      <td>This is a list of the 21 signs to avoid in you...</td>\n",
              "      <td>0.000000</td>\n",
              "      <td>0.000000</td>\n",
              "      <td>0.0</td>\n",
              "    </tr>\n",
              "  </tbody>\n",
              "</table>\n",
              "</div>"
            ],
            "text/plain": [
              "                                episode_id  ... T5 Finetuned ROUGE-L\n",
              "3   spotify:episode:0DKARHBAz6GNwwIBz9Y4Sk  ...                  0.0\n",
              "31  spotify:episode:4oTmr0q3EuTvaehhsY6lcu  ...                  0.0\n",
              "\n",
              "[2 rows x 9 columns]"
            ]
          },
          "metadata": {
            "tags": []
          },
          "execution_count": 28
        }
      ]
    },
    {
      "cell_type": "code",
      "metadata": {
        "id": "9SUSCfgqN-oV",
        "colab_type": "code",
        "colab": {
          "base_uri": "https://localhost:8080/",
          "height": 35
        },
        "outputId": "95e8fcf2-21f8-482a-89ca-e81bdf6e69c4"
      },
      "source": [
        "# filtered_abs.iloc[13]['t5_abstractive']"
      ],
      "execution_count": null,
      "outputs": [
        {
          "output_type": "execute_result",
          "data": {
            "application/vnd.google.colaboratory.intrinsic+json": {
              "type": "string"
            },
            "text/plain": [
              "'This episode is all about how to start your own portfolio..'"
            ]
          },
          "metadata": {
            "tags": []
          },
          "execution_count": 29
        }
      ]
    },
    {
      "cell_type": "code",
      "metadata": {
        "id": "Ui5EH0LGOMZg",
        "colab_type": "code",
        "colab": {
          "base_uri": "https://localhost:8080/",
          "height": 35
        },
        "outputId": "82f6d850-432a-43c4-f92e-aae50e9eb591"
      },
      "source": [
        "ensemble.iloc[120]['firstN_t5']"
      ],
      "execution_count": null,
      "outputs": [
        {
          "output_type": "execute_result",
          "data": {
            "application/vnd.google.colaboratory.intrinsic+json": {
              "type": "string"
            },
            "text/plain": [
              "\"Today's episode we will continue our fourth part of week 2 with 4 new words!\""
            ]
          },
          "metadata": {
            "tags": []
          },
          "execution_count": 28
        }
      ]
    },
    {
      "cell_type": "code",
      "metadata": {
        "id": "PqvrW0Ai3G6n",
        "colab_type": "code",
        "colab": {
          "base_uri": "https://localhost:8080/",
          "height": 35
        },
        "outputId": "b8ebbccd-1212-4d1b-82a3-2f8c07d89ef2"
      },
      "source": [
        "pegasus1.iloc[120]['pegasus-trained']"
      ],
      "execution_count": null,
      "outputs": [
        {
          "output_type": "execute_result",
          "data": {
            "application/vnd.google.colaboratory.intrinsic+json": {
              "type": "string"
            },
            "text/plain": [
              "'Is incomprehensible, and we are going to continue our fourth part of week two vocabulary.'"
            ]
          },
          "metadata": {
            "tags": []
          },
          "execution_count": 61
        }
      ]
    },
    {
      "cell_type": "code",
      "metadata": {
        "id": "p3nGGbP_pfZo",
        "colab_type": "code",
        "colab": {
          "base_uri": "https://localhost:8080/",
          "height": 106
        },
        "outputId": "9abfcd41-da4e-4f99-d7e2-f82056f5d135"
      },
      "source": [
        "# filtered_t5.iloc[120]['filtered-t5']"
      ],
      "execution_count": null,
      "outputs": [
        {
          "output_type": "execute_result",
          "data": {
            "application/vnd.google.colaboratory.intrinsic+json": {
              "type": "string"
            },
            "text/plain": [
              "'. Incomprehensible, Manipulate, Maximize and Mimic. These words will help you understand the 4 new words for today: Incomprehensible, Manipulate, Maximize, Mimic, Maximum, & Mimic.. Enjoy!..........................................................................................................................................................................................................................................................................................................................................................................................................................................................................................................................................................................................................................................................................................................................................................................................................................................................................................................................................................................................................................................................................................................................................................................................................................................................................................................................................................................................................................................................'"
            ]
          },
          "metadata": {
            "tags": []
          },
          "execution_count": 33
        }
      ]
    },
    {
      "cell_type": "code",
      "metadata": {
        "id": "YaCJQF7W0HMu",
        "colab_type": "code",
        "colab": {}
      },
      "source": [
        ""
      ],
      "execution_count": null,
      "outputs": []
    }
  ]
}