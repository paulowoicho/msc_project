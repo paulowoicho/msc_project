{
  "nbformat": 4,
  "nbformat_minor": 0,
  "metadata": {
    "colab": {
      "name": "Spotify Dataset Discovery",
      "provenance": []
    },
    "kernelspec": {
      "name": "python3",
      "display_name": "Python 3"
    }
  },
  "cells": [
    {
      "cell_type": "code",
      "metadata": {
        "id": "RLPemeUE-1Fx",
        "colab_type": "code",
        "colab": {}
      },
      "source": [
        "from google.colab import auth\n",
        "auth.authenticate_user()"
      ],
      "execution_count": null,
      "outputs": []
    },
    {
      "cell_type": "code",
      "metadata": {
        "id": "nP9u5fgV_suo",
        "colab_type": "code",
        "colab": {
          "base_uri": "https://localhost:8080/",
          "height": 51
        },
        "outputId": "6e849e33-6f6d-4f04-e4dc-9672a8dc267a"
      },
      "source": [
        "project_id = 'test-281700'\n",
        "!gcloud config set project {project_id}\n",
        "!gsutil ls"
      ],
      "execution_count": null,
      "outputs": [
        {
          "output_type": "stream",
          "text": [
            "Updated property [core/project].\n",
            "gs://spotify_asr_dataset/\n"
          ],
          "name": "stdout"
        }
      ]
    },
    {
      "cell_type": "code",
      "metadata": {
        "id": "UDd16Kwu_30b",
        "colab_type": "code",
        "colab": {
          "base_uri": "https://localhost:8080/",
          "height": 68
        },
        "outputId": "ec5362a2-e139-4a4b-ed4e-ba7769f6a1ab"
      },
      "source": [
        "bucket_name = 'spotify_asr_dataset'\n",
        "#download dataset\n",
        "!gsutil -m cp -r gs://{bucket_name}/dataset.csv /content/"
      ],
      "execution_count": null,
      "outputs": [
        {
          "output_type": "stream",
          "text": [
            "Copying gs://spotify_asr_dataset/dataset.csv...\n",
            "\\ [1/1 files][  2.9 GiB/  2.9 GiB] 100% Done  51.3 MiB/s ETA 00:00:00           \n",
            "Operation completed over 1 objects/2.9 GiB.                                      \n"
          ],
          "name": "stdout"
        }
      ]
    },
    {
      "cell_type": "code",
      "metadata": {
        "id": "SDSlEYpo_6_o",
        "colab_type": "code",
        "colab": {
          "base_uri": "https://localhost:8080/",
          "height": 204
        },
        "outputId": "c2034ff9-e72c-4277-a548-be3ce0d6cbc3"
      },
      "source": [
        "import pandas as pd\n",
        "dataset = pd.read_csv('dataset.csv')\n",
        "dataset.head(5)"
      ],
      "execution_count": null,
      "outputs": [
        {
          "output_type": "execute_result",
          "data": {
            "text/html": [
              "<div>\n",
              "<style scoped>\n",
              "    .dataframe tbody tr th:only-of-type {\n",
              "        vertical-align: middle;\n",
              "    }\n",
              "\n",
              "    .dataframe tbody tr th {\n",
              "        vertical-align: top;\n",
              "    }\n",
              "\n",
              "    .dataframe thead th {\n",
              "        text-align: right;\n",
              "    }\n",
              "</style>\n",
              "<table border=\"1\" class=\"dataframe\">\n",
              "  <thead>\n",
              "    <tr style=\"text-align: right;\">\n",
              "      <th></th>\n",
              "      <th>episode_id</th>\n",
              "      <th>transcript</th>\n",
              "    </tr>\n",
              "  </thead>\n",
              "  <tbody>\n",
              "    <tr>\n",
              "      <th>0</th>\n",
              "      <td>spotify:episode:399kdfMnjw0KYANZU7CQJ0</td>\n",
              "      <td>It's the mother back a podcast. Well that was...</td>\n",
              "    </tr>\n",
              "    <tr>\n",
              "      <th>1</th>\n",
              "      <td>spotify:episode:49wcMBeJfaaL6KFFdsWvac</td>\n",
              "      <td>If you haven't heard about anchor is the easi...</td>\n",
              "    </tr>\n",
              "    <tr>\n",
              "      <th>2</th>\n",
              "      <td>spotify:episode:0JOymLFsRdeBVZbEA72ayj</td>\n",
              "      <td>Hello and welcome to the podcast the first ev...</td>\n",
              "    </tr>\n",
              "    <tr>\n",
              "      <th>3</th>\n",
              "      <td>spotify:episode:7sHyO8wLeEd1LuxfS8AIls</td>\n",
              "      <td>Hey, hey. Hey. Hey. Hey, this is your girl Je...</td>\n",
              "    </tr>\n",
              "    <tr>\n",
              "      <th>4</th>\n",
              "      <td>spotify:episode:1WosITIkpJemzZaPh8zAVb</td>\n",
              "      <td>This is the planetary potential podcast for t...</td>\n",
              "    </tr>\n",
              "  </tbody>\n",
              "</table>\n",
              "</div>"
            ],
            "text/plain": [
              "                               episode_id                                         transcript\n",
              "0  spotify:episode:399kdfMnjw0KYANZU7CQJ0   It's the mother back a podcast. Well that was...\n",
              "1  spotify:episode:49wcMBeJfaaL6KFFdsWvac   If you haven't heard about anchor is the easi...\n",
              "2  spotify:episode:0JOymLFsRdeBVZbEA72ayj   Hello and welcome to the podcast the first ev...\n",
              "3  spotify:episode:7sHyO8wLeEd1LuxfS8AIls   Hey, hey. Hey. Hey. Hey, this is your girl Je...\n",
              "4  spotify:episode:1WosITIkpJemzZaPh8zAVb   This is the planetary potential podcast for t..."
            ]
          },
          "metadata": {
            "tags": []
          },
          "execution_count": 4
        }
      ]
    },
    {
      "cell_type": "code",
      "metadata": {
        "id": "7ZNKl6VdAAvR",
        "colab_type": "code",
        "colab": {
          "base_uri": "https://localhost:8080/",
          "height": 530
        },
        "outputId": "373671ff-49f8-48e0-8b8a-e9c2d990e3ac"
      },
      "source": [
        "!gsutil -m cp -r gs://{bucket_name}/metadata.tsv /content/\n",
        "podcasts_metadata = pd.read_csv('metadata.tsv', sep='\\t')\n",
        "podcasts_metadata.head(5)"
      ],
      "execution_count": null,
      "outputs": [
        {
          "output_type": "stream",
          "text": [
            "Copying gs://spotify_asr_dataset/metadata.tsv...\n",
            "- [1/1 files][112.2 MiB/112.2 MiB] 100% Done                                    \n",
            "Operation completed over 1 objects/112.2 MiB.                                    \n"
          ],
          "name": "stdout"
        },
        {
          "output_type": "execute_result",
          "data": {
            "text/html": [
              "<div>\n",
              "<style scoped>\n",
              "    .dataframe tbody tr th:only-of-type {\n",
              "        vertical-align: middle;\n",
              "    }\n",
              "\n",
              "    .dataframe tbody tr th {\n",
              "        vertical-align: top;\n",
              "    }\n",
              "\n",
              "    .dataframe thead th {\n",
              "        text-align: right;\n",
              "    }\n",
              "</style>\n",
              "<table border=\"1\" class=\"dataframe\">\n",
              "  <thead>\n",
              "    <tr style=\"text-align: right;\">\n",
              "      <th></th>\n",
              "      <th>show_uri</th>\n",
              "      <th>show_name</th>\n",
              "      <th>show_description</th>\n",
              "      <th>publisher</th>\n",
              "      <th>language</th>\n",
              "      <th>rss_link</th>\n",
              "      <th>episode_uri</th>\n",
              "      <th>episode_name</th>\n",
              "      <th>episode_description</th>\n",
              "      <th>duration</th>\n",
              "      <th>show_filename_prefix</th>\n",
              "      <th>episode_filename_prefix</th>\n",
              "    </tr>\n",
              "  </thead>\n",
              "  <tbody>\n",
              "    <tr>\n",
              "      <th>0</th>\n",
              "      <td>spotify:show:2NYtxEZyYelR6RMKmjfPLB</td>\n",
              "      <td>Kream in your Koffee</td>\n",
              "      <td>A 20-something blunt female takes on the world...</td>\n",
              "      <td>Katie Houle</td>\n",
              "      <td>['en']</td>\n",
              "      <td>https://anchor.fm/s/11b84b68/podcast/rss</td>\n",
              "      <td>spotify:episode:000A9sRBYdVh66csG2qEdj</td>\n",
              "      <td>1: It’s Christmas Time!</td>\n",
              "      <td>On the first ever episode of Kream in your Kof...</td>\n",
              "      <td>12.700133</td>\n",
              "      <td>show_2NYtxEZyYelR6RMKmjfPLB</td>\n",
              "      <td>000A9sRBYdVh66csG2qEdj</td>\n",
              "    </tr>\n",
              "    <tr>\n",
              "      <th>1</th>\n",
              "      <td>spotify:show:15iWCbU7QoO23EndPEO6aN</td>\n",
              "      <td>Morning Cup Of Murder</td>\n",
              "      <td>Ever wonder what murder took place on today in...</td>\n",
              "      <td>Morning Cup Of Murder</td>\n",
              "      <td>['en']</td>\n",
              "      <td>https://anchor.fm/s/b07181c/podcast/rss</td>\n",
              "      <td>spotify:episode:000HP8n3hNIfglT2wSI2cA</td>\n",
              "      <td>The Goleta Postal Facility shootings- January ...</td>\n",
              "      <td>See something, say something. It’s a mantra ma...</td>\n",
              "      <td>6.019383</td>\n",
              "      <td>show_15iWCbU7QoO23EndPEO6aN</td>\n",
              "      <td>000HP8n3hNIfglT2wSI2cA</td>\n",
              "    </tr>\n",
              "    <tr>\n",
              "      <th>2</th>\n",
              "      <td>spotify:show:6vZRgUFTYwbAA79UNCADr4</td>\n",
              "      <td>Inside The 18 : A Podcast for Goalkeepers by G...</td>\n",
              "      <td>Inside the 18 is your source for all things Go...</td>\n",
              "      <td>Inside the 18 GK Media</td>\n",
              "      <td>['en']</td>\n",
              "      <td>https://anchor.fm/s/81a072c/podcast/rss</td>\n",
              "      <td>spotify:episode:001UfOruzkA3Bn1SPjcdfa</td>\n",
              "      <td>Ep.36 - Incorporating a Singular Goalkeeping C...</td>\n",
              "      <td>Today’s episode is a sit down Michael and Omar...</td>\n",
              "      <td>43.616333</td>\n",
              "      <td>show_6vZRgUFTYwbAA79UNCADr4</td>\n",
              "      <td>001UfOruzkA3Bn1SPjcdfa</td>\n",
              "    </tr>\n",
              "    <tr>\n",
              "      <th>3</th>\n",
              "      <td>spotify:show:5BvKEjaMSuvUsGROGi2S7s</td>\n",
              "      <td>Arrowhead Live!</td>\n",
              "      <td>Your favorite podcast for everything @Chiefs! ...</td>\n",
              "      <td>Arrowhead Live!</td>\n",
              "      <td>['en-US']</td>\n",
              "      <td>https://anchor.fm/s/917dba4/podcast/rss</td>\n",
              "      <td>spotify:episode:001i89SvIQgDuuyC53hfBm</td>\n",
              "      <td>Episode 1: Arrowhead Live! Debut</td>\n",
              "      <td>Join us as we take a look at all current Chief...</td>\n",
              "      <td>58.189200</td>\n",
              "      <td>show_5BvKEjaMSuvUsGROGi2S7s</td>\n",
              "      <td>001i89SvIQgDuuyC53hfBm</td>\n",
              "    </tr>\n",
              "    <tr>\n",
              "      <th>4</th>\n",
              "      <td>spotify:show:7w3h3umpH74veEJcbE6xf4</td>\n",
              "      <td>FBoL</td>\n",
              "      <td>The comedy podcast about toxic characters, wri...</td>\n",
              "      <td>Emily Edwards</td>\n",
              "      <td>['en']</td>\n",
              "      <td>https://www.fuckboisoflit.com/episodes?format=rss</td>\n",
              "      <td>spotify:episode:0025RWNwe2lnp6HcnfzwzG</td>\n",
              "      <td>The Lion, The Witch, And The Wardrobe - Ashley...</td>\n",
              "      <td>The modern morality tail of how to stay good f...</td>\n",
              "      <td>51.782050</td>\n",
              "      <td>show_7w3h3umpH74veEJcbE6xf4</td>\n",
              "      <td>0025RWNwe2lnp6HcnfzwzG</td>\n",
              "    </tr>\n",
              "  </tbody>\n",
              "</table>\n",
              "</div>"
            ],
            "text/plain": [
              "                              show_uri  ... episode_filename_prefix\n",
              "0  spotify:show:2NYtxEZyYelR6RMKmjfPLB  ...  000A9sRBYdVh66csG2qEdj\n",
              "1  spotify:show:15iWCbU7QoO23EndPEO6aN  ...  000HP8n3hNIfglT2wSI2cA\n",
              "2  spotify:show:6vZRgUFTYwbAA79UNCADr4  ...  001UfOruzkA3Bn1SPjcdfa\n",
              "3  spotify:show:5BvKEjaMSuvUsGROGi2S7s  ...  001i89SvIQgDuuyC53hfBm\n",
              "4  spotify:show:7w3h3umpH74veEJcbE6xf4  ...  0025RWNwe2lnp6HcnfzwzG\n",
              "\n",
              "[5 rows x 12 columns]"
            ]
          },
          "metadata": {
            "tags": []
          },
          "execution_count": 5
        }
      ]
    },
    {
      "cell_type": "code",
      "metadata": {
        "id": "c_8VnlTIAEON",
        "colab_type": "code",
        "colab": {
          "base_uri": "https://localhost:8080/",
          "height": 564
        },
        "outputId": "00e7da0c-994a-4b33-b600-b320930c393e"
      },
      "source": [
        "full_dataset = pd.merge(left=podcasts_metadata, right=dataset, how='left', left_on='episode_uri', right_on='episode_id')\n",
        "del full_dataset['episode_uri']\n",
        "full_dataset.head(5)"
      ],
      "execution_count": null,
      "outputs": [
        {
          "output_type": "execute_result",
          "data": {
            "text/html": [
              "<div>\n",
              "<style scoped>\n",
              "    .dataframe tbody tr th:only-of-type {\n",
              "        vertical-align: middle;\n",
              "    }\n",
              "\n",
              "    .dataframe tbody tr th {\n",
              "        vertical-align: top;\n",
              "    }\n",
              "\n",
              "    .dataframe thead th {\n",
              "        text-align: right;\n",
              "    }\n",
              "</style>\n",
              "<table border=\"1\" class=\"dataframe\">\n",
              "  <thead>\n",
              "    <tr style=\"text-align: right;\">\n",
              "      <th></th>\n",
              "      <th>show_uri</th>\n",
              "      <th>show_name</th>\n",
              "      <th>show_description</th>\n",
              "      <th>publisher</th>\n",
              "      <th>language</th>\n",
              "      <th>rss_link</th>\n",
              "      <th>episode_name</th>\n",
              "      <th>episode_description</th>\n",
              "      <th>duration</th>\n",
              "      <th>show_filename_prefix</th>\n",
              "      <th>episode_filename_prefix</th>\n",
              "      <th>episode_id</th>\n",
              "      <th>transcript</th>\n",
              "    </tr>\n",
              "  </thead>\n",
              "  <tbody>\n",
              "    <tr>\n",
              "      <th>0</th>\n",
              "      <td>spotify:show:2NYtxEZyYelR6RMKmjfPLB</td>\n",
              "      <td>Kream in your Koffee</td>\n",
              "      <td>A 20-something blunt female takes on the world...</td>\n",
              "      <td>Katie Houle</td>\n",
              "      <td>['en']</td>\n",
              "      <td>https://anchor.fm/s/11b84b68/podcast/rss</td>\n",
              "      <td>1: It’s Christmas Time!</td>\n",
              "      <td>On the first ever episode of Kream in your Kof...</td>\n",
              "      <td>12.700133</td>\n",
              "      <td>show_2NYtxEZyYelR6RMKmjfPLB</td>\n",
              "      <td>000A9sRBYdVh66csG2qEdj</td>\n",
              "      <td>spotify:episode:000A9sRBYdVh66csG2qEdj</td>\n",
              "      <td>Hello. Hello. Hello everyone. This is Katie a...</td>\n",
              "    </tr>\n",
              "    <tr>\n",
              "      <th>1</th>\n",
              "      <td>spotify:show:15iWCbU7QoO23EndPEO6aN</td>\n",
              "      <td>Morning Cup Of Murder</td>\n",
              "      <td>Ever wonder what murder took place on today in...</td>\n",
              "      <td>Morning Cup Of Murder</td>\n",
              "      <td>['en']</td>\n",
              "      <td>https://anchor.fm/s/b07181c/podcast/rss</td>\n",
              "      <td>The Goleta Postal Facility shootings- January ...</td>\n",
              "      <td>See something, say something. It’s a mantra ma...</td>\n",
              "      <td>6.019383</td>\n",
              "      <td>show_15iWCbU7QoO23EndPEO6aN</td>\n",
              "      <td>000HP8n3hNIfglT2wSI2cA</td>\n",
              "      <td>spotify:episode:000HP8n3hNIfglT2wSI2cA</td>\n",
              "      <td>There were two more murders 15 miles away arr...</td>\n",
              "    </tr>\n",
              "    <tr>\n",
              "      <th>2</th>\n",
              "      <td>spotify:show:6vZRgUFTYwbAA79UNCADr4</td>\n",
              "      <td>Inside The 18 : A Podcast for Goalkeepers by G...</td>\n",
              "      <td>Inside the 18 is your source for all things Go...</td>\n",
              "      <td>Inside the 18 GK Media</td>\n",
              "      <td>['en']</td>\n",
              "      <td>https://anchor.fm/s/81a072c/podcast/rss</td>\n",
              "      <td>Ep.36 - Incorporating a Singular Goalkeeping C...</td>\n",
              "      <td>Today’s episode is a sit down Michael and Omar...</td>\n",
              "      <td>43.616333</td>\n",
              "      <td>show_6vZRgUFTYwbAA79UNCADr4</td>\n",
              "      <td>001UfOruzkA3Bn1SPjcdfa</td>\n",
              "      <td>spotify:episode:001UfOruzkA3Bn1SPjcdfa</td>\n",
              "      <td>Welcome to inside the 18. Today's episode is ...</td>\n",
              "    </tr>\n",
              "    <tr>\n",
              "      <th>3</th>\n",
              "      <td>spotify:show:5BvKEjaMSuvUsGROGi2S7s</td>\n",
              "      <td>Arrowhead Live!</td>\n",
              "      <td>Your favorite podcast for everything @Chiefs! ...</td>\n",
              "      <td>Arrowhead Live!</td>\n",
              "      <td>['en-US']</td>\n",
              "      <td>https://anchor.fm/s/917dba4/podcast/rss</td>\n",
              "      <td>Episode 1: Arrowhead Live! Debut</td>\n",
              "      <td>Join us as we take a look at all current Chief...</td>\n",
              "      <td>58.189200</td>\n",
              "      <td>show_5BvKEjaMSuvUsGROGi2S7s</td>\n",
              "      <td>001i89SvIQgDuuyC53hfBm</td>\n",
              "      <td>spotify:episode:001i89SvIQgDuuyC53hfBm</td>\n",
              "      <td>Hey cheese fans before we get started. I want...</td>\n",
              "    </tr>\n",
              "    <tr>\n",
              "      <th>4</th>\n",
              "      <td>spotify:show:7w3h3umpH74veEJcbE6xf4</td>\n",
              "      <td>FBoL</td>\n",
              "      <td>The comedy podcast about toxic characters, wri...</td>\n",
              "      <td>Emily Edwards</td>\n",
              "      <td>['en']</td>\n",
              "      <td>https://www.fuckboisoflit.com/episodes?format=rss</td>\n",
              "      <td>The Lion, The Witch, And The Wardrobe - Ashley...</td>\n",
              "      <td>The modern morality tail of how to stay good f...</td>\n",
              "      <td>51.782050</td>\n",
              "      <td>show_7w3h3umpH74veEJcbE6xf4</td>\n",
              "      <td>0025RWNwe2lnp6HcnfzwzG</td>\n",
              "      <td>spotify:episode:0025RWNwe2lnp6HcnfzwzG</td>\n",
              "      <td>Sorry to interrupt the show, but I do have to...</td>\n",
              "    </tr>\n",
              "  </tbody>\n",
              "</table>\n",
              "</div>"
            ],
            "text/plain": [
              "                              show_uri  ...                                         transcript\n",
              "0  spotify:show:2NYtxEZyYelR6RMKmjfPLB  ...   Hello. Hello. Hello everyone. This is Katie a...\n",
              "1  spotify:show:15iWCbU7QoO23EndPEO6aN  ...   There were two more murders 15 miles away arr...\n",
              "2  spotify:show:6vZRgUFTYwbAA79UNCADr4  ...   Welcome to inside the 18. Today's episode is ...\n",
              "3  spotify:show:5BvKEjaMSuvUsGROGi2S7s  ...   Hey cheese fans before we get started. I want...\n",
              "4  spotify:show:7w3h3umpH74veEJcbE6xf4  ...   Sorry to interrupt the show, but I do have to...\n",
              "\n",
              "[5 rows x 13 columns]"
            ]
          },
          "metadata": {
            "tags": []
          },
          "execution_count": 6
        }
      ]
    },
    {
      "cell_type": "code",
      "metadata": {
        "id": "Bfm0o-EZAm5H",
        "colab_type": "code",
        "colab": {
          "base_uri": "https://localhost:8080/",
          "height": 470
        },
        "outputId": "51ba9616-b1e2-4de9-a85e-d308acd8ede5"
      },
      "source": [
        "#number of unique shows\n",
        "podcasts_metadata.groupby(by=['show_uri']).count()"
      ],
      "execution_count": null,
      "outputs": [
        {
          "output_type": "execute_result",
          "data": {
            "text/html": [
              "<div>\n",
              "<style scoped>\n",
              "    .dataframe tbody tr th:only-of-type {\n",
              "        vertical-align: middle;\n",
              "    }\n",
              "\n",
              "    .dataframe tbody tr th {\n",
              "        vertical-align: top;\n",
              "    }\n",
              "\n",
              "    .dataframe thead th {\n",
              "        text-align: right;\n",
              "    }\n",
              "</style>\n",
              "<table border=\"1\" class=\"dataframe\">\n",
              "  <thead>\n",
              "    <tr style=\"text-align: right;\">\n",
              "      <th></th>\n",
              "      <th>show_name</th>\n",
              "      <th>show_description</th>\n",
              "      <th>publisher</th>\n",
              "      <th>language</th>\n",
              "      <th>rss_link</th>\n",
              "      <th>episode_uri</th>\n",
              "      <th>episode_name</th>\n",
              "      <th>episode_description</th>\n",
              "      <th>duration</th>\n",
              "      <th>show_filename_prefix</th>\n",
              "      <th>episode_filename_prefix</th>\n",
              "    </tr>\n",
              "    <tr>\n",
              "      <th>show_uri</th>\n",
              "      <th></th>\n",
              "      <th></th>\n",
              "      <th></th>\n",
              "      <th></th>\n",
              "      <th></th>\n",
              "      <th></th>\n",
              "      <th></th>\n",
              "      <th></th>\n",
              "      <th></th>\n",
              "      <th></th>\n",
              "      <th></th>\n",
              "    </tr>\n",
              "  </thead>\n",
              "  <tbody>\n",
              "    <tr>\n",
              "      <th>spotify:show:002B8PbILr169CdsS9ySTH</th>\n",
              "      <td>1</td>\n",
              "      <td>1</td>\n",
              "      <td>1</td>\n",
              "      <td>1</td>\n",
              "      <td>1</td>\n",
              "      <td>1</td>\n",
              "      <td>1</td>\n",
              "      <td>1</td>\n",
              "      <td>1</td>\n",
              "      <td>1</td>\n",
              "      <td>1</td>\n",
              "    </tr>\n",
              "    <tr>\n",
              "      <th>spotify:show:005ZAjJK1wlD4E2YxeibBb</th>\n",
              "      <td>1</td>\n",
              "      <td>1</td>\n",
              "      <td>1</td>\n",
              "      <td>1</td>\n",
              "      <td>1</td>\n",
              "      <td>1</td>\n",
              "      <td>1</td>\n",
              "      <td>1</td>\n",
              "      <td>1</td>\n",
              "      <td>1</td>\n",
              "      <td>1</td>\n",
              "    </tr>\n",
              "    <tr>\n",
              "      <th>spotify:show:007ISDom3HctggVaUjno6B</th>\n",
              "      <td>1</td>\n",
              "      <td>1</td>\n",
              "      <td>1</td>\n",
              "      <td>1</td>\n",
              "      <td>1</td>\n",
              "      <td>1</td>\n",
              "      <td>1</td>\n",
              "      <td>1</td>\n",
              "      <td>1</td>\n",
              "      <td>1</td>\n",
              "      <td>1</td>\n",
              "    </tr>\n",
              "    <tr>\n",
              "      <th>spotify:show:00BUDdSn801kmcWw50Us8S</th>\n",
              "      <td>1</td>\n",
              "      <td>1</td>\n",
              "      <td>1</td>\n",
              "      <td>1</td>\n",
              "      <td>1</td>\n",
              "      <td>1</td>\n",
              "      <td>1</td>\n",
              "      <td>1</td>\n",
              "      <td>1</td>\n",
              "      <td>1</td>\n",
              "      <td>1</td>\n",
              "    </tr>\n",
              "    <tr>\n",
              "      <th>spotify:show:00BnuPjwbyMPxVIM7NimQj</th>\n",
              "      <td>1</td>\n",
              "      <td>1</td>\n",
              "      <td>1</td>\n",
              "      <td>1</td>\n",
              "      <td>1</td>\n",
              "      <td>1</td>\n",
              "      <td>1</td>\n",
              "      <td>1</td>\n",
              "      <td>1</td>\n",
              "      <td>1</td>\n",
              "      <td>1</td>\n",
              "    </tr>\n",
              "    <tr>\n",
              "      <th>...</th>\n",
              "      <td>...</td>\n",
              "      <td>...</td>\n",
              "      <td>...</td>\n",
              "      <td>...</td>\n",
              "      <td>...</td>\n",
              "      <td>...</td>\n",
              "      <td>...</td>\n",
              "      <td>...</td>\n",
              "      <td>...</td>\n",
              "      <td>...</td>\n",
              "      <td>...</td>\n",
              "    </tr>\n",
              "    <tr>\n",
              "      <th>spotify:show:7zuxJZkpFwNAQN8GN6Hyda</th>\n",
              "      <td>23</td>\n",
              "      <td>23</td>\n",
              "      <td>23</td>\n",
              "      <td>23</td>\n",
              "      <td>23</td>\n",
              "      <td>23</td>\n",
              "      <td>23</td>\n",
              "      <td>23</td>\n",
              "      <td>23</td>\n",
              "      <td>23</td>\n",
              "      <td>23</td>\n",
              "    </tr>\n",
              "    <tr>\n",
              "      <th>spotify:show:7zvzi6dk9lEBDxlfpoeMof</th>\n",
              "      <td>2</td>\n",
              "      <td>2</td>\n",
              "      <td>2</td>\n",
              "      <td>2</td>\n",
              "      <td>2</td>\n",
              "      <td>2</td>\n",
              "      <td>2</td>\n",
              "      <td>2</td>\n",
              "      <td>2</td>\n",
              "      <td>2</td>\n",
              "      <td>2</td>\n",
              "    </tr>\n",
              "    <tr>\n",
              "      <th>spotify:show:7zzZuHQrVExZaZpdN1pRqz</th>\n",
              "      <td>5</td>\n",
              "      <td>5</td>\n",
              "      <td>5</td>\n",
              "      <td>5</td>\n",
              "      <td>5</td>\n",
              "      <td>5</td>\n",
              "      <td>5</td>\n",
              "      <td>5</td>\n",
              "      <td>5</td>\n",
              "      <td>5</td>\n",
              "      <td>5</td>\n",
              "    </tr>\n",
              "    <tr>\n",
              "      <th>spotify:show:7zzkvuWptdxJnN3ezTrKNl</th>\n",
              "      <td>22</td>\n",
              "      <td>22</td>\n",
              "      <td>22</td>\n",
              "      <td>22</td>\n",
              "      <td>22</td>\n",
              "      <td>22</td>\n",
              "      <td>22</td>\n",
              "      <td>22</td>\n",
              "      <td>22</td>\n",
              "      <td>22</td>\n",
              "      <td>22</td>\n",
              "    </tr>\n",
              "    <tr>\n",
              "      <th>spotify:show:7zzrs2gTHKXL8fbtjdLDAE</th>\n",
              "      <td>1</td>\n",
              "      <td>1</td>\n",
              "      <td>1</td>\n",
              "      <td>1</td>\n",
              "      <td>1</td>\n",
              "      <td>1</td>\n",
              "      <td>1</td>\n",
              "      <td>1</td>\n",
              "      <td>1</td>\n",
              "      <td>1</td>\n",
              "      <td>1</td>\n",
              "    </tr>\n",
              "  </tbody>\n",
              "</table>\n",
              "<p>18376 rows × 11 columns</p>\n",
              "</div>"
            ],
            "text/plain": [
              "                                     show_name  ...  episode_filename_prefix\n",
              "show_uri                                        ...                         \n",
              "spotify:show:002B8PbILr169CdsS9ySTH          1  ...                        1\n",
              "spotify:show:005ZAjJK1wlD4E2YxeibBb          1  ...                        1\n",
              "spotify:show:007ISDom3HctggVaUjno6B          1  ...                        1\n",
              "spotify:show:00BUDdSn801kmcWw50Us8S          1  ...                        1\n",
              "spotify:show:00BnuPjwbyMPxVIM7NimQj          1  ...                        1\n",
              "...                                        ...  ...                      ...\n",
              "spotify:show:7zuxJZkpFwNAQN8GN6Hyda         23  ...                       23\n",
              "spotify:show:7zvzi6dk9lEBDxlfpoeMof          2  ...                        2\n",
              "spotify:show:7zzZuHQrVExZaZpdN1pRqz          5  ...                        5\n",
              "spotify:show:7zzkvuWptdxJnN3ezTrKNl         22  ...                       22\n",
              "spotify:show:7zzrs2gTHKXL8fbtjdLDAE          1  ...                        1\n",
              "\n",
              "[18376 rows x 11 columns]"
            ]
          },
          "metadata": {
            "tags": []
          },
          "execution_count": 19
        }
      ]
    },
    {
      "cell_type": "code",
      "metadata": {
        "id": "B_yEQNl1BBle",
        "colab_type": "code",
        "colab": {
          "base_uri": "https://localhost:8080/",
          "height": 221
        },
        "outputId": "5ca64a1d-2a42-4b70-90ac-a5b499998577"
      },
      "source": [
        "#max number of episodes a show has\n",
        "podcasts_metadata.groupby(by=['show_uri']).count().max()"
      ],
      "execution_count": null,
      "outputs": [
        {
          "output_type": "execute_result",
          "data": {
            "text/plain": [
              "show_name                  5.733566\n",
              "show_description           5.733457\n",
              "publisher                  5.733566\n",
              "language                   5.733566\n",
              "rss_link                   5.733566\n",
              "episode_uri                5.733566\n",
              "episode_name               5.733566\n",
              "episode_description        5.722410\n",
              "duration                   5.733566\n",
              "show_filename_prefix       5.733566\n",
              "episode_filename_prefix    5.733566\n",
              "dtype: float64"
            ]
          },
          "metadata": {
            "tags": []
          },
          "execution_count": 21
        }
      ]
    },
    {
      "cell_type": "code",
      "metadata": {
        "id": "BkldqGHSFio6",
        "colab_type": "code",
        "colab": {
          "base_uri": "https://localhost:8080/",
          "height": 221
        },
        "outputId": "6cff450b-d620-4792-d9be-c925b9a8fff8"
      },
      "source": [
        "#mean number of episodes a show has\n",
        "podcasts_metadata.groupby(by=['show_uri']).count().mean()"
      ],
      "execution_count": null,
      "outputs": [
        {
          "output_type": "execute_result",
          "data": {
            "text/plain": [
              "show_name                  5.733566\n",
              "show_description           5.733457\n",
              "publisher                  5.733566\n",
              "language                   5.733566\n",
              "rss_link                   5.733566\n",
              "episode_uri                5.733566\n",
              "episode_name               5.733566\n",
              "episode_description        5.722410\n",
              "duration                   5.733566\n",
              "show_filename_prefix       5.733566\n",
              "episode_filename_prefix    5.733566\n",
              "dtype: float64"
            ]
          },
          "metadata": {
            "tags": []
          },
          "execution_count": 22
        }
      ]
    },
    {
      "cell_type": "code",
      "metadata": {
        "id": "sL_de3vHFx8C",
        "colab_type": "code",
        "colab": {
          "base_uri": "https://localhost:8080/",
          "height": 221
        },
        "outputId": "57675956-463b-4352-c4c3-64a479c31a51"
      },
      "source": [
        "podcasts_metadata.groupby(by=['show_uri']).count().median()"
      ],
      "execution_count": null,
      "outputs": [
        {
          "output_type": "execute_result",
          "data": {
            "text/plain": [
              "show_name                  2.0\n",
              "show_description           2.0\n",
              "publisher                  2.0\n",
              "language                   2.0\n",
              "rss_link                   2.0\n",
              "episode_uri                2.0\n",
              "episode_name               2.0\n",
              "episode_description        2.0\n",
              "duration                   2.0\n",
              "show_filename_prefix       2.0\n",
              "episode_filename_prefix    2.0\n",
              "dtype: float64"
            ]
          },
          "metadata": {
            "tags": []
          },
          "execution_count": 23
        }
      ]
    },
    {
      "cell_type": "code",
      "metadata": {
        "id": "_ncamFwyF0nM",
        "colab_type": "code",
        "colab": {
          "base_uri": "https://localhost:8080/",
          "height": 111
        },
        "outputId": "93c20d69-1494-4144-8be9-953c56838370"
      },
      "source": [
        "counts = podcasts_metadata.groupby(by=['show_uri']).size().reset_index(name='count')\n",
        "counts.head(2)"
      ],
      "execution_count": null,
      "outputs": [
        {
          "output_type": "execute_result",
          "data": {
            "text/html": [
              "<div>\n",
              "<style scoped>\n",
              "    .dataframe tbody tr th:only-of-type {\n",
              "        vertical-align: middle;\n",
              "    }\n",
              "\n",
              "    .dataframe tbody tr th {\n",
              "        vertical-align: top;\n",
              "    }\n",
              "\n",
              "    .dataframe thead th {\n",
              "        text-align: right;\n",
              "    }\n",
              "</style>\n",
              "<table border=\"1\" class=\"dataframe\">\n",
              "  <thead>\n",
              "    <tr style=\"text-align: right;\">\n",
              "      <th></th>\n",
              "      <th>show_uri</th>\n",
              "      <th>count</th>\n",
              "    </tr>\n",
              "  </thead>\n",
              "  <tbody>\n",
              "    <tr>\n",
              "      <th>0</th>\n",
              "      <td>spotify:show:002B8PbILr169CdsS9ySTH</td>\n",
              "      <td>1</td>\n",
              "    </tr>\n",
              "    <tr>\n",
              "      <th>1</th>\n",
              "      <td>spotify:show:005ZAjJK1wlD4E2YxeibBb</td>\n",
              "      <td>1</td>\n",
              "    </tr>\n",
              "  </tbody>\n",
              "</table>\n",
              "</div>"
            ],
            "text/plain": [
              "                              show_uri  count\n",
              "0  spotify:show:002B8PbILr169CdsS9ySTH      1\n",
              "1  spotify:show:005ZAjJK1wlD4E2YxeibBb      1"
            ]
          },
          "metadata": {
            "tags": []
          },
          "execution_count": 39
        }
      ]
    },
    {
      "cell_type": "code",
      "metadata": {
        "id": "DQmJKQphHCK6",
        "colab_type": "code",
        "colab": {
          "base_uri": "https://localhost:8080/",
          "height": 312
        },
        "outputId": "bfd3feb9-2e8f-48da-9cc5-1ca44574c7b7"
      },
      "source": [
        "import matplotlib.pyplot as plt\n",
        "counts['count'].plot.hist(title='Episode Counts')\n",
        "plt.xlabel('Episode Counts')"
      ],
      "execution_count": null,
      "outputs": [
        {
          "output_type": "execute_result",
          "data": {
            "text/plain": [
              "Text(0.5, 0, 'Episode Counts')"
            ]
          },
          "metadata": {
            "tags": []
          },
          "execution_count": 64
        },
        {
          "output_type": "display_data",
          "data": {
            "image/png": "[encoded data removed]",
            "text/plain": [
              "<Figure size 432x288 with 1 Axes>"
            ]
          },
          "metadata": {
            "tags": [],
            "needs_background": "light"
          }
        }
      ]
    },
    {
      "cell_type": "code",
      "metadata": {
        "id": "6XTiKbQ-H_wS",
        "colab_type": "code",
        "colab": {
          "base_uri": "https://localhost:8080/",
          "height": 111
        },
        "outputId": "d73cbf66-7ce5-4ccf-cd29-071a42db4fd6"
      },
      "source": [
        "duration = podcasts_metadata.groupby(by=['duration']).size().reset_index(name='count')\n",
        "duration.head(2)"
      ],
      "execution_count": null,
      "outputs": [
        {
          "output_type": "execute_result",
          "data": {
            "text/html": [
              "<div>\n",
              "<style scoped>\n",
              "    .dataframe tbody tr th:only-of-type {\n",
              "        vertical-align: middle;\n",
              "    }\n",
              "\n",
              "    .dataframe tbody tr th {\n",
              "        vertical-align: top;\n",
              "    }\n",
              "\n",
              "    .dataframe thead th {\n",
              "        text-align: right;\n",
              "    }\n",
              "</style>\n",
              "<table border=\"1\" class=\"dataframe\">\n",
              "  <thead>\n",
              "    <tr style=\"text-align: right;\">\n",
              "      <th></th>\n",
              "      <th>duration</th>\n",
              "      <th>count</th>\n",
              "    </tr>\n",
              "  </thead>\n",
              "  <tbody>\n",
              "    <tr>\n",
              "      <th>0</th>\n",
              "      <td>0.175317</td>\n",
              "      <td>1</td>\n",
              "    </tr>\n",
              "    <tr>\n",
              "      <th>1</th>\n",
              "      <td>0.180733</td>\n",
              "      <td>1</td>\n",
              "    </tr>\n",
              "  </tbody>\n",
              "</table>\n",
              "</div>"
            ],
            "text/plain": [
              "   duration  count\n",
              "0  0.175317      1\n",
              "1  0.180733      1"
            ]
          },
          "metadata": {
            "tags": []
          },
          "execution_count": 55
        }
      ]
    },
    {
      "cell_type": "code",
      "metadata": {
        "id": "INAHGP32MJ6b",
        "colab_type": "code",
        "colab": {
          "base_uri": "https://localhost:8080/",
          "height": 312
        },
        "outputId": "85fe6b75-0207-475c-dcfa-afda639c0da8"
      },
      "source": [
        "import matplotlib.pyplot as plt\n",
        "podcasts_metadata['duration'].plot.hist(bins=150, title='Duration of Episodes')\n",
        "plt.xlabel('Duration (mins)')"
      ],
      "execution_count": null,
      "outputs": [
        {
          "output_type": "execute_result",
          "data": {
            "text/plain": [
              "Text(0.5, 0, 'Duration (mins)')"
            ]
          },
          "metadata": {
            "tags": []
          },
          "execution_count": 65
        },
        {
          "output_type": "display_data",
          "data": {
            "image/png": "[encoded data removed]",
            "text/plain": [
              "<Figure size 432x288 with 1 Axes>"
            ]
          },
          "metadata": {
            "tags": [],
            "needs_background": "light"
          }
        }
      ]
    },
    {
      "cell_type": "code",
      "metadata": {
        "id": "27JHEJf1MsdZ",
        "colab_type": "code",
        "colab": {}
      },
      "source": [
        ""
      ],
      "execution_count": null,
      "outputs": []
    }
  ]
}