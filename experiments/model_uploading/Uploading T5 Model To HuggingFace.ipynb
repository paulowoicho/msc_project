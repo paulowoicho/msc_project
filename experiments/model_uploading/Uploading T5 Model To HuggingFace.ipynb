{
  "nbformat": 4,
  "nbformat_minor": 0,
  "metadata": {
    "colab": {
      "name": "Uploading T5 Model To HuggingFace",
      "provenance": []
    },
    "kernelspec": {
      "name": "python3",
      "display_name": "Python 3"
    }
  },
  "cells": [
    {
      "cell_type": "code",
      "metadata": {
        "id": "Xe76r8VgfSzL",
        "colab_type": "code",
        "colab": {}
      },
      "source": [
        "from google.colab import auth\n",
        "auth.authenticate_user()"
      ],
      "execution_count": null,
      "outputs": []
    },
    {
      "cell_type": "code",
      "metadata": {
        "id": "1OgBZGTkflNH",
        "colab_type": "code",
        "colab": {
          "base_uri": "https://localhost:8080/",
          "height": 136
        },
        "outputId": "9dc98a6c-ca54-4ac8-f859-7b0abd925bde"
      },
      "source": [
        "project_id = 'test-281700'\n",
        "!gcloud config set project {project_id}\n",
        "!gsutil ls"
      ],
      "execution_count": null,
      "outputs": [
        {
          "output_type": "stream",
          "text": [
            "Updated property [core/project].\n",
            "\n",
            "\n",
            "To take a quick anonymous survey, run:\n",
            "  $ gcloud survey\n",
            "\n",
            "gs://spotify_asr_dataset/\n"
          ],
          "name": "stdout"
        }
      ]
    },
    {
      "cell_type": "code",
      "metadata": {
        "id": "LrgFRu_ofwBj",
        "colab_type": "code",
        "colab": {
          "base_uri": "https://localhost:8080/",
          "height": 615
        },
        "outputId": "5e684294-8e03-43d3-ac63-6dc0f55c58a1"
      },
      "source": [
        "!pip install transformers"
      ],
      "execution_count": null,
      "outputs": [
        {
          "output_type": "stream",
          "text": [
            "Collecting transformers\n",
            "\u001b[?25l  Downloading https://files.pythonhosted.org/packages/27/3c/91ed8f5c4e7ef3227b4119200fc0ed4b4fd965b1f0172021c25701087825/transformers-3.0.2-py3-none-any.whl (769kB)\n",
            "\r\u001b[K     |▍                               | 10kB 15.6MB/s eta 0:00:01\r\u001b[K     |▉                               | 20kB 1.7MB/s eta 0:00:01\r\u001b[K     |█▎                              | 30kB 2.3MB/s eta 0:00:01\r\u001b[K     |█▊                              | 40kB 2.6MB/s eta 0:00:01\r\u001b[K     |██▏                             | 51kB 2.0MB/s eta 0:00:01\r\u001b[K     |██▋                             | 61kB 2.2MB/s eta 0:00:01\r\u001b[K     |███                             | 71kB 2.5MB/s eta 0:00:01\r\u001b[K     |███▍                            | 81kB 2.7MB/s eta 0:00:01\r\u001b[K     |███▉                            | 92kB 2.9MB/s eta 0:00:01\r\u001b[K     |████▎                           | 102kB 2.7MB/s eta 0:00:01\r\u001b[K     |████▊                           | 112kB 2.7MB/s eta 0:00:01\r\u001b[K     |█████▏                          | 122kB 2.7MB/s eta 0:00:01\r\u001b[K     |█████▌                          | 133kB 2.7MB/s eta 0:00:01\r\u001b[K     |██████                          | 143kB 2.7MB/s eta 0:00:01\r\u001b[K     |██████▍                         | 153kB 2.7MB/s eta 0:00:01\r\u001b[K     |██████▉                         | 163kB 2.7MB/s eta 0:00:01\r\u001b[K     |███████▎                        | 174kB 2.7MB/s eta 0:00:01\r\u001b[K     |███████▊                        | 184kB 2.7MB/s eta 0:00:01\r\u001b[K     |████████                        | 194kB 2.7MB/s eta 0:00:01\r\u001b[K     |████████▌                       | 204kB 2.7MB/s eta 0:00:01\r\u001b[K     |█████████                       | 215kB 2.7MB/s eta 0:00:01\r\u001b[K     |█████████▍                      | 225kB 2.7MB/s eta 0:00:01\r\u001b[K     |█████████▉                      | 235kB 2.7MB/s eta 0:00:01\r\u001b[K     |██████████▎                     | 245kB 2.7MB/s eta 0:00:01\r\u001b[K     |██████████▋                     | 256kB 2.7MB/s eta 0:00:01\r\u001b[K     |███████████                     | 266kB 2.7MB/s eta 0:00:01\r\u001b[K     |███████████▌                    | 276kB 2.7MB/s eta 0:00:01\r\u001b[K     |████████████                    | 286kB 2.7MB/s eta 0:00:01\r\u001b[K     |████████████▍                   | 296kB 2.7MB/s eta 0:00:01\r\u001b[K     |████████████▉                   | 307kB 2.7MB/s eta 0:00:01\r\u001b[K     |█████████████▏                  | 317kB 2.7MB/s eta 0:00:01\r\u001b[K     |█████████████▋                  | 327kB 2.7MB/s eta 0:00:01\r\u001b[K     |██████████████                  | 337kB 2.7MB/s eta 0:00:01\r\u001b[K     |██████████████▌                 | 348kB 2.7MB/s eta 0:00:01\r\u001b[K     |███████████████                 | 358kB 2.7MB/s eta 0:00:01\r\u001b[K     |███████████████▍                | 368kB 2.7MB/s eta 0:00:01\r\u001b[K     |███████████████▊                | 378kB 2.7MB/s eta 0:00:01\r\u001b[K     |████████████████▏               | 389kB 2.7MB/s eta 0:00:01\r\u001b[K     |████████████████▋               | 399kB 2.7MB/s eta 0:00:01\r\u001b[K     |█████████████████               | 409kB 2.7MB/s eta 0:00:01\r\u001b[K     |█████████████████▌              | 419kB 2.7MB/s eta 0:00:01\r\u001b[K     |██████████████████              | 430kB 2.7MB/s eta 0:00:01\r\u001b[K     |██████████████████▎             | 440kB 2.7MB/s eta 0:00:01\r\u001b[K     |██████████████████▊             | 450kB 2.7MB/s eta 0:00:01\r\u001b[K     |███████████████████▏            | 460kB 2.7MB/s eta 0:00:01\r\u001b[K     |███████████████████▋            | 471kB 2.7MB/s eta 0:00:01\r\u001b[K     |████████████████████            | 481kB 2.7MB/s eta 0:00:01\r\u001b[K     |████████████████████▌           | 491kB 2.7MB/s eta 0:00:01\r\u001b[K     |████████████████████▉           | 501kB 2.7MB/s eta 0:00:01\r\u001b[K     |█████████████████████▎          | 512kB 2.7MB/s eta 0:00:01\r\u001b[K     |█████████████████████▊          | 522kB 2.7MB/s eta 0:00:01\r\u001b[K     |██████████████████████▏         | 532kB 2.7MB/s eta 0:00:01\r\u001b[K     |██████████████████████▋         | 542kB 2.7MB/s eta 0:00:01\r\u001b[K     |███████████████████████         | 552kB 2.7MB/s eta 0:00:01\r\u001b[K     |███████████████████████▍        | 563kB 2.7MB/s eta 0:00:01\r\u001b[K     |███████████████████████▉        | 573kB 2.7MB/s eta 0:00:01\r\u001b[K     |████████████████████████▎       | 583kB 2.7MB/s eta 0:00:01\r\u001b[K     |████████████████████████▊       | 593kB 2.7MB/s eta 0:00:01\r\u001b[K     |█████████████████████████▏      | 604kB 2.7MB/s eta 0:00:01\r\u001b[K     |█████████████████████████▋      | 614kB 2.7MB/s eta 0:00:01\r\u001b[K     |██████████████████████████      | 624kB 2.7MB/s eta 0:00:01\r\u001b[K     |██████████████████████████▍     | 634kB 2.7MB/s eta 0:00:01\r\u001b[K     |██████████████████████████▉     | 645kB 2.7MB/s eta 0:00:01\r\u001b[K     |███████████████████████████▎    | 655kB 2.7MB/s eta 0:00:01\r\u001b[K     |███████████████████████████▊    | 665kB 2.7MB/s eta 0:00:01\r\u001b[K     |████████████████████████████▏   | 675kB 2.7MB/s eta 0:00:01\r\u001b[K     |████████████████████████████▌   | 686kB 2.7MB/s eta 0:00:01\r\u001b[K     |█████████████████████████████   | 696kB 2.7MB/s eta 0:00:01\r\u001b[K     |█████████████████████████████▍  | 706kB 2.7MB/s eta 0:00:01\r\u001b[K     |█████████████████████████████▉  | 716kB 2.7MB/s eta 0:00:01\r\u001b[K     |██████████████████████████████▎ | 727kB 2.7MB/s eta 0:00:01\r\u001b[K     |██████████████████████████████▊ | 737kB 2.7MB/s eta 0:00:01\r\u001b[K     |███████████████████████████████ | 747kB 2.7MB/s eta 0:00:01\r\u001b[K     |███████████████████████████████▌| 757kB 2.7MB/s eta 0:00:01\r\u001b[K     |████████████████████████████████| 768kB 2.7MB/s eta 0:00:01\r\u001b[K     |████████████████████████████████| 778kB 2.7MB/s \n",
            "\u001b[?25hRequirement already satisfied: requests in /usr/local/lib/python3.6/dist-packages (from transformers) (2.23.0)\n",
            "Collecting sacremoses\n",
            "\u001b[?25l  Downloading https://files.pythonhosted.org/packages/7d/34/09d19aff26edcc8eb2a01bed8e98f13a1537005d31e95233fd48216eed10/sacremoses-0.0.43.tar.gz (883kB)\n",
            "\r\u001b[K     |▍                               | 10kB 16.5MB/s eta 0:00:01\r\u001b[K     |▊                               | 20kB 23.4MB/s eta 0:00:01\r\u001b[K     |█▏                              | 30kB 28.4MB/s eta 0:00:01\r\u001b[K     |█▌                              | 40kB 32.0MB/s eta 0:00:01\r\u001b[K     |█▉                              | 51kB 16.1MB/s eta 0:00:01\r\u001b[K     |██▎                             | 61kB 18.2MB/s eta 0:00:01\r\u001b[K     |██▋                             | 71kB 18.5MB/s eta 0:00:01\r\u001b[K     |███                             | 81kB 19.4MB/s eta 0:00:01\r\u001b[K     |███▍                            | 92kB 17.6MB/s eta 0:00:01\r\u001b[K     |███▊                            | 102kB 17.8MB/s eta 0:00:01\r\u001b[K     |████                            | 112kB 17.8MB/s eta 0:00:01\r\u001b[K     |████▌                           | 122kB 17.8MB/s eta 0:00:01\r\u001b[K     |████▉                           | 133kB 17.8MB/s eta 0:00:01\r\u001b[K     |█████▏                          | 143kB 17.8MB/s eta 0:00:01\r\u001b[K     |█████▋                          | 153kB 17.8MB/s eta 0:00:01\r\u001b[K     |██████                          | 163kB 17.8MB/s eta 0:00:01\r\u001b[K     |██████▎                         | 174kB 17.8MB/s eta 0:00:01\r\u001b[K     |██████▊                         | 184kB 17.8MB/s eta 0:00:01\r\u001b[K     |███████                         | 194kB 17.8MB/s eta 0:00:01\r\u001b[K     |███████▍                        | 204kB 17.8MB/s eta 0:00:01\r\u001b[K     |███████▉                        | 215kB 17.8MB/s eta 0:00:01\r\u001b[K     |████████▏                       | 225kB 17.8MB/s eta 0:00:01\r\u001b[K     |████████▌                       | 235kB 17.8MB/s eta 0:00:01\r\u001b[K     |█████████                       | 245kB 17.8MB/s eta 0:00:01\r\u001b[K     |█████████▎                      | 256kB 17.8MB/s eta 0:00:01\r\u001b[K     |█████████▋                      | 266kB 17.8MB/s eta 0:00:01\r\u001b[K     |██████████                      | 276kB 17.8MB/s eta 0:00:01\r\u001b[K     |██████████▍                     | 286kB 17.8MB/s eta 0:00:01\r\u001b[K     |██████████▊                     | 296kB 17.8MB/s eta 0:00:01\r\u001b[K     |███████████▏                    | 307kB 17.8MB/s eta 0:00:01\r\u001b[K     |███████████▌                    | 317kB 17.8MB/s eta 0:00:01\r\u001b[K     |███████████▉                    | 327kB 17.8MB/s eta 0:00:01\r\u001b[K     |████████████▎                   | 337kB 17.8MB/s eta 0:00:01\r\u001b[K     |████████████▋                   | 348kB 17.8MB/s eta 0:00:01\r\u001b[K     |█████████████                   | 358kB 17.8MB/s eta 0:00:01\r\u001b[K     |█████████████▍                  | 368kB 17.8MB/s eta 0:00:01\r\u001b[K     |█████████████▊                  | 378kB 17.8MB/s eta 0:00:01\r\u001b[K     |██████████████                  | 389kB 17.8MB/s eta 0:00:01\r\u001b[K     |██████████████▌                 | 399kB 17.8MB/s eta 0:00:01\r\u001b[K     |██████████████▉                 | 409kB 17.8MB/s eta 0:00:01\r\u001b[K     |███████████████▏                | 419kB 17.8MB/s eta 0:00:01\r\u001b[K     |███████████████▋                | 430kB 17.8MB/s eta 0:00:01\r\u001b[K     |████████████████                | 440kB 17.8MB/s eta 0:00:01\r\u001b[K     |████████████████▎               | 450kB 17.8MB/s eta 0:00:01\r\u001b[K     |████████████████▊               | 460kB 17.8MB/s eta 0:00:01\r\u001b[K     |█████████████████               | 471kB 17.8MB/s eta 0:00:01\r\u001b[K     |█████████████████▍              | 481kB 17.8MB/s eta 0:00:01\r\u001b[K     |█████████████████▉              | 491kB 17.8MB/s eta 0:00:01\r\u001b[K     |██████████████████▏             | 501kB 17.8MB/s eta 0:00:01\r\u001b[K     |██████████████████▌             | 512kB 17.8MB/s eta 0:00:01\r\u001b[K     |███████████████████             | 522kB 17.8MB/s eta 0:00:01\r\u001b[K     |███████████████████▎            | 532kB 17.8MB/s eta 0:00:01\r\u001b[K     |███████████████████▋            | 542kB 17.8MB/s eta 0:00:01\r\u001b[K     |████████████████████            | 552kB 17.8MB/s eta 0:00:01\r\u001b[K     |████████████████████▍           | 563kB 17.8MB/s eta 0:00:01\r\u001b[K     |████████████████████▊           | 573kB 17.8MB/s eta 0:00:01\r\u001b[K     |█████████████████████▏          | 583kB 17.8MB/s eta 0:00:01\r\u001b[K     |█████████████████████▌          | 593kB 17.8MB/s eta 0:00:01\r\u001b[K     |█████████████████████▉          | 604kB 17.8MB/s eta 0:00:01\r\u001b[K     |██████████████████████▎         | 614kB 17.8MB/s eta 0:00:01\r\u001b[K     |██████████████████████▋         | 624kB 17.8MB/s eta 0:00:01\r\u001b[K     |███████████████████████         | 634kB 17.8MB/s eta 0:00:01\r\u001b[K     |███████████████████████▍        | 645kB 17.8MB/s eta 0:00:01\r\u001b[K     |███████████████████████▊        | 655kB 17.8MB/s eta 0:00:01\r\u001b[K     |████████████████████████        | 665kB 17.8MB/s eta 0:00:01\r\u001b[K     |████████████████████████▌       | 675kB 17.8MB/s eta 0:00:01\r\u001b[K     |████████████████████████▉       | 686kB 17.8MB/s eta 0:00:01\r\u001b[K     |█████████████████████████▏      | 696kB 17.8MB/s eta 0:00:01\r\u001b[K     |█████████████████████████▋      | 706kB 17.8MB/s eta 0:00:01\r\u001b[K     |██████████████████████████      | 716kB 17.8MB/s eta 0:00:01\r\u001b[K     |██████████████████████████▎     | 727kB 17.8MB/s eta 0:00:01\r\u001b[K     |██████████████████████████▊     | 737kB 17.8MB/s eta 0:00:01\r\u001b[K     |███████████████████████████     | 747kB 17.8MB/s eta 0:00:01\r\u001b[K     |███████████████████████████▍    | 757kB 17.8MB/s eta 0:00:01\r\u001b[K     |███████████████████████████▉    | 768kB 17.8MB/s eta 0:00:01\r\u001b[K     |████████████████████████████▏   | 778kB 17.8MB/s eta 0:00:01\r\u001b[K     |████████████████████████████▌   | 788kB 17.8MB/s eta 0:00:01\r\u001b[K     |█████████████████████████████   | 798kB 17.8MB/s eta 0:00:01\r\u001b[K     |█████████████████████████████▎  | 808kB 17.8MB/s eta 0:00:01\r\u001b[K     |█████████████████████████████▋  | 819kB 17.8MB/s eta 0:00:01\r\u001b[K     |██████████████████████████████  | 829kB 17.8MB/s eta 0:00:01\r\u001b[K     |██████████████████████████████▍ | 839kB 17.8MB/s eta 0:00:01\r\u001b[K     |██████████████████████████████▊ | 849kB 17.8MB/s eta 0:00:01\r\u001b[K     |███████████████████████████████▏| 860kB 17.8MB/s eta 0:00:01\r\u001b[K     |███████████████████████████████▌| 870kB 17.8MB/s eta 0:00:01\r\u001b[K     |███████████████████████████████▉| 880kB 17.8MB/s eta 0:00:01\r\u001b[K     |████████████████████████████████| 890kB 17.8MB/s \n",
            "\u001b[?25hRequirement already satisfied: packaging in /usr/local/lib/python3.6/dist-packages (from transformers) (20.4)\n",
            "Collecting tokenizers==0.8.1.rc1\n",
            "\u001b[?25l  Downloading https://files.pythonhosted.org/packages/40/d0/30d5f8d221a0ed981a186c8eb986ce1c94e3a6e87f994eae9f4aa5250217/tokenizers-0.8.1rc1-cp36-cp36m-manylinux1_x86_64.whl (3.0MB)\n",
            "\u001b[K     |████████████████████████████████| 3.0MB 46kB/s \n",
            "\u001b[?25hRequirement already satisfied: filelock in /usr/local/lib/python3.6/dist-packages (from transformers) (3.0.12)\n",
            "Collecting sentencepiece!=0.1.92\n",
            "\u001b[?25l  Downloading https://files.pythonhosted.org/packages/d4/a4/d0a884c4300004a78cca907a6ff9a5e9fe4f090f5d95ab341c53d28cbc58/sentencepiece-0.1.91-cp36-cp36m-manylinux1_x86_64.whl (1.1MB)\n",
            "\u001b[K     |████████████████████████████████| 1.1MB 37.3MB/s \n",
            "\u001b[?25hRequirement already satisfied: dataclasses; python_version < \"3.7\" in /usr/local/lib/python3.6/dist-packages (from transformers) (0.7)\n",
            "Requirement already satisfied: tqdm>=4.27 in /usr/local/lib/python3.6/dist-packages (from transformers) (4.41.1)\n",
            "Requirement already satisfied: regex!=2019.12.17 in /usr/local/lib/python3.6/dist-packages (from transformers) (2019.12.20)\n",
            "Requirement already satisfied: numpy in /usr/local/lib/python3.6/dist-packages (from transformers) (1.18.5)\n",
            "Requirement already satisfied: chardet<4,>=3.0.2 in /usr/local/lib/python3.6/dist-packages (from requests->transformers) (3.0.4)\n",
            "Requirement already satisfied: idna<3,>=2.5 in /usr/local/lib/python3.6/dist-packages (from requests->transformers) (2.10)\n",
            "Requirement already satisfied: urllib3!=1.25.0,!=1.25.1,<1.26,>=1.21.1 in /usr/local/lib/python3.6/dist-packages (from requests->transformers) (1.24.3)\n",
            "Requirement already satisfied: certifi>=2017.4.17 in /usr/local/lib/python3.6/dist-packages (from requests->transformers) (2020.6.20)\n",
            "Requirement already satisfied: six in /usr/local/lib/python3.6/dist-packages (from sacremoses->transformers) (1.15.0)\n",
            "Requirement already satisfied: click in /usr/local/lib/python3.6/dist-packages (from sacremoses->transformers) (7.1.2)\n",
            "Requirement already satisfied: joblib in /usr/local/lib/python3.6/dist-packages (from sacremoses->transformers) (0.16.0)\n",
            "Requirement already satisfied: pyparsing>=2.0.2 in /usr/local/lib/python3.6/dist-packages (from packaging->transformers) (2.4.7)\n",
            "Building wheels for collected packages: sacremoses\n",
            "  Building wheel for sacremoses (setup.py) ... \u001b[?25l\u001b[?25hdone\n",
            "  Created wheel for sacremoses: filename=sacremoses-0.0.43-cp36-none-any.whl size=893260 sha256=6862a260006d29db20e67b4db9843c1f7d37f80fa8347602283fa1eb10822ac6\n",
            "  Stored in directory: /root/.cache/pip/wheels/29/3c/fd/7ce5c3f0666dab31a50123635e6fb5e19ceb42ce38d4e58f45\n",
            "Successfully built sacremoses\n",
            "Installing collected packages: sacremoses, tokenizers, sentencepiece, transformers\n",
            "Successfully installed sacremoses-0.0.43 sentencepiece-0.1.91 tokenizers-0.8.1rc1 transformers-3.0.2\n"
          ],
          "name": "stdout"
        }
      ]
    },
    {
      "cell_type": "code",
      "metadata": {
        "id": "3vWPbC7hf3DR",
        "colab_type": "code",
        "colab": {
          "base_uri": "https://localhost:8080/",
          "height": 68
        },
        "outputId": "8b176583-8136-4a11-d7a4-e34f5057f259"
      },
      "source": [
        "#download model\n",
        "bucket_name = 'spotify_asr_dataset'\n",
        "!gsutil -m cp -r gs://{bucket_name}/t5-model-66242.zip /content/"
      ],
      "execution_count": null,
      "outputs": [
        {
          "output_type": "stream",
          "text": [
            "Copying gs://spotify_asr_dataset/t5-model-66242.zip...\n",
            "| [1/1 files][789.1 MiB/789.1 MiB] 100% Done  59.7 MiB/s ETA 00:00:00           \n",
            "Operation completed over 1 objects/789.1 MiB.                                    \n"
          ],
          "name": "stdout"
        }
      ]
    },
    {
      "cell_type": "code",
      "metadata": {
        "id": "bNEEvX4Rf6yL",
        "colab_type": "code",
        "colab": {
          "base_uri": "https://localhost:8080/",
          "height": 136
        },
        "outputId": "bf3f7e1d-8ac9-4302-c8f6-9e8a52f58f61"
      },
      "source": [
        "!unzip t5-model-66242.zip"
      ],
      "execution_count": null,
      "outputs": [
        {
          "output_type": "stream",
          "text": [
            "Archive:  t5-model-66242.zip\n",
            "   creating: t5-model-66242/\n",
            "  inflating: t5-model-66242/spiece.model  \n",
            "  inflating: t5-model-66242/special_tokens_map.json  \n",
            "  inflating: t5-model-66242/config.json  \n",
            "  inflating: t5-model-66242/tokenizer_config.json  \n",
            "  inflating: t5-model-66242/pytorch_model.bin  \n"
          ],
          "name": "stdout"
        }
      ]
    },
    {
      "cell_type": "code",
      "metadata": {
        "id": "ifdnNzzngQKV",
        "colab_type": "code",
        "colab": {
          "base_uri": "https://localhost:8080/",
          "height": 292
        },
        "outputId": "eb0ccf40-f2eb-4fdf-ec46-dedbd1ee15ea"
      },
      "source": [
        "!transformers-cli login"
      ],
      "execution_count": null,
      "outputs": [
        {
          "output_type": "stream",
          "text": [
            "2020-08-18 11:02:14.995009: I tensorflow/stream_executor/platform/default/dso_loader.cc:48] Successfully opened dynamic library libcudart.so.10.1\n",
            "\n",
            "        _|    _|  _|    _|    _|_|_|    _|_|_|  _|_|_|  _|      _|    _|_|_|      _|_|_|_|    _|_|      _|_|_|  _|_|_|_|\n",
            "        _|    _|  _|    _|  _|        _|          _|    _|_|    _|  _|            _|        _|    _|  _|        _|\n",
            "        _|_|_|_|  _|    _|  _|  _|_|  _|  _|_|    _|    _|  _|  _|  _|  _|_|      _|_|_|    _|_|_|_|  _|        _|_|_|\n",
            "        _|    _|  _|    _|  _|    _|  _|    _|    _|    _|    _|_|  _|    _|      _|        _|    _|  _|        _|\n",
            "        _|    _|    _|_|      _|_|_|    _|_|_|  _|_|_|  _|      _|    _|_|_|      _|        _|    _|    _|_|_|  _|_|_|_|\n",
            "\n",
            "        \n",
            "Username: paulowoicho\n",
            "Password: \n",
            "Login successful\n",
            "Your token: NQDWtClLWCdBGsDXDHPSOaRZYXtqYRMTsyCGAENqMTdoCvfvsWpGfmGcHODWDcwhwQcVbolNsBHpChKfnyupadTxhmmJpluIWoFJALdKbUeOjvybFkUkcSiquqHrnFbK \n",
            "\n",
            "Your token has been saved to /root/.huggingface/token\n"
          ],
          "name": "stdout"
        }
      ]
    },
    {
      "cell_type": "code",
      "metadata": {
        "id": "54Q1ot7ehv2Z",
        "colab_type": "code",
        "colab": {
          "base_uri": "https://localhost:8080/",
          "height": 394
        },
        "outputId": "41474fa3-9ecc-409d-fa50-bbfdffe72100"
      },
      "source": [
        "!transformers-cli upload /content/t5-for-podcast-summarisation"
      ],
      "execution_count": null,
      "outputs": [
        {
          "output_type": "stream",
          "text": [
            "2020-08-18 11:04:01.714559: I tensorflow/stream_executor/platform/default/dso_loader.cc:48] Successfully opened dynamic library libcudart.so.10.1\n",
            "About to upload file \u001b[1m/content/t5-for-podcast-summarisation/tokenizer_config.json\u001b[0m to S3 under filename \u001b[1mt5-for-podcast-summarisation/tokenizer_config.json\u001b[0m and namespace \u001b[1mpaulowoicho\u001b[0m\n",
            "About to upload file \u001b[1m/content/t5-for-podcast-summarisation/pytorch_model.bin\u001b[0m to S3 under filename \u001b[1mt5-for-podcast-summarisation/pytorch_model.bin\u001b[0m and namespace \u001b[1mpaulowoicho\u001b[0m\n",
            "About to upload file \u001b[1m/content/t5-for-podcast-summarisation/README.md\u001b[0m to S3 under filename \u001b[1mt5-for-podcast-summarisation/README.md\u001b[0m and namespace \u001b[1mpaulowoicho\u001b[0m\n",
            "About to upload file \u001b[1m/content/t5-for-podcast-summarisation/spiece.model\u001b[0m to S3 under filename \u001b[1mt5-for-podcast-summarisation/spiece.model\u001b[0m and namespace \u001b[1mpaulowoicho\u001b[0m\n",
            "About to upload file \u001b[1m/content/t5-for-podcast-summarisation/config.json\u001b[0m to S3 under filename \u001b[1mt5-for-podcast-summarisation/config.json\u001b[0m and namespace \u001b[1mpaulowoicho\u001b[0m\n",
            "About to upload file \u001b[1m/content/t5-for-podcast-summarisation/special_tokens_map.json\u001b[0m to S3 under filename \u001b[1mt5-for-podcast-summarisation/special_tokens_map.json\u001b[0m and namespace \u001b[1mpaulowoicho\u001b[0m\n",
            "Proceed? [Y/n] y\n",
            "\u001b[1mUploading... This might take a while if files are large\u001b[0m\n",
            "Your file now lives at:\n",
            "https://s3.amazonaws.com/models.huggingface.co/bert/paulowoicho/t5-for-podcast-summarisation/tokenizer_config.json\n",
            "Your file now lives at:\n",
            "https://s3.amazonaws.com/models.huggingface.co/bert/paulowoicho/t5-for-podcast-summarisation/pytorch_model.bin\n",
            "Your file now lives at:\n",
            "https://s3.amazonaws.com/models.huggingface.co/bert/paulowoicho/t5-for-podcast-summarisation/README.md\n",
            "Your file now lives at:\n",
            "https://s3.amazonaws.com/models.huggingface.co/bert/paulowoicho/t5-for-podcast-summarisation/spiece.model\n",
            "Your file now lives at:\n",
            "https://s3.amazonaws.com/models.huggingface.co/bert/paulowoicho/t5-for-podcast-summarisation/config.json\n",
            "Your file now lives at:\n",
            "https://s3.amazonaws.com/models.huggingface.co/bert/paulowoicho/t5-for-podcast-summarisation/special_tokens_map.json\n"
          ],
          "name": "stdout"
        }
      ]
    },
    {
      "cell_type": "code",
      "metadata": {
        "id": "bauv2b7EiE-n",
        "colab_type": "code",
        "colab": {
          "base_uri": "https://localhost:8080/",
          "height": 190
        },
        "outputId": "6d7e8783-68fc-4dc7-cfea-fb835ff53223"
      },
      "source": [
        "!transformers-cli s3 ls"
      ],
      "execution_count": null,
      "outputs": [
        {
          "output_type": "stream",
          "text": [
            "2020-08-18 11:09:29.288460: I tensorflow/stream_executor/platform/default/dso_loader.cc:48] Successfully opened dynamic library libcudart.so.10.1\n",
            "Filename                                         LastModified             ETag                               Size      \n",
            "------------------------------------------------ ------------------------ ---------------------------------- --------- \n",
            "t5-podcast-summarisation/README.md               2020-08-17T22:59:22.000Z \"1237fe54190876e1dec5b9c580cf6632\"      2278 \n",
            "t5-podcast-summarisation/config.json             2020-08-17T22:59:23.000Z \"69b5dd63fd4e0738cb93f6f4b27fb416\"      1208 \n",
            "t5-podcast-summarisation/pytorch_model.bin       2020-08-17T22:59:13.000Z \"19cc1987f12abff1e77a492813a34865\" 891739333 \n",
            "t5-podcast-summarisation/special_tokens_map.json 2020-08-17T22:59:23.000Z \"f73da20b71f91866a6906e0d7ffbc278\"      1786 \n",
            "t5-podcast-summarisation/spiece.model            2020-08-17T22:59:23.000Z \"9d15ef55d09d5a425ceb63fa31f7cae3\"    791656 \n",
            "t5-podcast-summarisation/tokenizer_config.json   2020-08-17T22:59:13.000Z \"47e6bef7fcb1f7d61c853737890170f2\"       131 \n"
          ],
          "name": "stdout"
        }
      ]
    },
    {
      "cell_type": "code",
      "metadata": {
        "id": "pAzbZ6Z8ktnf",
        "colab_type": "code",
        "colab": {
          "base_uri": "https://localhost:8080/",
          "height": 241
        },
        "outputId": "807ead78-2c5d-41a3-8910-f661d3695d28"
      },
      "source": [
        "!transformers-cli s3 rm t5-for-podcast-summarisation/README.md\n",
        "!transformers-cli s3 rm t5-for-podcast-summarisation/config.json\n",
        "!transformers-cli s3 rm t5-for-podcast-summarisation/pytorch_model.bin\n",
        "!transformers-cli s3 rm t5-for-podcast-summarisation/special_tokens_map.json\n",
        "!transformers-cli s3 rm t5-for-podcast-summarisation/spiece.model\n",
        "!transformers-cli s3 rm t5-for-podcast-summarisation/tokenizer_config.json"
      ],
      "execution_count": null,
      "outputs": [
        {
          "output_type": "stream",
          "text": [
            "2020-08-18 11:08:46.221760: I tensorflow/stream_executor/platform/default/dso_loader.cc:48] Successfully opened dynamic library libcudart.so.10.1\n",
            "Done\n",
            "2020-08-18 11:08:51.800986: I tensorflow/stream_executor/platform/default/dso_loader.cc:48] Successfully opened dynamic library libcudart.so.10.1\n",
            "Done\n",
            "2020-08-18 11:08:57.437747: I tensorflow/stream_executor/platform/default/dso_loader.cc:48] Successfully opened dynamic library libcudart.so.10.1\n",
            "Done\n",
            "2020-08-18 11:09:02.853121: I tensorflow/stream_executor/platform/default/dso_loader.cc:48] Successfully opened dynamic library libcudart.so.10.1\n",
            "Done\n",
            "2020-08-18 11:09:08.542143: I tensorflow/stream_executor/platform/default/dso_loader.cc:48] Successfully opened dynamic library libcudart.so.10.1\n",
            "Done\n",
            "2020-08-18 11:09:18.292062: I tensorflow/stream_executor/platform/default/dso_loader.cc:48] Successfully opened dynamic library libcudart.so.10.1\n",
            "Done\n"
          ],
          "name": "stdout"
        }
      ]
    },
    {
      "cell_type": "code",
      "metadata": {
        "id": "6sVqrcwli4zM",
        "colab_type": "code",
        "colab": {}
      },
      "source": [
        "from transformers import T5Tokenizer, T5ForConditionalGeneration\n",
        "\n",
        "tokenizer = T5Tokenizer.from_pretrained(\"paulowoicho/t5-podcast-summarisation\")\n",
        "model = T5ForConditionalGeneration.from_pretrained(\"paulowoicho/t5-podcast-summarisation\")"
      ],
      "execution_count": null,
      "outputs": []
    },
    {
      "cell_type": "code",
      "metadata": {
        "id": "f3O89kmmQq_L",
        "colab_type": "code",
        "colab": {
          "base_uri": "https://localhost:8080/",
          "height": 267
        },
        "outputId": "baea87e6-e13e-48ac-ee1f-3d4bf559da57"
      },
      "source": [
        "import pandas as pd\n",
        "\n",
        "test = pd.read_csv('test_results_300.csv')\n",
        "\n",
        "test.head(2)"
      ],
      "execution_count": null,
      "outputs": [
        {
          "output_type": "execute_result",
          "data": {
            "text/html": [
              "<div>\n",
              "<style scoped>\n",
              "    .dataframe tbody tr th:only-of-type {\n",
              "        vertical-align: middle;\n",
              "    }\n",
              "\n",
              "    .dataframe tbody tr th {\n",
              "        vertical-align: top;\n",
              "    }\n",
              "\n",
              "    .dataframe thead th {\n",
              "        text-align: right;\n",
              "    }\n",
              "</style>\n",
              "<table border=\"1\" class=\"dataframe\">\n",
              "  <thead>\n",
              "    <tr style=\"text-align: right;\">\n",
              "      <th></th>\n",
              "      <th>episode_id</th>\n",
              "      <th>episode_filename_prefix</th>\n",
              "      <th>show_filename_prefix</th>\n",
              "      <th>episode_name</th>\n",
              "      <th>episode_description</th>\n",
              "      <th>transcript</th>\n",
              "      <th>summary</th>\n",
              "    </tr>\n",
              "  </thead>\n",
              "  <tbody>\n",
              "    <tr>\n",
              "      <th>0</th>\n",
              "      <td>spotify:episode:74t5WREXUbhEKNI89CNSkL</td>\n",
              "      <td>74t5WREXUbhEKNI89CNSkL</td>\n",
              "      <td>show_015DbLwcXu2fK7e9jIfbFo</td>\n",
              "      <td>Ep.05 Why We Don't Sell Presets</td>\n",
              "      <td>Today on the podcast we go on a JOURNEY! We ta...</td>\n",
              "      <td>Welcome back to another episode of tuxedo tim...</td>\n",
              "      <td>This week, we talk about the poopy stuff in ou...</td>\n",
              "    </tr>\n",
              "    <tr>\n",
              "      <th>1</th>\n",
              "      <td>spotify:episode:5fG4VlWnWwzAt6mSs0H7lY</td>\n",
              "      <td>5fG4VlWnWwzAt6mSs0H7lY</td>\n",
              "      <td>show_01DbRiALDPdvZdoiY8yQL6</td>\n",
              "      <td>How to Grow as an Esports Player - The Wavelen...</td>\n",
              "      <td>Ever wanted a podcast from your three favorite...</td>\n",
              "      <td>What's up, guys? This episode of the podcast ...</td>\n",
              "      <td>This is the first episode of The Wavelengths P...</td>\n",
              "    </tr>\n",
              "  </tbody>\n",
              "</table>\n",
              "</div>"
            ],
            "text/plain": [
              "                               episode_id  ...                                            summary\n",
              "0  spotify:episode:74t5WREXUbhEKNI89CNSkL  ...  This week, we talk about the poopy stuff in ou...\n",
              "1  spotify:episode:5fG4VlWnWwzAt6mSs0H7lY  ...  This is the first episode of The Wavelengths P...\n",
              "\n",
              "[2 rows x 7 columns]"
            ]
          },
          "metadata": {
            "tags": []
          },
          "execution_count": 18
        }
      ]
    },
    {
      "cell_type": "code",
      "metadata": {
        "id": "owLb37EnveTw",
        "colab_type": "code",
        "colab": {
          "base_uri": "https://localhost:8080/",
          "height": 52
        },
        "outputId": "3cf20233-8f91-4250-a51c-52b4da0f4025"
      },
      "source": [
        "test.iloc[50]['summary']"
      ],
      "execution_count": null,
      "outputs": [
        {
          "output_type": "execute_result",
          "data": {
            "application/vnd.google.colaboratory.intrinsic+json": {
              "type": "string"
            },
            "text/plain": [
              "'This week, we talk about the upcoming episode of The Wizarding World. We also have some new episodes coming out soon! Follow us on Twitter @WizardTeam and send us your questions or comments to: http://twitter.com/wizardteam.'"
            ]
          },
          "metadata": {
            "tags": []
          },
          "execution_count": 40
        }
      ]
    },
    {
      "cell_type": "code",
      "metadata": {
        "id": "W1zk7UXKvj3m",
        "colab_type": "code",
        "colab": {}
      },
      "source": [
        ""
      ],
      "execution_count": null,
      "outputs": []
    }
  ]
}