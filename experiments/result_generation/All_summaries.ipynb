{
  "nbformat": 4,
  "nbformat_minor": 0,
  "metadata": {
    "colab": {
      "name": "All summaries",
      "provenance": [],
      "toc_visible": true
    },
    "kernelspec": {
      "name": "python3",
      "display_name": "Python 3"
    }
  },
  "cells": [
    {
      "cell_type": "code",
      "metadata": {
        "id": "8yql_Y-ZHhlr",
        "colab_type": "code",
        "colab": {}
      },
      "source": [
        "import pandas as pd\n",
        "\n",
        "base = pd.read_csv('150_gold.csv')\n",
        "finetuned_t5 = pd.read_csv('150_gold_t5.csv')\n",
        "t5_base = pd.read_csv('t5_base_inference.csv')\n",
        "extractive = pd.read_csv('extractive_models.csv')\n",
        "ensemble = pd.read_csv('ensemble_models.csv')"
      ],
      "execution_count": null,
      "outputs": []
    },
    {
      "cell_type": "code",
      "metadata": {
        "id": "ydQzOKj-IqmL",
        "colab_type": "code",
        "colab": {
          "base_uri": "https://localhost:8080/",
          "height": 185
        },
        "outputId": "3a011600-0657-4b9e-a54e-99bd3b7a2faa"
      },
      "source": [
        "base = base[['episode_id', 'episode_name', 'transcript', 'episode_description', 'transcript', 'textrank_summary', 'lexrank_summary', 'lsa_summary', 'semi_supervised' ,'supervised', 'first_five']]\n",
        "base.head(1)"
      ],
      "execution_count": null,
      "outputs": [
        {
          "output_type": "execute_result",
          "data": {
            "text/html": [
              "<div>\n",
              "<style scoped>\n",
              "    .dataframe tbody tr th:only-of-type {\n",
              "        vertical-align: middle;\n",
              "    }\n",
              "\n",
              "    .dataframe tbody tr th {\n",
              "        vertical-align: top;\n",
              "    }\n",
              "\n",
              "    .dataframe thead th {\n",
              "        text-align: right;\n",
              "    }\n",
              "</style>\n",
              "<table border=\"1\" class=\"dataframe\">\n",
              "  <thead>\n",
              "    <tr style=\"text-align: right;\">\n",
              "      <th></th>\n",
              "      <th>episode_id</th>\n",
              "      <th>episode_name</th>\n",
              "      <th>transcript</th>\n",
              "      <th>episode_description</th>\n",
              "      <th>transcript</th>\n",
              "      <th>textrank_summary</th>\n",
              "      <th>lexrank_summary</th>\n",
              "      <th>lsa_summary</th>\n",
              "      <th>semi_supervised</th>\n",
              "      <th>supervised</th>\n",
              "      <th>first_five</th>\n",
              "    </tr>\n",
              "  </thead>\n",
              "  <tbody>\n",
              "    <tr>\n",
              "      <th>0</th>\n",
              "      <td>spotify:episode:08hXUWN6aOnHULXrqMiwTi</td>\n",
              "      <td>Recruiting Secrets From a MLM Recruiting Monst...</td>\n",
              "      <td>Hello everybody. What's going on in this Jess...</td>\n",
              "      <td>If you want to start mastering recruiting whic...</td>\n",
              "      <td>Hello everybody. What's going on in this Jess...</td>\n",
              "      <td>Let's download these stories about whoever I d...</td>\n",
              "      <td>You can do whatever networking events and I'm ...</td>\n",
              "      <td>We're going to talk about some powerful recrui...</td>\n",
              "      <td>You cannot scummy hashtag wisely, or the peop...</td>\n",
              "      <td>In this episode I talk about some powerful re...</td>\n",
              "      <td>Hello everybody. What's going on in this Jess...</td>\n",
              "    </tr>\n",
              "  </tbody>\n",
              "</table>\n",
              "</div>"
            ],
            "text/plain": [
              "                               episode_id  ...                                         first_five\n",
              "0  spotify:episode:08hXUWN6aOnHULXrqMiwTi  ...   Hello everybody. What's going on in this Jess...\n",
              "\n",
              "[1 rows x 11 columns]"
            ]
          },
          "metadata": {
            "tags": []
          },
          "execution_count": 2
        }
      ]
    },
    {
      "cell_type": "code",
      "metadata": {
        "id": "eqIwHcE-IvoW",
        "colab_type": "code",
        "colab": {
          "base_uri": "https://localhost:8080/",
          "height": 80
        },
        "outputId": "9d6062bf-414b-4d04-fe36-70bfdc398279"
      },
      "source": [
        "finetuned_t5 = finetuned_t5[['episode_id', 't5_abstractive']]\n",
        "finetuned_t5.head(1)"
      ],
      "execution_count": null,
      "outputs": [
        {
          "output_type": "execute_result",
          "data": {
            "text/html": [
              "<div>\n",
              "<style scoped>\n",
              "    .dataframe tbody tr th:only-of-type {\n",
              "        vertical-align: middle;\n",
              "    }\n",
              "\n",
              "    .dataframe tbody tr th {\n",
              "        vertical-align: top;\n",
              "    }\n",
              "\n",
              "    .dataframe thead th {\n",
              "        text-align: right;\n",
              "    }\n",
              "</style>\n",
              "<table border=\"1\" class=\"dataframe\">\n",
              "  <thead>\n",
              "    <tr style=\"text-align: right;\">\n",
              "      <th></th>\n",
              "      <th>episode_id</th>\n",
              "      <th>t5_abstractive</th>\n",
              "    </tr>\n",
              "  </thead>\n",
              "  <tbody>\n",
              "    <tr>\n",
              "      <th>0</th>\n",
              "      <td>spotify:episode:08hXUWN6aOnHULXrqMiwTi</td>\n",
              "      <td>This is a great episode to start your network ...</td>\n",
              "    </tr>\n",
              "  </tbody>\n",
              "</table>\n",
              "</div>"
            ],
            "text/plain": [
              "                               episode_id                                     t5_abstractive\n",
              "0  spotify:episode:08hXUWN6aOnHULXrqMiwTi  This is a great episode to start your network ..."
            ]
          },
          "metadata": {
            "tags": []
          },
          "execution_count": 3
        }
      ]
    },
    {
      "cell_type": "code",
      "metadata": {
        "id": "XNXedwqdIz0y",
        "colab_type": "code",
        "colab": {
          "base_uri": "https://localhost:8080/",
          "height": 80
        },
        "outputId": "706e77d0-48ed-4ee0-d10b-5ec20f15ac39"
      },
      "source": [
        "t5_base = t5_base[['episode_id', 't5_base']]\n",
        "t5_base.head(1)"
      ],
      "execution_count": null,
      "outputs": [
        {
          "output_type": "execute_result",
          "data": {
            "text/html": [
              "<div>\n",
              "<style scoped>\n",
              "    .dataframe tbody tr th:only-of-type {\n",
              "        vertical-align: middle;\n",
              "    }\n",
              "\n",
              "    .dataframe tbody tr th {\n",
              "        vertical-align: top;\n",
              "    }\n",
              "\n",
              "    .dataframe thead th {\n",
              "        text-align: right;\n",
              "    }\n",
              "</style>\n",
              "<table border=\"1\" class=\"dataframe\">\n",
              "  <thead>\n",
              "    <tr style=\"text-align: right;\">\n",
              "      <th></th>\n",
              "      <th>episode_id</th>\n",
              "      <th>t5_base</th>\n",
              "    </tr>\n",
              "  </thead>\n",
              "  <tbody>\n",
              "    <tr>\n",
              "      <th>0</th>\n",
              "      <td>spotify:episode:08hXUWN6aOnHULXrqMiwTi</td>\n",
              "      <td>If you want to be a network marketing recruiti...</td>\n",
              "    </tr>\n",
              "  </tbody>\n",
              "</table>\n",
              "</div>"
            ],
            "text/plain": [
              "                               episode_id                                            t5_base\n",
              "0  spotify:episode:08hXUWN6aOnHULXrqMiwTi  If you want to be a network marketing recruiti..."
            ]
          },
          "metadata": {
            "tags": []
          },
          "execution_count": 4
        }
      ]
    },
    {
      "cell_type": "code",
      "metadata": {
        "id": "MwS1uvsMI5Q_",
        "colab_type": "code",
        "colab": {
          "base_uri": "https://localhost:8080/",
          "height": 114
        },
        "outputId": "d45ea0bb-f612-44f8-d666-6020219882e8"
      },
      "source": [
        "extractive = extractive[['episode_id', 'spanbert', 'bert', 'bert_coref', 'spanbert_base']]\n",
        "extractive.head(1)"
      ],
      "execution_count": null,
      "outputs": [
        {
          "output_type": "execute_result",
          "data": {
            "text/html": [
              "<div>\n",
              "<style scoped>\n",
              "    .dataframe tbody tr th:only-of-type {\n",
              "        vertical-align: middle;\n",
              "    }\n",
              "\n",
              "    .dataframe tbody tr th {\n",
              "        vertical-align: top;\n",
              "    }\n",
              "\n",
              "    .dataframe thead th {\n",
              "        text-align: right;\n",
              "    }\n",
              "</style>\n",
              "<table border=\"1\" class=\"dataframe\">\n",
              "  <thead>\n",
              "    <tr style=\"text-align: right;\">\n",
              "      <th></th>\n",
              "      <th>episode_id</th>\n",
              "      <th>spanbert</th>\n",
              "      <th>bert</th>\n",
              "      <th>bert_coref</th>\n",
              "      <th>spanbert_base</th>\n",
              "    </tr>\n",
              "  </thead>\n",
              "  <tbody>\n",
              "    <tr>\n",
              "      <th>0</th>\n",
              "      <td>spotify:episode:08hXUWN6aOnHULXrqMiwTi</td>\n",
              "      <td>You cannot scummy hashtag wisely, or the peopl...</td>\n",
              "      <td>You cannot scummy hashtag wisely, or the peopl...</td>\n",
              "      <td>You cannot scummy hashtag wisely, or the peopl...</td>\n",
              "      <td>You cannot scummy hashtag wisely, or the peopl...</td>\n",
              "    </tr>\n",
              "  </tbody>\n",
              "</table>\n",
              "</div>"
            ],
            "text/plain": [
              "                               episode_id  ...                                      spanbert_base\n",
              "0  spotify:episode:08hXUWN6aOnHULXrqMiwTi  ...  You cannot scummy hashtag wisely, or the peopl...\n",
              "\n",
              "[1 rows x 5 columns]"
            ]
          },
          "metadata": {
            "tags": []
          },
          "execution_count": 5
        }
      ]
    },
    {
      "cell_type": "code",
      "metadata": {
        "id": "96Y2zDSqI8kj",
        "colab_type": "code",
        "colab": {
          "base_uri": "https://localhost:8080/",
          "height": 80
        },
        "outputId": "09fcf501-2ccc-48ab-ee96-0e341896bcad"
      },
      "source": [
        "ensemble = ensemble[['episode_id', 'spanBert_t5', 'firstN_t5']]\n",
        "ensemble.head(1)"
      ],
      "execution_count": null,
      "outputs": [
        {
          "output_type": "execute_result",
          "data": {
            "text/html": [
              "<div>\n",
              "<style scoped>\n",
              "    .dataframe tbody tr th:only-of-type {\n",
              "        vertical-align: middle;\n",
              "    }\n",
              "\n",
              "    .dataframe tbody tr th {\n",
              "        vertical-align: top;\n",
              "    }\n",
              "\n",
              "    .dataframe thead th {\n",
              "        text-align: right;\n",
              "    }\n",
              "</style>\n",
              "<table border=\"1\" class=\"dataframe\">\n",
              "  <thead>\n",
              "    <tr style=\"text-align: right;\">\n",
              "      <th></th>\n",
              "      <th>episode_id</th>\n",
              "      <th>spanBert_t5</th>\n",
              "      <th>firstN_t5</th>\n",
              "    </tr>\n",
              "  </thead>\n",
              "  <tbody>\n",
              "    <tr>\n",
              "      <th>0</th>\n",
              "      <td>spotify:episode:08hXUWN6aOnHULXrqMiwTi</td>\n",
              "      <td>This is the #1 network marketing podcast in th...</td>\n",
              "      <td>This is a great podcast to start your network ...</td>\n",
              "    </tr>\n",
              "  </tbody>\n",
              "</table>\n",
              "</div>"
            ],
            "text/plain": [
              "                               episode_id  ...                                          firstN_t5\n",
              "0  spotify:episode:08hXUWN6aOnHULXrqMiwTi  ...  This is a great podcast to start your network ...\n",
              "\n",
              "[1 rows x 3 columns]"
            ]
          },
          "metadata": {
            "tags": []
          },
          "execution_count": 6
        }
      ]
    },
    {
      "cell_type": "code",
      "metadata": {
        "id": "xU4JwGZ7JAdl",
        "colab_type": "code",
        "colab": {
          "base_uri": "https://localhost:8080/",
          "height": 202
        },
        "outputId": "75beca6f-9760-406f-a737-f485729986a8"
      },
      "source": [
        "summaries = base.merge(finetuned_t5, left_on='episode_id', right_on='episode_id')\n",
        "summaries = summaries.merge(t5_base, left_on='episode_id', right_on='episode_id')\n",
        "summaries = summaries.merge(extractive, left_on='episode_id', right_on='episode_id')\n",
        "summaries = summaries.merge(ensemble, left_on='episode_id', right_on='episode_id')\n",
        "summaries.head(1)"
      ],
      "execution_count": null,
      "outputs": [
        {
          "output_type": "execute_result",
          "data": {
            "text/html": [
              "<div>\n",
              "<style scoped>\n",
              "    .dataframe tbody tr th:only-of-type {\n",
              "        vertical-align: middle;\n",
              "    }\n",
              "\n",
              "    .dataframe tbody tr th {\n",
              "        vertical-align: top;\n",
              "    }\n",
              "\n",
              "    .dataframe thead th {\n",
              "        text-align: right;\n",
              "    }\n",
              "</style>\n",
              "<table border=\"1\" class=\"dataframe\">\n",
              "  <thead>\n",
              "    <tr style=\"text-align: right;\">\n",
              "      <th></th>\n",
              "      <th>episode_id</th>\n",
              "      <th>episode_name</th>\n",
              "      <th>transcript</th>\n",
              "      <th>episode_description</th>\n",
              "      <th>transcript</th>\n",
              "      <th>textrank_summary</th>\n",
              "      <th>lexrank_summary</th>\n",
              "      <th>lsa_summary</th>\n",
              "      <th>semi_supervised</th>\n",
              "      <th>supervised</th>\n",
              "      <th>first_five</th>\n",
              "      <th>t5_abstractive</th>\n",
              "      <th>t5_base</th>\n",
              "      <th>spanbert</th>\n",
              "      <th>bert</th>\n",
              "      <th>bert_coref</th>\n",
              "      <th>spanbert_base</th>\n",
              "      <th>spanBert_t5</th>\n",
              "      <th>firstN_t5</th>\n",
              "    </tr>\n",
              "  </thead>\n",
              "  <tbody>\n",
              "    <tr>\n",
              "      <th>0</th>\n",
              "      <td>spotify:episode:08hXUWN6aOnHULXrqMiwTi</td>\n",
              "      <td>Recruiting Secrets From a MLM Recruiting Monst...</td>\n",
              "      <td>Hello everybody. What's going on in this Jess...</td>\n",
              "      <td>If you want to start mastering recruiting whic...</td>\n",
              "      <td>Hello everybody. What's going on in this Jess...</td>\n",
              "      <td>Let's download these stories about whoever I d...</td>\n",
              "      <td>You can do whatever networking events and I'm ...</td>\n",
              "      <td>We're going to talk about some powerful recrui...</td>\n",
              "      <td>You cannot scummy hashtag wisely, or the peop...</td>\n",
              "      <td>In this episode I talk about some powerful re...</td>\n",
              "      <td>Hello everybody. What's going on in this Jess...</td>\n",
              "      <td>This is a great episode to start your network ...</td>\n",
              "      <td>If you want to be a network marketing recruiti...</td>\n",
              "      <td>You cannot scummy hashtag wisely, or the peopl...</td>\n",
              "      <td>You cannot scummy hashtag wisely, or the peopl...</td>\n",
              "      <td>You cannot scummy hashtag wisely, or the peopl...</td>\n",
              "      <td>You cannot scummy hashtag wisely, or the peopl...</td>\n",
              "      <td>This is the #1 network marketing podcast in th...</td>\n",
              "      <td>This is a great podcast to start your network ...</td>\n",
              "    </tr>\n",
              "  </tbody>\n",
              "</table>\n",
              "</div>"
            ],
            "text/plain": [
              "                               episode_id  ...                                          firstN_t5\n",
              "0  spotify:episode:08hXUWN6aOnHULXrqMiwTi  ...  This is a great podcast to start your network ...\n",
              "\n",
              "[1 rows x 19 columns]"
            ]
          },
          "metadata": {
            "tags": []
          },
          "execution_count": 7
        }
      ]
    },
    {
      "cell_type": "code",
      "metadata": {
        "id": "UJhmQdnmLX2M",
        "colab_type": "code",
        "colab": {
          "base_uri": "https://localhost:8080/",
          "height": 403
        },
        "outputId": "7d4b2b37-4115-4c8b-fcf0-be8b031a1efc"
      },
      "source": [
        "summaries.rename(columns={\n",
        "    'episode_id': 'Episode ID',\n",
        "    'episode_name': 'Episode Name',\n",
        "    'episode_description': 'Creator Description',\n",
        "    'textrank_summary': 'TextRank',\n",
        "    'lexrank_summary': 'LexRank',\n",
        "    'lsa_summary': 'LSA',\n",
        "    'semi_supervised': 'BART Base',\n",
        "    'supervised': 'Fine-Tuned BART',\n",
        "    'first_five': 'First Five Sentences',\n",
        "    't5_abstractive': 'Fine-Tuned T5',\n",
        "    't5_base': 'T5 Base',\n",
        "    'spanbert': 'Coref Resolution + SpanBERT + K-Means',\n",
        "    'bert': 'BERT + K-Means',\n",
        "    'bert_coref': 'Coref Resolution + BERT + K-Means',\n",
        "    'spanbert_base': 'SpanBERT + K-Means',\n",
        "    'spanBert_t5': 'SpanBERT + T5',\n",
        "    'firstN_t5': 'First 15 + T5'\n",
        "}, inplace=True)\n",
        "\n",
        "summaries.head(2)"
      ],
      "execution_count": null,
      "outputs": [
        {
          "output_type": "execute_result",
          "data": {
            "text/html": [
              "<div>\n",
              "<style scoped>\n",
              "    .dataframe tbody tr th:only-of-type {\n",
              "        vertical-align: middle;\n",
              "    }\n",
              "\n",
              "    .dataframe tbody tr th {\n",
              "        vertical-align: top;\n",
              "    }\n",
              "\n",
              "    .dataframe thead th {\n",
              "        text-align: right;\n",
              "    }\n",
              "</style>\n",
              "<table border=\"1\" class=\"dataframe\">\n",
              "  <thead>\n",
              "    <tr style=\"text-align: right;\">\n",
              "      <th></th>\n",
              "      <th>Episode ID</th>\n",
              "      <th>Episode Name</th>\n",
              "      <th>transcript</th>\n",
              "      <th>Creator Description</th>\n",
              "      <th>transcript</th>\n",
              "      <th>TextRank</th>\n",
              "      <th>LexRank</th>\n",
              "      <th>LSA</th>\n",
              "      <th>BART Base</th>\n",
              "      <th>Fine-Tuned BART</th>\n",
              "      <th>First Five Sentences</th>\n",
              "      <th>Fine-Tuned T5</th>\n",
              "      <th>T5 Base</th>\n",
              "      <th>Coref Resolution + SpanBERT + K-Means</th>\n",
              "      <th>BERT + K-Means</th>\n",
              "      <th>Coref Resolution + BERT + K-Means</th>\n",
              "      <th>SpanBERT + K-Means</th>\n",
              "      <th>SpanBERT + T5</th>\n",
              "      <th>First 15 + T5</th>\n",
              "    </tr>\n",
              "  </thead>\n",
              "  <tbody>\n",
              "    <tr>\n",
              "      <th>0</th>\n",
              "      <td>spotify:episode:08hXUWN6aOnHULXrqMiwTi</td>\n",
              "      <td>Recruiting Secrets From a MLM Recruiting Monst...</td>\n",
              "      <td>Hello everybody. What's going on in this Jess...</td>\n",
              "      <td>If you want to start mastering recruiting whic...</td>\n",
              "      <td>Hello everybody. What's going on in this Jess...</td>\n",
              "      <td>Let's download these stories about whoever I d...</td>\n",
              "      <td>You can do whatever networking events and I'm ...</td>\n",
              "      <td>We're going to talk about some powerful recrui...</td>\n",
              "      <td>You cannot scummy hashtag wisely, or the peop...</td>\n",
              "      <td>In this episode I talk about some powerful re...</td>\n",
              "      <td>Hello everybody. What's going on in this Jess...</td>\n",
              "      <td>This is a great episode to start your network ...</td>\n",
              "      <td>If you want to be a network marketing recruiti...</td>\n",
              "      <td>You cannot scummy hashtag wisely, or the peopl...</td>\n",
              "      <td>You cannot scummy hashtag wisely, or the peopl...</td>\n",
              "      <td>You cannot scummy hashtag wisely, or the peopl...</td>\n",
              "      <td>You cannot scummy hashtag wisely, or the peopl...</td>\n",
              "      <td>This is the #1 network marketing podcast in th...</td>\n",
              "      <td>This is a great podcast to start your network ...</td>\n",
              "    </tr>\n",
              "    <tr>\n",
              "      <th>1</th>\n",
              "      <td>spotify:episode:0CExTNH4LFqp1ec1mhTd4I</td>\n",
              "      <td>A Public Service Announcement from the mrbrown...</td>\n",
              "      <td>Ladies, have you been molested don't be a vic...</td>\n",
              "      <td>Don't be a silent victim of crime. a parody fr...</td>\n",
              "      <td>Ladies, have you been molested don't be a vic...</td>\n",
              "      <td>Have someone escort you home when it's late ab...</td>\n",
              "      <td>But you can touch his life. But you can touch ...</td>\n",
              "      <td>If you only touched you in minor ways never mi...</td>\n",
              "      <td>If you have been molested call the police sho...</td>\n",
              "      <td>If you have been molested, here are some of t...</td>\n",
              "      <td>Ladies, have you been molested don't be a vic...</td>\n",
              "      <td>This is a Public Service Announcement for Mr. ...</td>\n",
              "      <td>Ladies, have you been molested don't be a vict...</td>\n",
              "      <td>Ladies, have you been molested don't be a vict...</td>\n",
              "      <td>Ladies, have you been molested don't be a vict...</td>\n",
              "      <td>Ladies, have you been molested don't be a vict...</td>\n",
              "      <td>Ladies, have you been molested don't be a vict...</td>\n",
              "      <td>--- Send in a voice message: https://anchor.fm...</td>\n",
              "      <td>This is a Public Service Announcement for Mr. ...</td>\n",
              "    </tr>\n",
              "  </tbody>\n",
              "</table>\n",
              "</div>"
            ],
            "text/plain": [
              "                               Episode ID  ...                                      First 15 + T5\n",
              "0  spotify:episode:08hXUWN6aOnHULXrqMiwTi  ...  This is a great podcast to start your network ...\n",
              "1  spotify:episode:0CExTNH4LFqp1ec1mhTd4I  ...  This is a Public Service Announcement for Mr. ...\n",
              "\n",
              "[2 rows x 19 columns]"
            ]
          },
          "metadata": {
            "tags": []
          },
          "execution_count": 8
        }
      ]
    },
    {
      "cell_type": "code",
      "metadata": {
        "id": "qG298Q8bRSTW",
        "colab_type": "code",
        "colab": {
          "base_uri": "https://localhost:8080/",
          "height": 403
        },
        "outputId": "db6b69b4-f397-4613-aa8d-e34175ba5046"
      },
      "source": [
        "del summaries['transcript']\n",
        "summaries.tail(2)"
      ],
      "execution_count": null,
      "outputs": [
        {
          "output_type": "execute_result",
          "data": {
            "text/html": [
              "<div>\n",
              "<style scoped>\n",
              "    .dataframe tbody tr th:only-of-type {\n",
              "        vertical-align: middle;\n",
              "    }\n",
              "\n",
              "    .dataframe tbody tr th {\n",
              "        vertical-align: top;\n",
              "    }\n",
              "\n",
              "    .dataframe thead th {\n",
              "        text-align: right;\n",
              "    }\n",
              "</style>\n",
              "<table border=\"1\" class=\"dataframe\">\n",
              "  <thead>\n",
              "    <tr style=\"text-align: right;\">\n",
              "      <th></th>\n",
              "      <th>Episode ID</th>\n",
              "      <th>Episode Name</th>\n",
              "      <th>Creator Description</th>\n",
              "      <th>TextRank</th>\n",
              "      <th>LexRank</th>\n",
              "      <th>LSA</th>\n",
              "      <th>BART Base</th>\n",
              "      <th>Fine-Tuned BART</th>\n",
              "      <th>First Five Sentences</th>\n",
              "      <th>Fine-Tuned T5</th>\n",
              "      <th>T5 Base</th>\n",
              "      <th>Coref Resolution + SpanBERT + K-Means</th>\n",
              "      <th>BERT + K-Means</th>\n",
              "      <th>Coref Resolution + BERT + K-Means</th>\n",
              "      <th>SpanBERT + K-Means</th>\n",
              "      <th>SpanBERT + T5</th>\n",
              "      <th>First 15 + T5</th>\n",
              "    </tr>\n",
              "  </thead>\n",
              "  <tbody>\n",
              "    <tr>\n",
              "      <th>148</th>\n",
              "      <td>spotify:episode:7uv6JrgV01fiecvCgxRMy8</td>\n",
              "      <td>Best Organic Dessert Recipes</td>\n",
              "      <td>Comfort Foods for Cold Nights</td>\n",
              "      <td>Kosher salt 3 cups all-purpose flour plus more...</td>\n",
              "      <td>Four cups whole milk warmed pinch of freshly g...</td>\n",
              "      <td>Finely chopped kosher salt and freshly ground ...</td>\n",
              "      <td>Ingredients bolognese sauce 1 large onion, 1 ...</td>\n",
              "      <td>1 cup dry white wine 1 cup whole milk 1 14.5 ...</td>\n",
              "      <td>Ingredients bolognese sauce 1 large onion coa...</td>\n",
              "      <td>This episode is about bolognese sauce. It's al...</td>\n",
              "      <td>Ingredients bolognese sauce 1 large onion coar...</td>\n",
              "      <td>Ingredients bolognese sauce 1 large onion coar...</td>\n",
              "      <td>Ingredients bolognese sauce 1 large onion coar...</td>\n",
              "      <td>Ingredients bolognese sauce 1 large onion coar...</td>\n",
              "      <td>Ingredients bolognese sauce 1 large onion coar...</td>\n",
              "      <td>This episode is about Bolognese Sauce, a sauce...</td>\n",
              "      <td>This episode is about Bolognese Sauce, a sauce...</td>\n",
              "    </tr>\n",
              "    <tr>\n",
              "      <th>149</th>\n",
              "      <td>spotify:episode:7zd15Qptaa1rxz4QCbHotX</td>\n",
              "      <td>BREAKING EMERGENCY POD: TYLER BARISHAW LIKELY ...</td>\n",
              "      <td>BREAKING EMERGENCY POD: TYLER BARISHAW LIKELY ...</td>\n",
              "      <td>I just hope you enjoy it and hope you may make...</td>\n",
              "      <td>Yeah, anyways, you know, you get like free cho...</td>\n",
              "      <td>This is just  it's I don't even know what NBA ...</td>\n",
              "      <td>Sean Kershaw is joining the Marines . He will...</td>\n",
              "      <td>In the midst of signing a contract with the M...</td>\n",
              "      <td>Welcome to the good life. Welcome to the good...</td>\n",
              "      <td>This is a very interesting episode. We talk ab...</td>\n",
              "      <td>A quarter of military trade in his head will b...</td>\n",
              "      <td>He will be doing it you will be doing it a qua...</td>\n",
              "      <td>He will be doing it you will be doing it a qua...</td>\n",
              "      <td>He will be doing it you will be doing it a qua...</td>\n",
              "      <td>He will be doing it you will be doing it a qua...</td>\n",
              "      <td>This week we talk about the importance of bein...</td>\n",
              "      <td>This is not a joke, but it's a great opportuni...</td>\n",
              "    </tr>\n",
              "  </tbody>\n",
              "</table>\n",
              "</div>"
            ],
            "text/plain": [
              "                                 Episode ID  ...                                      First 15 + T5\n",
              "148  spotify:episode:7uv6JrgV01fiecvCgxRMy8  ...  This episode is about Bolognese Sauce, a sauce...\n",
              "149  spotify:episode:7zd15Qptaa1rxz4QCbHotX  ...  This is not a joke, but it's a great opportuni...\n",
              "\n",
              "[2 rows x 17 columns]"
            ]
          },
          "metadata": {
            "tags": []
          },
          "execution_count": 9
        }
      ]
    },
    {
      "cell_type": "code",
      "metadata": {
        "id": "8wnwsRa3WmsE",
        "colab_type": "code",
        "colab": {}
      },
      "source": [
        "import string\n",
        "\n",
        "def clean_up(text):\n",
        "  head, _ , _ = text.partition(' ---')\n",
        "  head = head.strip()\n",
        "  first_letter = head[0].capitalize()\n",
        "  head = first_letter + head[1:]\n",
        "  if head[-1] in string.punctuation:\n",
        "    pass\n",
        "  else:\n",
        "    head += '.'\n",
        "  return head\n",
        "\n",
        "def clean_up_base(text):\n",
        "  head, _ , _ = text.partition(' ---')\n",
        "  head = head.strip()\n",
        "  return head\n",
        "\n",
        "\n",
        "summaries['Fine-Tuned BART'] = summaries.apply(lambda row: clean_up(row['Fine-Tuned BART']), axis = 1)\n",
        "#summaries['Creator Description'] = summaries.apply(lambda row: clean_up_base(row['Creator Description']), axis = 1)\n"
      ],
      "execution_count": null,
      "outputs": []
    },
    {
      "cell_type": "code",
      "metadata": {
        "id": "VgoIgtzNSH20",
        "colab_type": "code",
        "colab": {}
      },
      "source": [
        "#summaries.to_csv('summaries.csv')"
      ],
      "execution_count": null,
      "outputs": []
    },
    {
      "cell_type": "markdown",
      "metadata": {
        "id": "TUpSrcbwk59b",
        "colab_type": "text"
      },
      "source": [
        "#Rouge Scores"
      ]
    },
    {
      "cell_type": "code",
      "metadata": {
        "id": "PYhiaKjKSYkE",
        "colab_type": "code",
        "colab": {
          "base_uri": "https://localhost:8080/",
          "height": 122
        },
        "outputId": "c21a6fd2-730f-4078-ad55-43eff51ddfe9"
      },
      "source": [
        "!pip install rouge\n",
        "from rouge import Rouge\n",
        "rouge = Rouge()"
      ],
      "execution_count": null,
      "outputs": [
        {
          "output_type": "stream",
          "text": [
            "Collecting rouge\n",
            "  Downloading https://files.pythonhosted.org/packages/43/cc/e18e33be20971ff73a056ebdb023476b5a545e744e3fc22acd8c758f1e0d/rouge-1.0.0-py3-none-any.whl\n",
            "Requirement already satisfied: six in /usr/local/lib/python3.6/dist-packages (from rouge) (1.15.0)\n",
            "Installing collected packages: rouge\n",
            "Successfully installed rouge-1.0.0\n"
          ],
          "name": "stdout"
        }
      ]
    },
    {
      "cell_type": "code",
      "metadata": {
        "id": "pDsx_G12lDDy",
        "colab_type": "code",
        "colab": {
          "base_uri": "https://localhost:8080/",
          "height": 119
        },
        "outputId": "5caa192f-b54f-4a6b-9648-0fe290e3b65f"
      },
      "source": [
        "summaries.columns.values"
      ],
      "execution_count": null,
      "outputs": [
        {
          "output_type": "execute_result",
          "data": {
            "text/plain": [
              "array(['Episode ID', 'Episode Name', 'Creator Description', 'TextRank',\n",
              "       'LexRank', 'LSA', 'BART Base', 'Fine-Tuned BART',\n",
              "       'First Five Sentences', 'Fine-Tuned T5', 'T5 Base',\n",
              "       'Coref Resolution + SpanBERT + K-Means', 'BERT + K-Means',\n",
              "       'Coref Resolution + BERT + K-Means', 'SpanBERT + K-Means',\n",
              "       'SpanBERT + T5', 'First 15 + T5'], dtype=object)"
            ]
          },
          "metadata": {
            "tags": []
          },
          "execution_count": 13
        }
      ]
    },
    {
      "cell_type": "code",
      "metadata": {
        "id": "6QtvSZ4osgm4",
        "colab_type": "code",
        "colab": {}
      },
      "source": [
        "#summaries['Creator Description'] = summaries.apply(lambda row: row['Creator Description'] if row['Creator Description'] != '' else row['Episode Name'], axis = 1)"
      ],
      "execution_count": null,
      "outputs": []
    },
    {
      "cell_type": "code",
      "metadata": {
        "id": "VKmSgXTKlMZd",
        "colab_type": "code",
        "colab": {}
      },
      "source": [
        "row_names = ['TextRank', 'LexRank', 'LSA', 'BART Base', 'Fine-Tuned BART', 'First Five Sentences', 'Fine-Tuned T5', 'T5 Base', 'Coref Resolution + SpanBERT + K-Means', 'BERT + K-Means', 'Coref Resolution + BERT + K-Means', 'SpanBERT + K-Means', 'SpanBERT + T5', 'First 15 + T5']\n",
        "\n",
        "textrank = rouge.get_scores(summaries['TextRank'], summaries['Creator Description'],  avg=True)\n",
        "lexrank = rouge.get_scores(summaries['LexRank'], summaries['Creator Description'], avg=True)\n",
        "lsa = rouge.get_scores(summaries['LSA'], summaries['Creator Description'], avg=True)\n",
        "bart_base = rouge.get_scores(summaries['BART Base'], summaries['Creator Description'], avg=True)\n",
        "bart_finetuned = rouge.get_scores(summaries['Fine-Tuned BART'], summaries['Creator Description'], avg=True)\n",
        "first_five = rouge.get_scores(summaries['First Five Sentences'], summaries['Creator Description'], avg=True)\n",
        "t5_finetuned = rouge.get_scores(summaries['Fine-Tuned T5'], summaries['Creator Description'], avg=True)\n",
        "t5_base = rouge.get_scores(summaries['T5 Base'], summaries['Creator Description'], avg=True)\n",
        "coref_spanBert = rouge.get_scores(summaries['Coref Resolution + SpanBERT + K-Means'], summaries['Creator Description'], avg=True)\n",
        "bert_kmeans = rouge.get_scores(summaries['BERT + K-Means'], summaries['Creator Description'], avg=True)\n",
        "coref_bert = rouge.get_scores(summaries['Coref Resolution + BERT + K-Means'], summaries['Creator Description'], avg=True)\n",
        "spanBert_kmeans = rouge.get_scores(summaries['SpanBERT + K-Means'], summaries['Creator Description'], avg=True)\n",
        "spanBert_t5 = rouge.get_scores(summaries['SpanBERT + T5'], summaries['Creator Description'], avg=True)\n",
        "first15_t5 = rouge.get_scores(summaries['First 15 + T5'], summaries['Creator Description'], avg=True)"
      ],
      "execution_count": null,
      "outputs": []
    },
    {
      "cell_type": "code",
      "metadata": {
        "id": "eo1Zs6eInzp_",
        "colab_type": "code",
        "colab": {}
      },
      "source": [
        "rouge1_scores = [textrank['rouge-1']['f'], lexrank['rouge-1']['f'], lsa['rouge-1']['f'], bart_base['rouge-1']['f'], bart_finetuned['rouge-1']['f'], first_five['rouge-1']['f'], t5_finetuned['rouge-1']['f'], t5_base['rouge-1']['f'], coref_spanBert['rouge-1']['f'], bert_kmeans['rouge-1']['f'], coref_bert['rouge-1']['f'], spanBert_kmeans['rouge-1']['f'], spanBert_t5['rouge-1']['f'], first15_t5['rouge-1']['f']]\n",
        "rouge1_df = pd.DataFrame({'Rouge1-F':rouge1_scores}, index=row_names)"
      ],
      "execution_count": null,
      "outputs": []
    },
    {
      "cell_type": "code",
      "metadata": {
        "id": "WaxI-AjAveRv",
        "colab_type": "code",
        "colab": {}
      },
      "source": [
        "rouge2_scores = [textrank['rouge-2']['f'], lexrank['rouge-2']['f'], lsa['rouge-2']['f'], bart_base['rouge-2']['f'], bart_finetuned['rouge-2']['f'], first_five['rouge-2']['f'], t5_finetuned['rouge-2']['f'], t5_base['rouge-2']['f'], coref_spanBert['rouge-2']['f'], bert_kmeans['rouge-2']['f'], coref_bert['rouge-2']['f'], spanBert_kmeans['rouge-2']['f'], spanBert_t5['rouge-2']['f'], first15_t5['rouge-2']['f']]\n",
        "rouge2_df = pd.DataFrame({'Rouge2-F':rouge2_scores}, index=row_names)"
      ],
      "execution_count": null,
      "outputs": []
    },
    {
      "cell_type": "code",
      "metadata": {
        "id": "-oIiwDGXwbHa",
        "colab_type": "code",
        "colab": {}
      },
      "source": [
        "rougel_scores = [textrank['rouge-l']['f'], lexrank['rouge-l']['f'], lsa['rouge-l']['f'], bart_base['rouge-l']['f'], bart_finetuned['rouge-l']['f'], first_five['rouge-l']['f'], t5_finetuned['rouge-l']['f'], t5_base['rouge-l']['f'], coref_spanBert['rouge-l']['f'], bert_kmeans['rouge-l']['f'], coref_bert['rouge-l']['f'], spanBert_kmeans['rouge-l']['f'], spanBert_t5['rouge-l']['f'], first15_t5['rouge-l']['f']]\n",
        "rougel_df = pd.DataFrame({'RougeL-F':rougel_scores}, index=row_names)"
      ],
      "execution_count": null,
      "outputs": []
    },
    {
      "cell_type": "code",
      "metadata": {
        "id": "jFFYe2dtw-rB",
        "colab_type": "code",
        "colab": {
          "base_uri": "https://localhost:8080/",
          "height": 483
        },
        "outputId": "ec079d2e-6179-40b4-f01d-31e5752384d9"
      },
      "source": [
        "rouge_f_scores = rouge1_df.merge(rouge2_df, left_index=True, right_index = True)\n",
        "rouge_f_scores = rouge_f_scores.merge(rougel_df, left_index=True, right_index = True)\n",
        "rouge_f_scores"
      ],
      "execution_count": null,
      "outputs": [
        {
          "output_type": "execute_result",
          "data": {
            "text/html": [
              "<div>\n",
              "<style scoped>\n",
              "    .dataframe tbody tr th:only-of-type {\n",
              "        vertical-align: middle;\n",
              "    }\n",
              "\n",
              "    .dataframe tbody tr th {\n",
              "        vertical-align: top;\n",
              "    }\n",
              "\n",
              "    .dataframe thead th {\n",
              "        text-align: right;\n",
              "    }\n",
              "</style>\n",
              "<table border=\"1\" class=\"dataframe\">\n",
              "  <thead>\n",
              "    <tr style=\"text-align: right;\">\n",
              "      <th></th>\n",
              "      <th>Rouge1-F</th>\n",
              "      <th>Rouge2-F</th>\n",
              "      <th>RougeL-F</th>\n",
              "    </tr>\n",
              "  </thead>\n",
              "  <tbody>\n",
              "    <tr>\n",
              "      <th>TextRank</th>\n",
              "      <td>0.116462</td>\n",
              "      <td>0.014054</td>\n",
              "      <td>0.104729</td>\n",
              "    </tr>\n",
              "    <tr>\n",
              "      <th>LexRank</th>\n",
              "      <td>0.119708</td>\n",
              "      <td>0.014022</td>\n",
              "      <td>0.106071</td>\n",
              "    </tr>\n",
              "    <tr>\n",
              "      <th>LSA</th>\n",
              "      <td>0.132847</td>\n",
              "      <td>0.010752</td>\n",
              "      <td>0.109076</td>\n",
              "    </tr>\n",
              "    <tr>\n",
              "      <th>BART Base</th>\n",
              "      <td>0.161447</td>\n",
              "      <td>0.029776</td>\n",
              "      <td>0.146231</td>\n",
              "    </tr>\n",
              "    <tr>\n",
              "      <th>Fine-Tuned BART</th>\n",
              "      <td>0.164612</td>\n",
              "      <td>0.039461</td>\n",
              "      <td>0.147935</td>\n",
              "    </tr>\n",
              "    <tr>\n",
              "      <th>First Five Sentences</th>\n",
              "      <td>0.138515</td>\n",
              "      <td>0.029270</td>\n",
              "      <td>0.126388</td>\n",
              "    </tr>\n",
              "    <tr>\n",
              "      <th>Fine-Tuned T5</th>\n",
              "      <td>0.172924</td>\n",
              "      <td>0.041895</td>\n",
              "      <td>0.159610</td>\n",
              "    </tr>\n",
              "    <tr>\n",
              "      <th>T5 Base</th>\n",
              "      <td>0.147173</td>\n",
              "      <td>0.023238</td>\n",
              "      <td>0.131217</td>\n",
              "    </tr>\n",
              "    <tr>\n",
              "      <th>Coref Resolution + SpanBERT + K-Means</th>\n",
              "      <td>0.145516</td>\n",
              "      <td>0.026931</td>\n",
              "      <td>0.124303</td>\n",
              "    </tr>\n",
              "    <tr>\n",
              "      <th>BERT + K-Means</th>\n",
              "      <td>0.137192</td>\n",
              "      <td>0.020735</td>\n",
              "      <td>0.116341</td>\n",
              "    </tr>\n",
              "    <tr>\n",
              "      <th>Coref Resolution + BERT + K-Means</th>\n",
              "      <td>0.146966</td>\n",
              "      <td>0.023059</td>\n",
              "      <td>0.122870</td>\n",
              "    </tr>\n",
              "    <tr>\n",
              "      <th>SpanBERT + K-Means</th>\n",
              "      <td>0.147495</td>\n",
              "      <td>0.024166</td>\n",
              "      <td>0.123257</td>\n",
              "    </tr>\n",
              "    <tr>\n",
              "      <th>SpanBERT + T5</th>\n",
              "      <td>0.156296</td>\n",
              "      <td>0.028774</td>\n",
              "      <td>0.143372</td>\n",
              "    </tr>\n",
              "    <tr>\n",
              "      <th>First 15 + T5</th>\n",
              "      <td>0.160534</td>\n",
              "      <td>0.038966</td>\n",
              "      <td>0.149213</td>\n",
              "    </tr>\n",
              "  </tbody>\n",
              "</table>\n",
              "</div>"
            ],
            "text/plain": [
              "                                       Rouge1-F  Rouge2-F  RougeL-F\n",
              "TextRank                               0.116462  0.014054  0.104729\n",
              "LexRank                                0.119708  0.014022  0.106071\n",
              "LSA                                    0.132847  0.010752  0.109076\n",
              "BART Base                              0.161447  0.029776  0.146231\n",
              "Fine-Tuned BART                        0.164612  0.039461  0.147935\n",
              "First Five Sentences                   0.138515  0.029270  0.126388\n",
              "Fine-Tuned T5                          0.172924  0.041895  0.159610\n",
              "T5 Base                                0.147173  0.023238  0.131217\n",
              "Coref Resolution + SpanBERT + K-Means  0.145516  0.026931  0.124303\n",
              "BERT + K-Means                         0.137192  0.020735  0.116341\n",
              "Coref Resolution + BERT + K-Means      0.146966  0.023059  0.122870\n",
              "SpanBERT + K-Means                     0.147495  0.024166  0.123257\n",
              "SpanBERT + T5                          0.156296  0.028774  0.143372\n",
              "First 15 + T5                          0.160534  0.038966  0.149213"
            ]
          },
          "metadata": {
            "tags": []
          },
          "execution_count": 19
        }
      ]
    },
    {
      "cell_type": "code",
      "metadata": {
        "id": "EF23m75exWmz",
        "colab_type": "code",
        "colab": {
          "base_uri": "https://localhost:8080/",
          "height": 483
        },
        "outputId": "4b5c154d-bd10-4793-dd84-d1695512f2a5"
      },
      "source": [
        "rouge1_scores = [textrank['rouge-1']['p'], lexrank['rouge-1']['p'], lsa['rouge-1']['p'], bart_base['rouge-1']['p'], bart_finetuned['rouge-1']['p'], first_five['rouge-1']['p'], t5_finetuned['rouge-1']['p'], t5_base['rouge-1']['p'], coref_spanBert['rouge-1']['p'], bert_kmeans['rouge-1']['p'], coref_bert['rouge-1']['p'], spanBert_kmeans['rouge-1']['p'], spanBert_t5['rouge-1']['p'], first15_t5['rouge-1']['p']]\n",
        "rouge1_df = pd.DataFrame({'Rouge1-F':rouge1_scores}, index=row_names)\n",
        "\n",
        "rouge2_scores = [textrank['rouge-2']['p'], lexrank['rouge-2']['p'], lsa['rouge-2']['p'], bart_base['rouge-2']['p'], bart_finetuned['rouge-2']['p'], first_five['rouge-2']['p'], t5_finetuned['rouge-2']['p'], t5_base['rouge-2']['p'], coref_spanBert['rouge-2']['p'], bert_kmeans['rouge-2']['p'], coref_bert['rouge-2']['p'], spanBert_kmeans['rouge-2']['p'], spanBert_t5['rouge-2']['p'], first15_t5['rouge-2']['p']]\n",
        "rouge2_df = pd.DataFrame({'Rouge2-F':rouge2_scores}, index=row_names)\n",
        "\n",
        "rougel_scores = [textrank['rouge-l']['p'], lexrank['rouge-l']['p'], lsa['rouge-l']['p'], bart_base['rouge-l']['p'], bart_finetuned['rouge-l']['p'], first_five['rouge-l']['p'], t5_finetuned['rouge-l']['p'], t5_base['rouge-l']['p'], coref_spanBert['rouge-l']['p'], bert_kmeans['rouge-l']['p'], coref_bert['rouge-l']['p'], spanBert_kmeans['rouge-l']['p'], spanBert_t5['rouge-l']['p'], first15_t5['rouge-l']['p']]\n",
        "rougel_df = pd.DataFrame({'RougeL-F':rougel_scores}, index=row_names)\n",
        "\n",
        "rouge_p_scores = rouge1_df.merge(rouge2_df, left_index=True, right_index = True)\n",
        "rouge_p_scores = rouge_p_scores.merge(rougel_df, left_index=True, right_index = True)\n",
        "rouge_p_scores"
      ],
      "execution_count": null,
      "outputs": [
        {
          "output_type": "execute_result",
          "data": {
            "text/html": [
              "<div>\n",
              "<style scoped>\n",
              "    .dataframe tbody tr th:only-of-type {\n",
              "        vertical-align: middle;\n",
              "    }\n",
              "\n",
              "    .dataframe tbody tr th {\n",
              "        vertical-align: top;\n",
              "    }\n",
              "\n",
              "    .dataframe thead th {\n",
              "        text-align: right;\n",
              "    }\n",
              "</style>\n",
              "<table border=\"1\" class=\"dataframe\">\n",
              "  <thead>\n",
              "    <tr style=\"text-align: right;\">\n",
              "      <th></th>\n",
              "      <th>Rouge1-F</th>\n",
              "      <th>Rouge2-F</th>\n",
              "      <th>RougeL-F</th>\n",
              "    </tr>\n",
              "  </thead>\n",
              "  <tbody>\n",
              "    <tr>\n",
              "      <th>TextRank</th>\n",
              "      <td>0.095777</td>\n",
              "      <td>0.011637</td>\n",
              "      <td>0.091729</td>\n",
              "    </tr>\n",
              "    <tr>\n",
              "      <th>LexRank</th>\n",
              "      <td>0.128981</td>\n",
              "      <td>0.014028</td>\n",
              "      <td>0.117497</td>\n",
              "    </tr>\n",
              "    <tr>\n",
              "      <th>LSA</th>\n",
              "      <td>0.116140</td>\n",
              "      <td>0.009472</td>\n",
              "      <td>0.096376</td>\n",
              "    </tr>\n",
              "    <tr>\n",
              "      <th>BART Base</th>\n",
              "      <td>0.168322</td>\n",
              "      <td>0.030159</td>\n",
              "      <td>0.153403</td>\n",
              "    </tr>\n",
              "    <tr>\n",
              "      <th>Fine-Tuned BART</th>\n",
              "      <td>0.244991</td>\n",
              "      <td>0.060978</td>\n",
              "      <td>0.214995</td>\n",
              "    </tr>\n",
              "    <tr>\n",
              "      <th>First Five Sentences</th>\n",
              "      <td>0.140695</td>\n",
              "      <td>0.028494</td>\n",
              "      <td>0.130149</td>\n",
              "    </tr>\n",
              "    <tr>\n",
              "      <th>Fine-Tuned T5</th>\n",
              "      <td>0.249061</td>\n",
              "      <td>0.062894</td>\n",
              "      <td>0.222959</td>\n",
              "    </tr>\n",
              "    <tr>\n",
              "      <th>T5 Base</th>\n",
              "      <td>0.179698</td>\n",
              "      <td>0.026745</td>\n",
              "      <td>0.155676</td>\n",
              "    </tr>\n",
              "    <tr>\n",
              "      <th>Coref Resolution + SpanBERT + K-Means</th>\n",
              "      <td>0.154910</td>\n",
              "      <td>0.031440</td>\n",
              "      <td>0.133606</td>\n",
              "    </tr>\n",
              "    <tr>\n",
              "      <th>BERT + K-Means</th>\n",
              "      <td>0.122645</td>\n",
              "      <td>0.018572</td>\n",
              "      <td>0.106751</td>\n",
              "    </tr>\n",
              "    <tr>\n",
              "      <th>Coref Resolution + BERT + K-Means</th>\n",
              "      <td>0.145161</td>\n",
              "      <td>0.022887</td>\n",
              "      <td>0.123054</td>\n",
              "    </tr>\n",
              "    <tr>\n",
              "      <th>SpanBERT + K-Means</th>\n",
              "      <td>0.146272</td>\n",
              "      <td>0.025831</td>\n",
              "      <td>0.123676</td>\n",
              "    </tr>\n",
              "    <tr>\n",
              "      <th>SpanBERT + T5</th>\n",
              "      <td>0.218124</td>\n",
              "      <td>0.037156</td>\n",
              "      <td>0.193780</td>\n",
              "    </tr>\n",
              "    <tr>\n",
              "      <th>First 15 + T5</th>\n",
              "      <td>0.235605</td>\n",
              "      <td>0.054620</td>\n",
              "      <td>0.207611</td>\n",
              "    </tr>\n",
              "  </tbody>\n",
              "</table>\n",
              "</div>"
            ],
            "text/plain": [
              "                                       Rouge1-F  Rouge2-F  RougeL-F\n",
              "TextRank                               0.095777  0.011637  0.091729\n",
              "LexRank                                0.128981  0.014028  0.117497\n",
              "LSA                                    0.116140  0.009472  0.096376\n",
              "BART Base                              0.168322  0.030159  0.153403\n",
              "Fine-Tuned BART                        0.244991  0.060978  0.214995\n",
              "First Five Sentences                   0.140695  0.028494  0.130149\n",
              "Fine-Tuned T5                          0.249061  0.062894  0.222959\n",
              "T5 Base                                0.179698  0.026745  0.155676\n",
              "Coref Resolution + SpanBERT + K-Means  0.154910  0.031440  0.133606\n",
              "BERT + K-Means                         0.122645  0.018572  0.106751\n",
              "Coref Resolution + BERT + K-Means      0.145161  0.022887  0.123054\n",
              "SpanBERT + K-Means                     0.146272  0.025831  0.123676\n",
              "SpanBERT + T5                          0.218124  0.037156  0.193780\n",
              "First 15 + T5                          0.235605  0.054620  0.207611"
            ]
          },
          "metadata": {
            "tags": []
          },
          "execution_count": 20
        }
      ]
    },
    {
      "cell_type": "code",
      "metadata": {
        "id": "4kat5RCXy6Yc",
        "colab_type": "code",
        "colab": {
          "base_uri": "https://localhost:8080/",
          "height": 483
        },
        "outputId": "d5530219-ad33-47fd-d328-3e5ac67c50d3"
      },
      "source": [
        "rouge1_scores = [textrank['rouge-1']['r'], lexrank['rouge-1']['r'], lsa['rouge-1']['r'], bart_base['rouge-1']['r'], bart_finetuned['rouge-1']['r'], first_five['rouge-1']['r'], t5_finetuned['rouge-1']['r'], t5_base['rouge-1']['r'], coref_spanBert['rouge-1']['r'], bert_kmeans['rouge-1']['r'], coref_bert['rouge-1']['r'], spanBert_kmeans['rouge-1']['r'], spanBert_t5['rouge-1']['r'], first15_t5['rouge-1']['r']]\n",
        "rouge1_df = pd.DataFrame({'Rouge1-F':rouge1_scores}, index=row_names)\n",
        "\n",
        "rouge2_scores = [textrank['rouge-2']['r'], lexrank['rouge-2']['r'], lsa['rouge-2']['r'], bart_base['rouge-2']['r'], bart_finetuned['rouge-2']['r'], first_five['rouge-2']['r'], t5_finetuned['rouge-2']['r'], t5_base['rouge-2']['r'], coref_spanBert['rouge-2']['r'], bert_kmeans['rouge-2']['r'], coref_bert['rouge-2']['r'], spanBert_kmeans['rouge-2']['r'], spanBert_t5['rouge-2']['r'], first15_t5['rouge-2']['r']]\n",
        "rouge2_df = pd.DataFrame({'Rouge2-F':rouge2_scores}, index=row_names)\n",
        "\n",
        "rougel_scores = [textrank['rouge-l']['r'], lexrank['rouge-l']['r'], lsa['rouge-l']['r'], bart_base['rouge-l']['r'], bart_finetuned['rouge-l']['r'], first_five['rouge-l']['r'], t5_finetuned['rouge-l']['r'], t5_base['rouge-l']['r'], coref_spanBert['rouge-l']['r'], bert_kmeans['rouge-l']['r'], coref_bert['rouge-l']['r'], spanBert_kmeans['rouge-l']['r'], spanBert_t5['rouge-l']['r'], first15_t5['rouge-l']['r']]\n",
        "rougel_df = pd.DataFrame({'RougeL-F':rougel_scores}, index=row_names)\n",
        "\n",
        "rouge_r_scores = rouge1_df.merge(rouge2_df, left_index=True, right_index = True)\n",
        "rouge_r_scores = rouge_r_scores.merge(rougel_df, left_index=True, right_index = True)\n",
        "rouge_r_scores"
      ],
      "execution_count": null,
      "outputs": [
        {
          "output_type": "execute_result",
          "data": {
            "text/html": [
              "<div>\n",
              "<style scoped>\n",
              "    .dataframe tbody tr th:only-of-type {\n",
              "        vertical-align: middle;\n",
              "    }\n",
              "\n",
              "    .dataframe tbody tr th {\n",
              "        vertical-align: top;\n",
              "    }\n",
              "\n",
              "    .dataframe thead th {\n",
              "        text-align: right;\n",
              "    }\n",
              "</style>\n",
              "<table border=\"1\" class=\"dataframe\">\n",
              "  <thead>\n",
              "    <tr style=\"text-align: right;\">\n",
              "      <th></th>\n",
              "      <th>Rouge1-F</th>\n",
              "      <th>Rouge2-F</th>\n",
              "      <th>RougeL-F</th>\n",
              "    </tr>\n",
              "  </thead>\n",
              "  <tbody>\n",
              "    <tr>\n",
              "      <th>TextRank</th>\n",
              "      <td>0.226912</td>\n",
              "      <td>0.029748</td>\n",
              "      <td>0.173667</td>\n",
              "    </tr>\n",
              "    <tr>\n",
              "      <th>LexRank</th>\n",
              "      <td>0.173084</td>\n",
              "      <td>0.023050</td>\n",
              "      <td>0.139604</td>\n",
              "    </tr>\n",
              "    <tr>\n",
              "      <th>LSA</th>\n",
              "      <td>0.207760</td>\n",
              "      <td>0.015353</td>\n",
              "      <td>0.163668</td>\n",
              "    </tr>\n",
              "    <tr>\n",
              "      <th>BART Base</th>\n",
              "      <td>0.209020</td>\n",
              "      <td>0.040502</td>\n",
              "      <td>0.182396</td>\n",
              "    </tr>\n",
              "    <tr>\n",
              "      <th>Fine-Tuned BART</th>\n",
              "      <td>0.168525</td>\n",
              "      <td>0.039769</td>\n",
              "      <td>0.147657</td>\n",
              "    </tr>\n",
              "    <tr>\n",
              "      <th>First Five Sentences</th>\n",
              "      <td>0.200325</td>\n",
              "      <td>0.049853</td>\n",
              "      <td>0.172371</td>\n",
              "    </tr>\n",
              "    <tr>\n",
              "      <th>Fine-Tuned T5</th>\n",
              "      <td>0.188136</td>\n",
              "      <td>0.043149</td>\n",
              "      <td>0.168546</td>\n",
              "    </tr>\n",
              "    <tr>\n",
              "      <th>T5 Base</th>\n",
              "      <td>0.161536</td>\n",
              "      <td>0.028513</td>\n",
              "      <td>0.141191</td>\n",
              "    </tr>\n",
              "    <tr>\n",
              "      <th>Coref Resolution + SpanBERT + K-Means</th>\n",
              "      <td>0.181187</td>\n",
              "      <td>0.032933</td>\n",
              "      <td>0.147303</td>\n",
              "    </tr>\n",
              "    <tr>\n",
              "      <th>BERT + K-Means</th>\n",
              "      <td>0.208740</td>\n",
              "      <td>0.034314</td>\n",
              "      <td>0.165000</td>\n",
              "    </tr>\n",
              "    <tr>\n",
              "      <th>Coref Resolution + BERT + K-Means</th>\n",
              "      <td>0.193020</td>\n",
              "      <td>0.030486</td>\n",
              "      <td>0.153306</td>\n",
              "    </tr>\n",
              "    <tr>\n",
              "      <th>SpanBERT + K-Means</th>\n",
              "      <td>0.198907</td>\n",
              "      <td>0.034245</td>\n",
              "      <td>0.157872</td>\n",
              "    </tr>\n",
              "    <tr>\n",
              "      <th>SpanBERT + T5</th>\n",
              "      <td>0.170117</td>\n",
              "      <td>0.032311</td>\n",
              "      <td>0.150193</td>\n",
              "    </tr>\n",
              "    <tr>\n",
              "      <th>First 15 + T5</th>\n",
              "      <td>0.181684</td>\n",
              "      <td>0.048901</td>\n",
              "      <td>0.165861</td>\n",
              "    </tr>\n",
              "  </tbody>\n",
              "</table>\n",
              "</div>"
            ],
            "text/plain": [
              "                                       Rouge1-F  Rouge2-F  RougeL-F\n",
              "TextRank                               0.226912  0.029748  0.173667\n",
              "LexRank                                0.173084  0.023050  0.139604\n",
              "LSA                                    0.207760  0.015353  0.163668\n",
              "BART Base                              0.209020  0.040502  0.182396\n",
              "Fine-Tuned BART                        0.168525  0.039769  0.147657\n",
              "First Five Sentences                   0.200325  0.049853  0.172371\n",
              "Fine-Tuned T5                          0.188136  0.043149  0.168546\n",
              "T5 Base                                0.161536  0.028513  0.141191\n",
              "Coref Resolution + SpanBERT + K-Means  0.181187  0.032933  0.147303\n",
              "BERT + K-Means                         0.208740  0.034314  0.165000\n",
              "Coref Resolution + BERT + K-Means      0.193020  0.030486  0.153306\n",
              "SpanBERT + K-Means                     0.198907  0.034245  0.157872\n",
              "SpanBERT + T5                          0.170117  0.032311  0.150193\n",
              "First 15 + T5                          0.181684  0.048901  0.165861"
            ]
          },
          "metadata": {
            "tags": []
          },
          "execution_count": 21
        }
      ]
    }
  ]
}