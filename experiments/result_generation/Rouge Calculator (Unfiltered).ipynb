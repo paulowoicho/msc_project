{
  "nbformat": 4,
  "nbformat_minor": 0,
  "metadata": {
    "colab": {
      "name": "Rouge Calculator (Unfiltered)",
      "provenance": [],
      "toc_visible": true
    },
    "kernelspec": {
      "name": "python3",
      "display_name": "Python 3"
    }
  },
  "cells": [
    {
      "cell_type": "markdown",
      "metadata": {
        "id": "V9quchrzkIM-",
        "colab_type": "text"
      },
      "source": [
        "#Setup"
      ]
    },
    {
      "cell_type": "code",
      "metadata": {
        "id": "I5BakrAqkgF0",
        "colab_type": "code",
        "colab": {
          "base_uri": "https://localhost:8080/",
          "height": 51
        },
        "outputId": "cbe8a210-5b9c-4794-a85c-212171232e0a"
      },
      "source": [
        "!pip install rouge"
      ],
      "execution_count": null,
      "outputs": [
        {
          "output_type": "stream",
          "text": [
            "Requirement already satisfied: rouge in /usr/local/lib/python3.6/dist-packages (1.0.0)\n",
            "Requirement already satisfied: six in /usr/local/lib/python3.6/dist-packages (from rouge) (1.15.0)\n"
          ],
          "name": "stdout"
        }
      ]
    },
    {
      "cell_type": "code",
      "metadata": {
        "id": "NupzlHcvkDd-",
        "colab_type": "code",
        "colab": {
          "base_uri": "https://localhost:8080/",
          "height": 102
        },
        "outputId": "30b4b33d-579f-454d-be95-1b173563148e"
      },
      "source": [
        "from google.colab import auth\n",
        "auth.authenticate_user()\n",
        "\n",
        "project_id = 'test-281700'\n",
        "!gcloud config set project {project_id}\n",
        "!gsutil ls\n",
        "\n",
        "\n",
        "bucket_name = 'spotify_asr_dataset'\n",
        "#download dataset\n",
        "!gsutil -m cp -r gs://{bucket_name}/150_gold.csv /content/"
      ],
      "execution_count": null,
      "outputs": [
        {
          "output_type": "stream",
          "text": [
            "Updated property [core/project].\n",
            "gs://spotify_asr_dataset/\n",
            "Copying gs://spotify_asr_dataset/150_gold.csv...\n",
            "- [1/1 files][  4.3 MiB/  4.3 MiB] 100% Done                                    \n",
            "Operation completed over 1 objects/4.3 MiB.                                      \n"
          ],
          "name": "stdout"
        }
      ]
    },
    {
      "cell_type": "code",
      "metadata": {
        "id": "J2jpUSOSlNZS",
        "colab_type": "code",
        "colab": {}
      },
      "source": [
        "import pandas as pd\n",
        "results = pd.read_csv('150_gold.csv')"
      ],
      "execution_count": null,
      "outputs": []
    },
    {
      "cell_type": "code",
      "metadata": {
        "id": "m42iLka-lWt8",
        "colab_type": "code",
        "colab": {
          "base_uri": "https://localhost:8080/",
          "height": 185
        },
        "outputId": "06072d9b-9117-48b1-9a24-d069d2d3ae27"
      },
      "source": [
        "results.head(1)"
      ],
      "execution_count": null,
      "outputs": [
        {
          "output_type": "execute_result",
          "data": {
            "text/html": [
              "<div>\n",
              "<style scoped>\n",
              "    .dataframe tbody tr th:only-of-type {\n",
              "        vertical-align: middle;\n",
              "    }\n",
              "\n",
              "    .dataframe tbody tr th {\n",
              "        vertical-align: top;\n",
              "    }\n",
              "\n",
              "    .dataframe thead th {\n",
              "        text-align: right;\n",
              "    }\n",
              "</style>\n",
              "<table border=\"1\" class=\"dataframe\">\n",
              "  <thead>\n",
              "    <tr style=\"text-align: right;\">\n",
              "      <th></th>\n",
              "      <th>episode_id</th>\n",
              "      <th>episode_name</th>\n",
              "      <th>episode_description</th>\n",
              "      <th>transcript</th>\n",
              "      <th>textrank_summary</th>\n",
              "      <th>lexrank_summary</th>\n",
              "      <th>lsa_summary</th>\n",
              "      <th>semi_supervised</th>\n",
              "      <th>supervised</th>\n",
              "      <th>extractive</th>\n",
              "      <th>t5_abstractive</th>\n",
              "      <th>first_five</th>\n",
              "    </tr>\n",
              "  </thead>\n",
              "  <tbody>\n",
              "    <tr>\n",
              "      <th>0</th>\n",
              "      <td>spotify:episode:08hXUWN6aOnHULXrqMiwTi</td>\n",
              "      <td>Recruiting Secrets From a MLM Recruiting Monst...</td>\n",
              "      <td>If you want to start mastering recruiting whic...</td>\n",
              "      <td>Hello everybody. What's going on in this Jess...</td>\n",
              "      <td>Let's download these stories about whoever I d...</td>\n",
              "      <td>You can do whatever networking events and I'm ...</td>\n",
              "      <td>We're going to talk about some powerful recrui...</td>\n",
              "      <td>You cannot scummy hashtag wisely, or the peop...</td>\n",
              "      <td>In this episode I talk about some powerful re...</td>\n",
              "      <td>You cannot scummy hashtag wisely, or the peopl...</td>\n",
              "      <td>--- This episode is sponsored by  Anchor: The ...</td>\n",
              "      <td>Hello everybody. What's going on in this Jess...</td>\n",
              "    </tr>\n",
              "  </tbody>\n",
              "</table>\n",
              "</div>"
            ],
            "text/plain": [
              "                               episode_id  ...                                         first_five\n",
              "0  spotify:episode:08hXUWN6aOnHULXrqMiwTi  ...   Hello everybody. What's going on in this Jess...\n",
              "\n",
              "[1 rows x 12 columns]"
            ]
          },
          "metadata": {
            "tags": []
          },
          "execution_count": 64
        }
      ]
    },
    {
      "cell_type": "code",
      "metadata": {
        "id": "6ZQY64j-yfZC",
        "colab_type": "code",
        "colab": {
          "base_uri": "https://localhost:8080/",
          "height": 51
        },
        "outputId": "ee68a766-ed40-42eb-eec5-5b23e93ad438"
      },
      "source": [
        "import nltk\n",
        "nltk.download('punkt')\n",
        "from nltk.tokenize import sent_tokenize\n",
        "\n",
        "import string\n",
        "\n",
        "def clean_up(text):\n",
        "  head, _ , _ = text.partition(' ---')\n",
        "  first_letter = head[0].capitalize()\n",
        "  head = first_letter + head[1:]\n",
        "  head = head.strip()\n",
        "  if head[-1] in string.punctuation:\n",
        "    pass\n",
        "  else:\n",
        "    head += '.'\n",
        "  return head\n",
        "\n",
        "def clean_up(text):\n",
        "    text = text.strip()\n",
        "    return text\n",
        "\n",
        "results['supervised'] = results.apply(lambda row: clean_up(row['supervised']), axis=1)"
      ],
      "execution_count": null,
      "outputs": [
        {
          "output_type": "stream",
          "text": [
            "[nltk_data] Downloading package punkt to /root/nltk_data...\n",
            "[nltk_data]   Package punkt is already up-to-date!\n"
          ],
          "name": "stdout"
        }
      ]
    },
    {
      "cell_type": "markdown",
      "metadata": {
        "id": "axaLx1kIkzbj",
        "colab_type": "text"
      },
      "source": [
        "#Calculations"
      ]
    },
    {
      "cell_type": "code",
      "metadata": {
        "id": "JekxwYAS8KBl",
        "colab_type": "code",
        "colab": {
          "base_uri": "https://localhost:8080/",
          "height": 122
        },
        "outputId": "fcdc7cd9-03c0-4f0c-c9f3-08efa07acd6a"
      },
      "source": [
        "!pip install rouge"
      ],
      "execution_count": null,
      "outputs": [
        {
          "output_type": "stream",
          "text": [
            "Collecting rouge\n",
            "  Downloading https://files.pythonhosted.org/packages/43/cc/e18e33be20971ff73a056ebdb023476b5a545e744e3fc22acd8c758f1e0d/rouge-1.0.0-py3-none-any.whl\n",
            "Requirement already satisfied: six in /usr/local/lib/python3.6/dist-packages (from rouge) (1.15.0)\n",
            "Installing collected packages: rouge\n",
            "Successfully installed rouge-1.0.0\n"
          ],
          "name": "stdout"
        }
      ]
    },
    {
      "cell_type": "code",
      "metadata": {
        "id": "yTl_nKB47QRQ",
        "colab_type": "code",
        "colab": {
          "base_uri": "https://localhost:8080/",
          "height": 185
        },
        "outputId": "9a8fc697-08f6-41b9-c112-97b69b4579dd"
      },
      "source": [
        "import pandas as pd\n",
        "results = pd.read_csv('150_gold_t5.csv')\n",
        "\n",
        "results.head(1)"
      ],
      "execution_count": null,
      "outputs": [
        {
          "output_type": "execute_result",
          "data": {
            "text/html": [
              "<div>\n",
              "<style scoped>\n",
              "    .dataframe tbody tr th:only-of-type {\n",
              "        vertical-align: middle;\n",
              "    }\n",
              "\n",
              "    .dataframe tbody tr th {\n",
              "        vertical-align: top;\n",
              "    }\n",
              "\n",
              "    .dataframe thead th {\n",
              "        text-align: right;\n",
              "    }\n",
              "</style>\n",
              "<table border=\"1\" class=\"dataframe\">\n",
              "  <thead>\n",
              "    <tr style=\"text-align: right;\">\n",
              "      <th></th>\n",
              "      <th>episode_id</th>\n",
              "      <th>episode_name</th>\n",
              "      <th>episode_description</th>\n",
              "      <th>transcript</th>\n",
              "      <th>textrank_summary</th>\n",
              "      <th>lexrank_summary</th>\n",
              "      <th>lsa_summary</th>\n",
              "      <th>semi_supervised</th>\n",
              "      <th>supervised</th>\n",
              "      <th>extractive</th>\n",
              "      <th>t5_abstractive</th>\n",
              "      <th>first_five</th>\n",
              "    </tr>\n",
              "  </thead>\n",
              "  <tbody>\n",
              "    <tr>\n",
              "      <th>0</th>\n",
              "      <td>spotify:episode:08hXUWN6aOnHULXrqMiwTi</td>\n",
              "      <td>Recruiting Secrets From a MLM Recruiting Monst...</td>\n",
              "      <td>If you want to start mastering recruiting whic...</td>\n",
              "      <td>Hello everybody. What's going on in this Jess...</td>\n",
              "      <td>Let's download these stories about whoever I d...</td>\n",
              "      <td>You can do whatever networking events and I'm ...</td>\n",
              "      <td>We're going to talk about some powerful recrui...</td>\n",
              "      <td>You cannot scummy hashtag wisely, or the peop...</td>\n",
              "      <td>In this episode I talk about some powerful re...</td>\n",
              "      <td>You cannot scummy hashtag wisely, or the peopl...</td>\n",
              "      <td>This is a great episode to start your network ...</td>\n",
              "      <td>Hello everybody. What's going on in this Jess...</td>\n",
              "    </tr>\n",
              "  </tbody>\n",
              "</table>\n",
              "</div>"
            ],
            "text/plain": [
              "                               episode_id  ...                                         first_five\n",
              "0  spotify:episode:08hXUWN6aOnHULXrqMiwTi  ...   Hello everybody. What's going on in this Jess...\n",
              "\n",
              "[1 rows x 12 columns]"
            ]
          },
          "metadata": {
            "tags": []
          },
          "execution_count": 15
        }
      ]
    },
    {
      "cell_type": "code",
      "metadata": {
        "id": "aU0mUGAt71hc",
        "colab_type": "code",
        "colab": {
          "base_uri": "https://localhost:8080/",
          "height": 35
        },
        "outputId": "c1168fa0-cc8a-46e1-a7d2-6687187ed6ad"
      },
      "source": [
        "results.iloc[120]['t5_abstractive']"
      ],
      "execution_count": null,
      "outputs": [
        {
          "output_type": "execute_result",
          "data": {
            "application/vnd.google.colaboratory.intrinsic+json": {
              "type": "string"
            },
            "text/plain": [
              "\"Today's episode is about incomprehensible, manipulate, maximum, and mimic!\""
            ]
          },
          "metadata": {
            "tags": []
          },
          "execution_count": 16
        }
      ]
    },
    {
      "cell_type": "code",
      "metadata": {
        "id": "crFM4MVYk8tJ",
        "colab_type": "code",
        "colab": {}
      },
      "source": [
        "from rouge import Rouge\n",
        "rouge = Rouge()\n",
        "\n",
        "textrank = rouge.get_scores(results['textrank_summary'], results['episode_description'],  avg=True)\n",
        "lexrank = rouge.get_scores(results['lexrank_summary'], results['episode_description'], avg=True)\n",
        "lsa = rouge.get_scores(results['lsa_summary'], results['episode_description'], avg=True)\n",
        "semi_supervised = rouge.get_scores(results['semi_supervised'], results['episode_description'], avg=True)\n",
        "supervised = rouge.get_scores(results['supervised'], results['episode_description'], avg=True)\n",
        "extractive = rouge.get_scores(results['extractive'], results['episode_description'], avg=True)\n",
        "t5_base = rouge.get_scores(results['t5_abstractive'], results['episode_description'], avg=True)\n",
        "first_five = rouge.get_scores(results['first_five'], results['episode_description'], avg=True)"
      ],
      "execution_count": null,
      "outputs": []
    },
    {
      "cell_type": "code",
      "metadata": {
        "id": "d1OSGyTY8gTg",
        "colab_type": "code",
        "colab": {
          "base_uri": "https://localhost:8080/",
          "height": 170
        },
        "outputId": "6e855c1f-1935-480c-8ff0-eef95fc3a74f"
      },
      "source": [
        "t5_base"
      ],
      "execution_count": null,
      "outputs": [
        {
          "output_type": "execute_result",
          "data": {
            "text/plain": [
              "{'rouge-1': {'f': 0.17292386096774967,\n",
              "  'p': 0.2490612809590633,\n",
              "  'r': 0.18813563727903},\n",
              " 'rouge-2': {'f': 0.041895338400657844,\n",
              "  'p': 0.06289440007243124,\n",
              "  'r': 0.043148516132091544},\n",
              " 'rouge-l': {'f': 0.15961037918125817,\n",
              "  'p': 0.22295885125005144,\n",
              "  'r': 0.16854640919218764}}"
            ]
          },
          "metadata": {
            "tags": []
          },
          "execution_count": 18
        }
      ]
    },
    {
      "cell_type": "code",
      "metadata": {
        "id": "Xf11ckNslK3h",
        "colab_type": "code",
        "colab": {}
      },
      "source": [
        "row_names = ['textrank', 'lexrank', 'lsa', 'semi_supervised', 'supervised', 'first_five']\n",
        "\n",
        "rouge1_scores = [textrank['rouge-1']['f'], lexrank['rouge-1']['f'], lsa['rouge-1']['f'], semi_supervised['rouge-1']['f'], supervised['rouge-1']['f'], first_five['rouge-1']['f']]\n",
        "rouge1_df = pd.DataFrame({'Rouge1-F':rouge1_scores}, index=row_names)\n",
        "\n",
        "\n",
        "rouge2_scores = [textrank['rouge-2']['f'], lexrank['rouge-2']['f'], lsa['rouge-2']['f'], semi_supervised['rouge-2']['f'], supervised['rouge-2']['f'], first_five['rouge-2']['f']]\n",
        "rouge2_df = pd.DataFrame({'Rouge2-F':rouge2_scores}, index=row_names)\n",
        "\n",
        "rougel_scores = [textrank['rouge-l']['f'], lexrank['rouge-l']['f'], lsa['rouge-l']['f'], semi_supervised['rouge-l']['f'], supervised['rouge-l']['f'], first_five['rouge-l']['f']]\n",
        "rougel_df = pd.DataFrame({'RougeL-F':rougel_scores}, index=row_names)\n",
        "\n",
        "rougef_scores = rouge1_df.merge(rouge2_df, left_index=True, right_index = True)\n",
        "rougef_scores = rougef_scores.merge(rougel_df, left_index=True, right_index = True)"
      ],
      "execution_count": null,
      "outputs": []
    },
    {
      "cell_type": "code",
      "metadata": {
        "id": "z-O_304WoI5r",
        "colab_type": "code",
        "colab": {
          "base_uri": "https://localhost:8080/",
          "height": 235
        },
        "outputId": "7b4e1a6c-ca71-4670-b9e6-5499409fbbe0"
      },
      "source": [
        "rougef_scores"
      ],
      "execution_count": null,
      "outputs": [
        {
          "output_type": "execute_result",
          "data": {
            "text/html": [
              "<div>\n",
              "<style scoped>\n",
              "    .dataframe tbody tr th:only-of-type {\n",
              "        vertical-align: middle;\n",
              "    }\n",
              "\n",
              "    .dataframe tbody tr th {\n",
              "        vertical-align: top;\n",
              "    }\n",
              "\n",
              "    .dataframe thead th {\n",
              "        text-align: right;\n",
              "    }\n",
              "</style>\n",
              "<table border=\"1\" class=\"dataframe\">\n",
              "  <thead>\n",
              "    <tr style=\"text-align: right;\">\n",
              "      <th></th>\n",
              "      <th>Rouge1-F</th>\n",
              "      <th>Rouge2-F</th>\n",
              "      <th>RougeL-F</th>\n",
              "    </tr>\n",
              "  </thead>\n",
              "  <tbody>\n",
              "    <tr>\n",
              "      <th>textrank</th>\n",
              "      <td>0.116462</td>\n",
              "      <td>0.014054</td>\n",
              "      <td>0.104729</td>\n",
              "    </tr>\n",
              "    <tr>\n",
              "      <th>lexrank</th>\n",
              "      <td>0.119708</td>\n",
              "      <td>0.014022</td>\n",
              "      <td>0.106071</td>\n",
              "    </tr>\n",
              "    <tr>\n",
              "      <th>lsa</th>\n",
              "      <td>0.132847</td>\n",
              "      <td>0.010752</td>\n",
              "      <td>0.109076</td>\n",
              "    </tr>\n",
              "    <tr>\n",
              "      <th>semi_supervised</th>\n",
              "      <td>0.161447</td>\n",
              "      <td>0.029776</td>\n",
              "      <td>0.146231</td>\n",
              "    </tr>\n",
              "    <tr>\n",
              "      <th>supervised</th>\n",
              "      <td>0.221370</td>\n",
              "      <td>0.091048</td>\n",
              "      <td>0.212532</td>\n",
              "    </tr>\n",
              "    <tr>\n",
              "      <th>first_five</th>\n",
              "      <td>0.138515</td>\n",
              "      <td>0.029270</td>\n",
              "      <td>0.126388</td>\n",
              "    </tr>\n",
              "  </tbody>\n",
              "</table>\n",
              "</div>"
            ],
            "text/plain": [
              "                 Rouge1-F  Rouge2-F  RougeL-F\n",
              "textrank         0.116462  0.014054  0.104729\n",
              "lexrank          0.119708  0.014022  0.106071\n",
              "lsa              0.132847  0.010752  0.109076\n",
              "semi_supervised  0.161447  0.029776  0.146231\n",
              "supervised       0.221370  0.091048  0.212532\n",
              "first_five       0.138515  0.029270  0.126388"
            ]
          },
          "metadata": {
            "tags": []
          },
          "execution_count": 67
        }
      ]
    },
    {
      "cell_type": "code",
      "metadata": {
        "id": "YfavyuE2omkO",
        "colab_type": "code",
        "colab": {}
      },
      "source": [
        "row_names = ['textrank', 'lexrank', 'lsa', 'semi_supervised', 'supervised', 'first_five']\n",
        "\n",
        "rouge1_scores = [textrank['rouge-1']['p'], lexrank['rouge-1']['p'], lsa['rouge-1']['p'], semi_supervised['rouge-1']['p'], supervised['rouge-1']['p'], first_five['rouge-1']['p']]\n",
        "rouge1_df = pd.DataFrame({'Rouge1-P':rouge1_scores}, index=row_names)\n",
        "\n",
        "rouge2_scores = [textrank['rouge-2']['p'], lexrank['rouge-2']['p'], lsa['rouge-2']['p'], semi_supervised['rouge-2']['p'], supervised['rouge-2']['p'], first_five['rouge-2']['p']]\n",
        "rouge2_df = pd.DataFrame({'Rouge2-P':rouge2_scores}, index=row_names)\n",
        "\n",
        "rougel_scores = [textrank['rouge-l']['p'], lexrank['rouge-l']['p'], lsa['rouge-l']['p'], semi_supervised['rouge-l']['p'], supervised['rouge-l']['p'], first_five['rouge-l']['p']]\n",
        "rougel_df = pd.DataFrame({'RougeL-P':rougel_scores}, index=row_names)\n",
        "\n",
        "rougep_scores = rouge1_df.merge(rouge2_df, left_index=True, right_index = True)\n",
        "rougep_scores = rougep_scores.merge(rougel_df, left_index=True, right_index = True)"
      ],
      "execution_count": null,
      "outputs": []
    },
    {
      "cell_type": "code",
      "metadata": {
        "id": "K1xUk7HgpItB",
        "colab_type": "code",
        "colab": {
          "base_uri": "https://localhost:8080/",
          "height": 235
        },
        "outputId": "e074364a-4b4e-4f5f-be9b-c82b3b373f8d"
      },
      "source": [
        "rougep_scores"
      ],
      "execution_count": null,
      "outputs": [
        {
          "output_type": "execute_result",
          "data": {
            "text/html": [
              "<div>\n",
              "<style scoped>\n",
              "    .dataframe tbody tr th:only-of-type {\n",
              "        vertical-align: middle;\n",
              "    }\n",
              "\n",
              "    .dataframe tbody tr th {\n",
              "        vertical-align: top;\n",
              "    }\n",
              "\n",
              "    .dataframe thead th {\n",
              "        text-align: right;\n",
              "    }\n",
              "</style>\n",
              "<table border=\"1\" class=\"dataframe\">\n",
              "  <thead>\n",
              "    <tr style=\"text-align: right;\">\n",
              "      <th></th>\n",
              "      <th>Rouge1-P</th>\n",
              "      <th>Rouge2-P</th>\n",
              "      <th>RougeL-P</th>\n",
              "    </tr>\n",
              "  </thead>\n",
              "  <tbody>\n",
              "    <tr>\n",
              "      <th>textrank</th>\n",
              "      <td>0.095777</td>\n",
              "      <td>0.011637</td>\n",
              "      <td>0.091729</td>\n",
              "    </tr>\n",
              "    <tr>\n",
              "      <th>lexrank</th>\n",
              "      <td>0.128981</td>\n",
              "      <td>0.014028</td>\n",
              "      <td>0.117497</td>\n",
              "    </tr>\n",
              "    <tr>\n",
              "      <th>lsa</th>\n",
              "      <td>0.116140</td>\n",
              "      <td>0.009472</td>\n",
              "      <td>0.096376</td>\n",
              "    </tr>\n",
              "    <tr>\n",
              "      <th>semi_supervised</th>\n",
              "      <td>0.168322</td>\n",
              "      <td>0.030159</td>\n",
              "      <td>0.153403</td>\n",
              "    </tr>\n",
              "    <tr>\n",
              "      <th>supervised</th>\n",
              "      <td>0.277996</td>\n",
              "      <td>0.117188</td>\n",
              "      <td>0.261778</td>\n",
              "    </tr>\n",
              "    <tr>\n",
              "      <th>first_five</th>\n",
              "      <td>0.140695</td>\n",
              "      <td>0.028494</td>\n",
              "      <td>0.130149</td>\n",
              "    </tr>\n",
              "  </tbody>\n",
              "</table>\n",
              "</div>"
            ],
            "text/plain": [
              "                 Rouge1-P  Rouge2-P  RougeL-P\n",
              "textrank         0.095777  0.011637  0.091729\n",
              "lexrank          0.128981  0.014028  0.117497\n",
              "lsa              0.116140  0.009472  0.096376\n",
              "semi_supervised  0.168322  0.030159  0.153403\n",
              "supervised       0.277996  0.117188  0.261778\n",
              "first_five       0.140695  0.028494  0.130149"
            ]
          },
          "metadata": {
            "tags": []
          },
          "execution_count": 69
        }
      ]
    },
    {
      "cell_type": "code",
      "metadata": {
        "id": "sfQkMt_spOcX",
        "colab_type": "code",
        "colab": {}
      },
      "source": [
        "row_names = ['textrank', 'lexrank', 'lsa', 'semi_supervised', 'supervised', 'first_five']\n",
        "\n",
        "rouge1_scores = [textrank['rouge-1']['r'], lexrank['rouge-1']['r'], lsa['rouge-1']['r'], semi_supervised['rouge-1']['r'], supervised['rouge-1']['r'], first_five['rouge-1']['r']]\n",
        "rouge1_df = pd.DataFrame({'Rouge1-R':rouge1_scores}, index=row_names)\n",
        "\n",
        "rouge2_scores = [textrank['rouge-2']['r'], lexrank['rouge-2']['r'], lsa['rouge-2']['r'], semi_supervised['rouge-2']['r'], supervised['rouge-2']['r'], first_five['rouge-2']['r']]\n",
        "rouge2_df = pd.DataFrame({'Rouge2-R':rouge2_scores}, index=row_names)\n",
        "\n",
        "rougel_scores = [textrank['rouge-l']['r'], lexrank['rouge-l']['r'], lsa['rouge-l']['r'], semi_supervised['rouge-l']['r'], supervised['rouge-l']['r'], first_five['rouge-l']['r']]\n",
        "rougel_df = pd.DataFrame({'RougeL-R':rougel_scores}, index=row_names)\n",
        "\n",
        "rouger_scores = rouge1_df.merge(rouge2_df, left_index=True, right_index = True)\n",
        "rouger_scores = rouger_scores.merge(rougel_df, left_index=True, right_index = True)"
      ],
      "execution_count": null,
      "outputs": []
    },
    {
      "cell_type": "code",
      "metadata": {
        "id": "PnZESWzQpsaB",
        "colab_type": "code",
        "colab": {
          "base_uri": "https://localhost:8080/",
          "height": 235
        },
        "outputId": "974c070c-6f3b-41af-8371-d4d5c947cde4"
      },
      "source": [
        "rouger_scores"
      ],
      "execution_count": null,
      "outputs": [
        {
          "output_type": "execute_result",
          "data": {
            "text/html": [
              "<div>\n",
              "<style scoped>\n",
              "    .dataframe tbody tr th:only-of-type {\n",
              "        vertical-align: middle;\n",
              "    }\n",
              "\n",
              "    .dataframe tbody tr th {\n",
              "        vertical-align: top;\n",
              "    }\n",
              "\n",
              "    .dataframe thead th {\n",
              "        text-align: right;\n",
              "    }\n",
              "</style>\n",
              "<table border=\"1\" class=\"dataframe\">\n",
              "  <thead>\n",
              "    <tr style=\"text-align: right;\">\n",
              "      <th></th>\n",
              "      <th>Rouge1-R</th>\n",
              "      <th>Rouge2-R</th>\n",
              "      <th>RougeL-R</th>\n",
              "    </tr>\n",
              "  </thead>\n",
              "  <tbody>\n",
              "    <tr>\n",
              "      <th>textrank</th>\n",
              "      <td>0.226912</td>\n",
              "      <td>0.029748</td>\n",
              "      <td>0.173667</td>\n",
              "    </tr>\n",
              "    <tr>\n",
              "      <th>lexrank</th>\n",
              "      <td>0.173084</td>\n",
              "      <td>0.023050</td>\n",
              "      <td>0.139604</td>\n",
              "    </tr>\n",
              "    <tr>\n",
              "      <th>lsa</th>\n",
              "      <td>0.207760</td>\n",
              "      <td>0.015353</td>\n",
              "      <td>0.163668</td>\n",
              "    </tr>\n",
              "    <tr>\n",
              "      <th>semi_supervised</th>\n",
              "      <td>0.209020</td>\n",
              "      <td>0.040502</td>\n",
              "      <td>0.182396</td>\n",
              "    </tr>\n",
              "    <tr>\n",
              "      <th>supervised</th>\n",
              "      <td>0.239431</td>\n",
              "      <td>0.089803</td>\n",
              "      <td>0.223776</td>\n",
              "    </tr>\n",
              "    <tr>\n",
              "      <th>first_five</th>\n",
              "      <td>0.200325</td>\n",
              "      <td>0.049853</td>\n",
              "      <td>0.172371</td>\n",
              "    </tr>\n",
              "  </tbody>\n",
              "</table>\n",
              "</div>"
            ],
            "text/plain": [
              "                 Rouge1-R  Rouge2-R  RougeL-R\n",
              "textrank         0.226912  0.029748  0.173667\n",
              "lexrank          0.173084  0.023050  0.139604\n",
              "lsa              0.207760  0.015353  0.163668\n",
              "semi_supervised  0.209020  0.040502  0.182396\n",
              "supervised       0.239431  0.089803  0.223776\n",
              "first_five       0.200325  0.049853  0.172371"
            ]
          },
          "metadata": {
            "tags": []
          },
          "execution_count": 71
        }
      ]
    },
    {
      "cell_type": "code",
      "metadata": {
        "id": "mY75S-43vob1",
        "colab_type": "code",
        "colab": {
          "base_uri": "https://localhost:8080/",
          "height": 52
        },
        "outputId": "37874f29-85f7-4f46-ae52-89a2f491fa22"
      },
      "source": [
        "results.iloc[10]['supervised']"
      ],
      "execution_count": null,
      "outputs": [
        {
          "output_type": "execute_result",
          "data": {
            "application/vnd.google.colaboratory.intrinsic+json": {
              "type": "string"
            },
            "text/plain": [
              "' In this week’s episode of College Football News Podcast, Nick and Jeff talk about Alabama, Clemson, Georgia Tech, and more!  ---   This episode is sponsored by  · Anchor: The easiest way to make a podcast.  https://anchor.fm/app '"
            ]
          },
          "metadata": {
            "tags": []
          },
          "execution_count": 77
        }
      ]
    },
    {
      "cell_type": "code",
      "metadata": {
        "id": "UxlcAaoj9Xf2",
        "colab_type": "code",
        "colab": {
          "base_uri": "https://localhost:8080/",
          "height": 69
        },
        "outputId": "a3e9f04d-c26d-40a7-9945-e8d508626b9a"
      },
      "source": [
        "results.iloc[120]['semi_supervised']"
      ],
      "execution_count": null,
      "outputs": [
        {
          "output_type": "execute_result",
          "data": {
            "application/vnd.google.colaboratory.intrinsic+json": {
              "type": "string"
            },
            "text/plain": [
              "' Four new words are words for today in vocabulary builder from perfect English with Danny learn new words every day . Are incomprehensible manipulate maximum and mimic? Mimic mimic is expelled mi mi mi see . For these 20 words, we will have finished by the end of this week .'"
            ]
          },
          "metadata": {
            "tags": []
          },
          "execution_count": 73
        }
      ]
    },
    {
      "cell_type": "code",
      "metadata": {
        "id": "lU70ifX5J5yj",
        "colab_type": "code",
        "colab": {
          "base_uri": "https://localhost:8080/",
          "height": 86
        },
        "outputId": "587b92b9-10b5-4869-87c3-278c42d0ad72"
      },
      "source": [
        "results.iloc[120]['episode_description']"
      ],
      "execution_count": null,
      "outputs": [
        {
          "output_type": "execute_result",
          "data": {
            "application/vnd.google.colaboratory.intrinsic+json": {
              "type": "string"
            },
            "text/plain": [
              "'In this episode, it will all be about vocabulary builder. You will learn a few words with sample sentences to make it easier for you to remember and use later on. Learn more on my website https://www.dannyballan.comCheck out my online courses on Udemy on https://www.udemy.com/user/danny-ballan-2/  ---   Send in a voice message: https://anchor.fm/english-plus/message'"
            ]
          },
          "metadata": {
            "tags": []
          },
          "execution_count": 78
        }
      ]
    },
    {
      "cell_type": "code",
      "metadata": {
        "id": "PhfeWK2OLtGt",
        "colab_type": "code",
        "colab": {
          "base_uri": "https://localhost:8080/",
          "height": 35
        },
        "outputId": "d8afc7bc-6b04-47f4-d5af-04f496d5a2a3"
      },
      "source": [
        "results.iloc[120]['episode_id']"
      ],
      "execution_count": null,
      "outputs": [
        {
          "output_type": "execute_result",
          "data": {
            "application/vnd.google.colaboratory.intrinsic+json": {
              "type": "string"
            },
            "text/plain": [
              "'spotify:episode:6KRiNOb3O1g65bFrlnl7PF'"
            ]
          },
          "metadata": {
            "tags": []
          },
          "execution_count": 79
        }
      ]
    },
    {
      "cell_type": "code",
      "metadata": {
        "id": "frCFI791SAkA",
        "colab_type": "code",
        "colab": {}
      },
      "source": [
        ""
      ],
      "execution_count": null,
      "outputs": []
    }
  ]
}