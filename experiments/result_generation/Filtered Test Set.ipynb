{
 "cells": [
  {
   "cell_type": "code",
   "execution_count": 2,
   "metadata": {},
   "outputs": [
    {
     "name": "stdout",
     "output_type": "stream",
     "text": [
      "Updated property [core/project].\n",
      "gs://spotify_asr_dataset/\n"
     ]
    }
   ],
   "source": [
    "project_id = 'test-281700'\n",
    "!gcloud config set project {project_id}\n",
    "!gsutil ls"
   ]
  },
  {
   "cell_type": "code",
   "execution_count": 3,
   "metadata": {},
   "outputs": [],
   "source": [
    "bucket_name = 'spotify_asr_dataset'\n",
    "# !gsutil -m cp -r gs://{bucket_name}/train_data_with_precision-5.csv /home/jupyter\n",
    "# !gsutil -m cp -r gs://{bucket_name}/train_data_with_precision-6.csv /home/jupyter\n",
    "# !gsutil -m cp -r gs://{bucket_name}/train_data_with_scores-2.csv /home/jupyter\n",
    "# !gsutil -m cp -r gs://{bucket_name}/train_data_with_scores-3.csv /home/jupyter\n",
    "# !gsutil -m cp -r gs://{bucket_name}/train_data_with_scores-4.csv /home/jupyter"
   ]
  },
  {
   "cell_type": "code",
   "execution_count": 4,
   "metadata": {},
   "outputs": [
    {
     "name": "stdout",
     "output_type": "stream",
     "text": [
      "Copying gs://spotify_asr_dataset/train_data_with_scores-7.csv...\n",
      "==> NOTE: You are downloading one or more large file(s), which would            \n",
      "run significantly faster if you enabled sliced object downloads. This\n",
      "feature is enabled by default but requires that compiled crcmod be\n",
      "installed (see \"gsutil help crcmod\").\n",
      "\n",
      "| [1/1 files][296.5 MiB/296.5 MiB] 100% Done                                    \n",
      "Operation completed over 1 objects/296.5 MiB.                                    \n"
     ]
    }
   ],
   "source": [
    "!gsutil -m cp -r gs://{bucket_name}/train_data_with_scores-7.csv /home/jupyter"
   ]
  },
  {
   "cell_type": "code",
   "execution_count": 64,
   "metadata": {},
   "outputs": [
    {
     "name": "stdout",
     "output_type": "stream",
     "text": [
      "Copying gs://spotify_asr_dataset/train_data_with_scores-1.csv...\n",
      "==> NOTE: You are downloading one or more large file(s), which would            \n",
      "run significantly faster if you enabled sliced object downloads. This\n",
      "feature is enabled by default but requires that compiled crcmod be\n",
      "installed (see \"gsutil help crcmod\").\n",
      "\n",
      "\\ [1/1 files][299.2 MiB/299.2 MiB] 100% Done                                    \n",
      "Operation completed over 1 objects/299.2 MiB.                                    \n"
     ]
    }
   ],
   "source": [
    "# !gsutil -m cp -r gs://{bucket_name}/train_data_with_scores-1.csv /home/jupyter"
   ]
  },
  {
   "cell_type": "code",
   "execution_count": 5,
   "metadata": {},
   "outputs": [],
   "source": [
    "import pandas as pd\n",
    "# data_1 = pd.read_csv('train_data_with_precision-5.csv')\n",
    "# data_2 = pd.read_csv('train_data_with_precision-6.csv')\n",
    "# data_3 = pd.read_csv('train_data_with_scores-2.csv')\n",
    "# data_4 = pd.read_csv('train_data_with_scores-3.csv')\n",
    "# data_5 = pd.read_csv('train_data_with_scores-4.csv')\n",
    "# data_6 = pd.read_csv('train_data_with_scores-1.csv')\n",
    "data_7 = pd.read_csv('train_data_with_scores-7.csv')"
   ]
  },
  {
   "cell_type": "code",
   "execution_count": 7,
   "metadata": {},
   "outputs": [
    {
     "data": {
      "text/html": [
       "<div>\n",
       "<style scoped>\n",
       "    .dataframe tbody tr th:only-of-type {\n",
       "        vertical-align: middle;\n",
       "    }\n",
       "\n",
       "    .dataframe tbody tr th {\n",
       "        vertical-align: top;\n",
       "    }\n",
       "\n",
       "    .dataframe thead th {\n",
       "        text-align: right;\n",
       "    }\n",
       "</style>\n",
       "<table border=\"1\" class=\"dataframe\">\n",
       "  <thead>\n",
       "    <tr style=\"text-align: right;\">\n",
       "      <th></th>\n",
       "      <th>Unnamed: 0</th>\n",
       "      <th>episode_id</th>\n",
       "      <th>transcript</th>\n",
       "      <th>show_uri</th>\n",
       "      <th>show_name</th>\n",
       "      <th>show_description</th>\n",
       "      <th>publisher</th>\n",
       "      <th>language</th>\n",
       "      <th>rss_link</th>\n",
       "      <th>episode_name</th>\n",
       "      <th>episode_description</th>\n",
       "      <th>duration</th>\n",
       "      <th>show_filename_prefix</th>\n",
       "      <th>episode_filename_prefix</th>\n",
       "      <th>scores</th>\n",
       "    </tr>\n",
       "  </thead>\n",
       "  <tbody>\n",
       "    <tr>\n",
       "      <th>0</th>\n",
       "      <td>79755</td>\n",
       "      <td>spotify:episode:33mDNrjMtfquJMeYgMJUyu</td>\n",
       "      <td>Hey guys, this is Aaron Scott with the A14 po...</td>\n",
       "      <td>spotify:show:5W2yeaLpbdLjGvhrP6o8Bj</td>\n",
       "      <td>CrossFit A14 Podcast</td>\n",
       "      <td>Keep up with the updates of the gym and upcomi...</td>\n",
       "      <td>Aaron</td>\n",
       "      <td>['en']</td>\n",
       "      <td>https://anchor.fm/s/d6addc8/podcast/rss</td>\n",
       "      <td>#010 Tyler Goodjohn</td>\n",
       "      <td>Bare Knuckle Boxing World Champion Tyler Goodj...</td>\n",
       "      <td>57.014667</td>\n",
       "      <td>show_5W2yeaLpbdLjGvhrP6o8Bj</td>\n",
       "      <td>33mDNrjMtfquJMeYgMJUyu</td>\n",
       "      <td>{'precision': 0.8333333333333334, 'recall': 0....</td>\n",
       "    </tr>\n",
       "  </tbody>\n",
       "</table>\n",
       "</div>"
      ],
      "text/plain": [
       "   Unnamed: 0                              episode_id  \\\n",
       "0       79755  spotify:episode:33mDNrjMtfquJMeYgMJUyu   \n",
       "\n",
       "                                          transcript  \\\n",
       "0   Hey guys, this is Aaron Scott with the A14 po...   \n",
       "\n",
       "                              show_uri             show_name  \\\n",
       "0  spotify:show:5W2yeaLpbdLjGvhrP6o8Bj  CrossFit A14 Podcast   \n",
       "\n",
       "                                    show_description publisher language  \\\n",
       "0  Keep up with the updates of the gym and upcomi...     Aaron   ['en']   \n",
       "\n",
       "                                  rss_link         episode_name  \\\n",
       "0  https://anchor.fm/s/d6addc8/podcast/rss  #010 Tyler Goodjohn   \n",
       "\n",
       "                                 episode_description   duration  \\\n",
       "0  Bare Knuckle Boxing World Champion Tyler Goodj...  57.014667   \n",
       "\n",
       "          show_filename_prefix episode_filename_prefix  \\\n",
       "0  show_5W2yeaLpbdLjGvhrP6o8Bj  33mDNrjMtfquJMeYgMJUyu   \n",
       "\n",
       "                                              scores  \n",
       "0  {'precision': 0.8333333333333334, 'recall': 0....  "
      ]
     },
     "execution_count": 7,
     "metadata": {},
     "output_type": "execute_result"
    }
   ],
   "source": [
    "# data = data_1.append(data_2, ignore_index = True)\n",
    "# data = data.append(data_3, ignore_index = True)\n",
    "# data = data.append(data_4, ignore_index = True)\n",
    "# data = data.append(data_5, ignore_index = True)\n",
    "# data = data.append(data_6, ignore_index = True)\n",
    "data = data_7\n",
    "data.head(1)"
   ]
  },
  {
   "cell_type": "code",
   "execution_count": 8,
   "metadata": {},
   "outputs": [],
   "source": [
    "import json\n",
    "\n",
    "def extract_scores(scores):\n",
    "    scores = scores.replace(\"\\'\", \"\\\"\")\n",
    "    scores = json.loads(scores)\n",
    "    return scores"
   ]
  },
  {
   "cell_type": "code",
   "execution_count": 9,
   "metadata": {},
   "outputs": [],
   "source": [
    "data['scores'] =  data.apply(lambda row: extract_scores(row['scores']), axis=1)\n",
    "#data.iloc[0]['scores']"
   ]
  },
  {
   "cell_type": "code",
   "execution_count": 10,
   "metadata": {},
   "outputs": [],
   "source": [
    "#data['precision'], data['recall'], data['f1'] = data['scores']['precision'], data['scores']['recall'], data['scores']['f1']\n",
    "#data.iloc[0]['scores']['precision']\n",
    "\n",
    "def get_precision(scores):\n",
    "    precision = scores['precision']\n",
    "    return precision\n",
    "\n",
    "def get_recall(scores):\n",
    "    recall = scores['recall']\n",
    "    return recall\n",
    "\n",
    "def get_f1(scores):\n",
    "    f1 = scores['f1']\n",
    "    return f1"
   ]
  },
  {
   "cell_type": "code",
   "execution_count": 11,
   "metadata": {},
   "outputs": [],
   "source": [
    "data['precision'] = data.apply(lambda row: get_precision(row['scores']), axis=1)"
   ]
  },
  {
   "cell_type": "code",
   "execution_count": 12,
   "metadata": {},
   "outputs": [],
   "source": [
    "data['recall'] = data.apply(lambda row: get_recall(row['scores']), axis=1)\n",
    "data['f1'] = data.apply(lambda row: get_f1(row['scores']), axis=1)"
   ]
  },
  {
   "cell_type": "code",
   "execution_count": 13,
   "metadata": {},
   "outputs": [
    {
     "data": {
      "text/html": [
       "<div>\n",
       "<style scoped>\n",
       "    .dataframe tbody tr th:only-of-type {\n",
       "        vertical-align: middle;\n",
       "    }\n",
       "\n",
       "    .dataframe tbody tr th {\n",
       "        vertical-align: top;\n",
       "    }\n",
       "\n",
       "    .dataframe thead th {\n",
       "        text-align: right;\n",
       "    }\n",
       "</style>\n",
       "<table border=\"1\" class=\"dataframe\">\n",
       "  <thead>\n",
       "    <tr style=\"text-align: right;\">\n",
       "      <th></th>\n",
       "      <th>Unnamed: 0</th>\n",
       "      <th>episode_id</th>\n",
       "      <th>transcript</th>\n",
       "      <th>show_uri</th>\n",
       "      <th>show_name</th>\n",
       "      <th>show_description</th>\n",
       "      <th>publisher</th>\n",
       "      <th>language</th>\n",
       "      <th>rss_link</th>\n",
       "      <th>episode_name</th>\n",
       "      <th>episode_description</th>\n",
       "      <th>duration</th>\n",
       "      <th>show_filename_prefix</th>\n",
       "      <th>episode_filename_prefix</th>\n",
       "      <th>scores</th>\n",
       "      <th>precision</th>\n",
       "      <th>recall</th>\n",
       "      <th>f1</th>\n",
       "    </tr>\n",
       "  </thead>\n",
       "  <tbody>\n",
       "    <tr>\n",
       "      <th>0</th>\n",
       "      <td>79755</td>\n",
       "      <td>spotify:episode:33mDNrjMtfquJMeYgMJUyu</td>\n",
       "      <td>Hey guys, this is Aaron Scott with the A14 po...</td>\n",
       "      <td>spotify:show:5W2yeaLpbdLjGvhrP6o8Bj</td>\n",
       "      <td>CrossFit A14 Podcast</td>\n",
       "      <td>Keep up with the updates of the gym and upcomi...</td>\n",
       "      <td>Aaron</td>\n",
       "      <td>['en']</td>\n",
       "      <td>https://anchor.fm/s/d6addc8/podcast/rss</td>\n",
       "      <td>#010 Tyler Goodjohn</td>\n",
       "      <td>Bare Knuckle Boxing World Champion Tyler Goodj...</td>\n",
       "      <td>57.014667</td>\n",
       "      <td>show_5W2yeaLpbdLjGvhrP6o8Bj</td>\n",
       "      <td>33mDNrjMtfquJMeYgMJUyu</td>\n",
       "      <td>{'precision': 0.8333333333333334, 'recall': 0....</td>\n",
       "      <td>0.833333</td>\n",
       "      <td>0.018149</td>\n",
       "      <td>0.035524</td>\n",
       "    </tr>\n",
       "    <tr>\n",
       "      <th>1</th>\n",
       "      <td>79756</td>\n",
       "      <td>spotify:episode:3ICV4AseQ8mG1VgjNnzA5W</td>\n",
       "      <td>This one doesn't have a thing that the sure i...</td>\n",
       "      <td>spotify:show:5W2yeaLpbdLjGvhrP6o8Bj</td>\n",
       "      <td>CrossFit A14 Podcast</td>\n",
       "      <td>Keep up with the updates of the gym and upcomi...</td>\n",
       "      <td>Aaron</td>\n",
       "      <td>['en']</td>\n",
       "      <td>https://anchor.fm/s/d6addc8/podcast/rss</td>\n",
       "      <td>#011 Helen Cooper</td>\n",
       "      <td>Helen discuses her CrossFit journey of 5 years!.</td>\n",
       "      <td>34.464600</td>\n",
       "      <td>show_5W2yeaLpbdLjGvhrP6o8Bj</td>\n",
       "      <td>3ICV4AseQ8mG1VgjNnzA5W</td>\n",
       "      <td>{'precision': 0.75, 'recall': 0.00810810810810...</td>\n",
       "      <td>0.750000</td>\n",
       "      <td>0.008108</td>\n",
       "      <td>0.016043</td>\n",
       "    </tr>\n",
       "    <tr>\n",
       "      <th>2</th>\n",
       "      <td>79757</td>\n",
       "      <td>spotify:episode:3XPgw2pl6MHNQvfahnbjYI</td>\n",
       "      <td>All right, so welcome back to the CrossFit A1...</td>\n",
       "      <td>spotify:show:5W2yeaLpbdLjGvhrP6o8Bj</td>\n",
       "      <td>CrossFit A14 Podcast</td>\n",
       "      <td>Keep up with the updates of the gym and upcomi...</td>\n",
       "      <td>Aaron</td>\n",
       "      <td>['en']</td>\n",
       "      <td>https://anchor.fm/s/d6addc8/podcast/rss</td>\n",
       "      <td>#002 Coach Jenna Chastain</td>\n",
       "      <td>Jenna talks about her weight loss journey of a...</td>\n",
       "      <td>17.623567</td>\n",
       "      <td>show_5W2yeaLpbdLjGvhrP6o8Bj</td>\n",
       "      <td>3XPgw2pl6MHNQvfahnbjYI</td>\n",
       "      <td>{'precision': 0.6666666666666666, 'recall': 0....</td>\n",
       "      <td>0.666667</td>\n",
       "      <td>0.029412</td>\n",
       "      <td>0.056338</td>\n",
       "    </tr>\n",
       "    <tr>\n",
       "      <th>3</th>\n",
       "      <td>79758</td>\n",
       "      <td>spotify:episode:4b20tlDzNik85DDh3Qmzv1</td>\n",
       "      <td>Hey guys, this is CrossFit 814 podcasts. This...</td>\n",
       "      <td>spotify:show:5W2yeaLpbdLjGvhrP6o8Bj</td>\n",
       "      <td>CrossFit A14 Podcast</td>\n",
       "      <td>Keep up with the updates of the gym and upcomi...</td>\n",
       "      <td>Aaron</td>\n",
       "      <td>['en']</td>\n",
       "      <td>https://anchor.fm/s/d6addc8/podcast/rss</td>\n",
       "      <td>#005 Coach Mike Dell</td>\n",
       "      <td>Coach here at CrossFit A14, Mike talks about h...</td>\n",
       "      <td>28.045067</td>\n",
       "      <td>show_5W2yeaLpbdLjGvhrP6o8Bj</td>\n",
       "      <td>4b20tlDzNik85DDh3Qmzv1</td>\n",
       "      <td>{'precision': 0.75, 'recall': 0.01435406698564...</td>\n",
       "      <td>0.750000</td>\n",
       "      <td>0.014354</td>\n",
       "      <td>0.028169</td>\n",
       "    </tr>\n",
       "    <tr>\n",
       "      <th>4</th>\n",
       "      <td>79759</td>\n",
       "      <td>spotify:episode:6JldXJCYOt5q3xKohj34aH</td>\n",
       "      <td>Hey guys, this is CrossFit 814 podcast. Again...</td>\n",
       "      <td>spotify:show:5W2yeaLpbdLjGvhrP6o8Bj</td>\n",
       "      <td>CrossFit A14 Podcast</td>\n",
       "      <td>Keep up with the updates of the gym and upcomi...</td>\n",
       "      <td>Aaron</td>\n",
       "      <td>['en']</td>\n",
       "      <td>https://anchor.fm/s/d6addc8/podcast/rss</td>\n",
       "      <td>#004 Dan Ransom</td>\n",
       "      <td>Dan talks about what brought him into CrossFit...</td>\n",
       "      <td>28.245133</td>\n",
       "      <td>show_5W2yeaLpbdLjGvhrP6o8Bj</td>\n",
       "      <td>6JldXJCYOt5q3xKohj34aH</td>\n",
       "      <td>{'precision': 0.6, 'recall': 0.008108108108108...</td>\n",
       "      <td>0.600000</td>\n",
       "      <td>0.008108</td>\n",
       "      <td>0.016000</td>\n",
       "    </tr>\n",
       "  </tbody>\n",
       "</table>\n",
       "</div>"
      ],
      "text/plain": [
       "   Unnamed: 0                              episode_id  \\\n",
       "0       79755  spotify:episode:33mDNrjMtfquJMeYgMJUyu   \n",
       "1       79756  spotify:episode:3ICV4AseQ8mG1VgjNnzA5W   \n",
       "2       79757  spotify:episode:3XPgw2pl6MHNQvfahnbjYI   \n",
       "3       79758  spotify:episode:4b20tlDzNik85DDh3Qmzv1   \n",
       "4       79759  spotify:episode:6JldXJCYOt5q3xKohj34aH   \n",
       "\n",
       "                                          transcript  \\\n",
       "0   Hey guys, this is Aaron Scott with the A14 po...   \n",
       "1   This one doesn't have a thing that the sure i...   \n",
       "2   All right, so welcome back to the CrossFit A1...   \n",
       "3   Hey guys, this is CrossFit 814 podcasts. This...   \n",
       "4   Hey guys, this is CrossFit 814 podcast. Again...   \n",
       "\n",
       "                              show_uri             show_name  \\\n",
       "0  spotify:show:5W2yeaLpbdLjGvhrP6o8Bj  CrossFit A14 Podcast   \n",
       "1  spotify:show:5W2yeaLpbdLjGvhrP6o8Bj  CrossFit A14 Podcast   \n",
       "2  spotify:show:5W2yeaLpbdLjGvhrP6o8Bj  CrossFit A14 Podcast   \n",
       "3  spotify:show:5W2yeaLpbdLjGvhrP6o8Bj  CrossFit A14 Podcast   \n",
       "4  spotify:show:5W2yeaLpbdLjGvhrP6o8Bj  CrossFit A14 Podcast   \n",
       "\n",
       "                                    show_description publisher language  \\\n",
       "0  Keep up with the updates of the gym and upcomi...     Aaron   ['en']   \n",
       "1  Keep up with the updates of the gym and upcomi...     Aaron   ['en']   \n",
       "2  Keep up with the updates of the gym and upcomi...     Aaron   ['en']   \n",
       "3  Keep up with the updates of the gym and upcomi...     Aaron   ['en']   \n",
       "4  Keep up with the updates of the gym and upcomi...     Aaron   ['en']   \n",
       "\n",
       "                                  rss_link               episode_name  \\\n",
       "0  https://anchor.fm/s/d6addc8/podcast/rss        #010 Tyler Goodjohn   \n",
       "1  https://anchor.fm/s/d6addc8/podcast/rss          #011 Helen Cooper   \n",
       "2  https://anchor.fm/s/d6addc8/podcast/rss  #002 Coach Jenna Chastain   \n",
       "3  https://anchor.fm/s/d6addc8/podcast/rss       #005 Coach Mike Dell   \n",
       "4  https://anchor.fm/s/d6addc8/podcast/rss            #004 Dan Ransom   \n",
       "\n",
       "                                 episode_description   duration  \\\n",
       "0  Bare Knuckle Boxing World Champion Tyler Goodj...  57.014667   \n",
       "1   Helen discuses her CrossFit journey of 5 years!.  34.464600   \n",
       "2  Jenna talks about her weight loss journey of a...  17.623567   \n",
       "3  Coach here at CrossFit A14, Mike talks about h...  28.045067   \n",
       "4  Dan talks about what brought him into CrossFit...  28.245133   \n",
       "\n",
       "          show_filename_prefix episode_filename_prefix  \\\n",
       "0  show_5W2yeaLpbdLjGvhrP6o8Bj  33mDNrjMtfquJMeYgMJUyu   \n",
       "1  show_5W2yeaLpbdLjGvhrP6o8Bj  3ICV4AseQ8mG1VgjNnzA5W   \n",
       "2  show_5W2yeaLpbdLjGvhrP6o8Bj  3XPgw2pl6MHNQvfahnbjYI   \n",
       "3  show_5W2yeaLpbdLjGvhrP6o8Bj  4b20tlDzNik85DDh3Qmzv1   \n",
       "4  show_5W2yeaLpbdLjGvhrP6o8Bj  6JldXJCYOt5q3xKohj34aH   \n",
       "\n",
       "                                              scores  precision    recall  \\\n",
       "0  {'precision': 0.8333333333333334, 'recall': 0....   0.833333  0.018149   \n",
       "1  {'precision': 0.75, 'recall': 0.00810810810810...   0.750000  0.008108   \n",
       "2  {'precision': 0.6666666666666666, 'recall': 0....   0.666667  0.029412   \n",
       "3  {'precision': 0.75, 'recall': 0.01435406698564...   0.750000  0.014354   \n",
       "4  {'precision': 0.6, 'recall': 0.008108108108108...   0.600000  0.008108   \n",
       "\n",
       "         f1  \n",
       "0  0.035524  \n",
       "1  0.016043  \n",
       "2  0.056338  \n",
       "3  0.028169  \n",
       "4  0.016000  "
      ]
     },
     "execution_count": 13,
     "metadata": {},
     "output_type": "execute_result"
    }
   ],
   "source": [
    "data.head(5)"
   ]
  },
  {
   "cell_type": "code",
   "execution_count": 14,
   "metadata": {},
   "outputs": [
    {
     "data": {
      "text/plain": [
       "10000"
      ]
     },
     "execution_count": 14,
     "metadata": {},
     "output_type": "execute_result"
    }
   ],
   "source": [
    "len(data)"
   ]
  },
  {
   "cell_type": "code",
   "execution_count": 15,
   "metadata": {},
   "outputs": [],
   "source": [
    "filtered = data[(data['precision'] >= 0.88)]"
   ]
  },
  {
   "cell_type": "code",
   "execution_count": 16,
   "metadata": {},
   "outputs": [
    {
     "data": {
      "text/plain": [
       "1748"
      ]
     },
     "execution_count": 16,
     "metadata": {},
     "output_type": "execute_result"
    }
   ],
   "source": [
    "len(filtered)"
   ]
  },
  {
   "cell_type": "code",
   "execution_count": 21,
   "metadata": {},
   "outputs": [
    {
     "data": {
      "text/plain": [
       "\"We've had a rebrand! Now known as Tango Romeo Lima, still talking all things TRL. We have Tyson Brough on the show to chat about refereeing. Our Last ever TRL Love Island\\xa0 Rule chat Moreton Bay in focus\""
      ]
     },
     "execution_count": 21,
     "metadata": {},
     "output_type": "execute_result"
    }
   ],
   "source": [
    "filtered.iloc[5]['episode_description']"
   ]
  },
  {
   "cell_type": "code",
   "execution_count": 24,
   "metadata": {},
   "outputs": [],
   "source": [
    "filtered.reset_index(drop=True, inplace=True)"
   ]
  },
  {
   "cell_type": "code",
   "execution_count": 23,
   "metadata": {},
   "outputs": [
    {
     "ename": "KeyError",
     "evalue": "'index'",
     "output_type": "error",
     "traceback": [
      "\u001b[0;31m---------------------------------------------------------------------------\u001b[0m",
      "\u001b[0;31mKeyError\u001b[0m                                  Traceback (most recent call last)",
      "\u001b[0;32m/opt/conda/lib/python3.7/site-packages/pandas/core/indexes/base.py\u001b[0m in \u001b[0;36mget_loc\u001b[0;34m(self, key, method, tolerance)\u001b[0m\n\u001b[1;32m   2888\u001b[0m             \u001b[0;32mtry\u001b[0m\u001b[0;34m:\u001b[0m\u001b[0;34m\u001b[0m\u001b[0;34m\u001b[0m\u001b[0m\n\u001b[0;32m-> 2889\u001b[0;31m                 \u001b[0;32mreturn\u001b[0m \u001b[0mself\u001b[0m\u001b[0;34m.\u001b[0m\u001b[0m_engine\u001b[0m\u001b[0;34m.\u001b[0m\u001b[0mget_loc\u001b[0m\u001b[0;34m(\u001b[0m\u001b[0mcasted_key\u001b[0m\u001b[0;34m)\u001b[0m\u001b[0;34m\u001b[0m\u001b[0;34m\u001b[0m\u001b[0m\n\u001b[0m\u001b[1;32m   2890\u001b[0m             \u001b[0;32mexcept\u001b[0m \u001b[0mKeyError\u001b[0m \u001b[0;32mas\u001b[0m \u001b[0merr\u001b[0m\u001b[0;34m:\u001b[0m\u001b[0;34m\u001b[0m\u001b[0;34m\u001b[0m\u001b[0m\n",
      "\u001b[0;32mpandas/_libs/index.pyx\u001b[0m in \u001b[0;36mpandas._libs.index.IndexEngine.get_loc\u001b[0;34m()\u001b[0m\n",
      "\u001b[0;32mpandas/_libs/index.pyx\u001b[0m in \u001b[0;36mpandas._libs.index.IndexEngine.get_loc\u001b[0;34m()\u001b[0m\n",
      "\u001b[0;32mpandas/_libs/hashtable_class_helper.pxi\u001b[0m in \u001b[0;36mpandas._libs.hashtable.PyObjectHashTable.get_item\u001b[0;34m()\u001b[0m\n",
      "\u001b[0;32mpandas/_libs/hashtable_class_helper.pxi\u001b[0m in \u001b[0;36mpandas._libs.hashtable.PyObjectHashTable.get_item\u001b[0;34m()\u001b[0m\n",
      "\u001b[0;31mKeyError\u001b[0m: 'index'",
      "\nThe above exception was the direct cause of the following exception:\n",
      "\u001b[0;31mKeyError\u001b[0m                                  Traceback (most recent call last)",
      "\u001b[0;32m<ipython-input-23-049119bdc6f3>\u001b[0m in \u001b[0;36m<module>\u001b[0;34m\u001b[0m\n\u001b[1;32m      1\u001b[0m \u001b[0;32mdel\u001b[0m \u001b[0mfiltered\u001b[0m\u001b[0;34m[\u001b[0m\u001b[0;34m'Unnamed: 0'\u001b[0m\u001b[0;34m]\u001b[0m\u001b[0;34m\u001b[0m\u001b[0;34m\u001b[0m\u001b[0m\n\u001b[0;32m----> 2\u001b[0;31m \u001b[0;32mdel\u001b[0m \u001b[0mfiltered\u001b[0m\u001b[0;34m[\u001b[0m\u001b[0;34m'index'\u001b[0m\u001b[0;34m]\u001b[0m\u001b[0;34m\u001b[0m\u001b[0;34m\u001b[0m\u001b[0m\n\u001b[0m",
      "\u001b[0;32m/opt/conda/lib/python3.7/site-packages/pandas/core/generic.py\u001b[0m in \u001b[0;36m__delitem__\u001b[0;34m(self, key)\u001b[0m\n\u001b[1;32m   3700\u001b[0m             \u001b[0;31m# there was no match, this call should raise the appropriate\u001b[0m\u001b[0;34m\u001b[0m\u001b[0;34m\u001b[0m\u001b[0;34m\u001b[0m\u001b[0m\n\u001b[1;32m   3701\u001b[0m             \u001b[0;31m# exception:\u001b[0m\u001b[0;34m\u001b[0m\u001b[0;34m\u001b[0m\u001b[0;34m\u001b[0m\u001b[0m\n\u001b[0;32m-> 3702\u001b[0;31m             \u001b[0mloc\u001b[0m \u001b[0;34m=\u001b[0m \u001b[0mself\u001b[0m\u001b[0;34m.\u001b[0m\u001b[0maxes\u001b[0m\u001b[0;34m[\u001b[0m\u001b[0;34m-\u001b[0m\u001b[0;36m1\u001b[0m\u001b[0;34m]\u001b[0m\u001b[0;34m.\u001b[0m\u001b[0mget_loc\u001b[0m\u001b[0;34m(\u001b[0m\u001b[0mkey\u001b[0m\u001b[0;34m)\u001b[0m\u001b[0;34m\u001b[0m\u001b[0;34m\u001b[0m\u001b[0m\n\u001b[0m\u001b[1;32m   3703\u001b[0m             \u001b[0mself\u001b[0m\u001b[0;34m.\u001b[0m\u001b[0m_mgr\u001b[0m\u001b[0;34m.\u001b[0m\u001b[0midelete\u001b[0m\u001b[0;34m(\u001b[0m\u001b[0mloc\u001b[0m\u001b[0;34m)\u001b[0m\u001b[0;34m\u001b[0m\u001b[0;34m\u001b[0m\u001b[0m\n\u001b[1;32m   3704\u001b[0m \u001b[0;34m\u001b[0m\u001b[0m\n",
      "\u001b[0;32m/opt/conda/lib/python3.7/site-packages/pandas/core/indexes/base.py\u001b[0m in \u001b[0;36mget_loc\u001b[0;34m(self, key, method, tolerance)\u001b[0m\n\u001b[1;32m   2889\u001b[0m                 \u001b[0;32mreturn\u001b[0m \u001b[0mself\u001b[0m\u001b[0;34m.\u001b[0m\u001b[0m_engine\u001b[0m\u001b[0;34m.\u001b[0m\u001b[0mget_loc\u001b[0m\u001b[0;34m(\u001b[0m\u001b[0mcasted_key\u001b[0m\u001b[0;34m)\u001b[0m\u001b[0;34m\u001b[0m\u001b[0;34m\u001b[0m\u001b[0m\n\u001b[1;32m   2890\u001b[0m             \u001b[0;32mexcept\u001b[0m \u001b[0mKeyError\u001b[0m \u001b[0;32mas\u001b[0m \u001b[0merr\u001b[0m\u001b[0;34m:\u001b[0m\u001b[0;34m\u001b[0m\u001b[0;34m\u001b[0m\u001b[0m\n\u001b[0;32m-> 2891\u001b[0;31m                 \u001b[0;32mraise\u001b[0m \u001b[0mKeyError\u001b[0m\u001b[0;34m(\u001b[0m\u001b[0mkey\u001b[0m\u001b[0;34m)\u001b[0m \u001b[0;32mfrom\u001b[0m \u001b[0merr\u001b[0m\u001b[0;34m\u001b[0m\u001b[0;34m\u001b[0m\u001b[0m\n\u001b[0m\u001b[1;32m   2892\u001b[0m \u001b[0;34m\u001b[0m\u001b[0m\n\u001b[1;32m   2893\u001b[0m         \u001b[0;32mif\u001b[0m \u001b[0mtolerance\u001b[0m \u001b[0;32mis\u001b[0m \u001b[0;32mnot\u001b[0m \u001b[0;32mNone\u001b[0m\u001b[0;34m:\u001b[0m\u001b[0;34m\u001b[0m\u001b[0;34m\u001b[0m\u001b[0m\n",
      "\u001b[0;31mKeyError\u001b[0m: 'index'"
     ]
    }
   ],
   "source": [
    "del filtered['Unnamed: 0']"
   ]
  },
  {
   "cell_type": "code",
   "execution_count": 25,
   "metadata": {},
   "outputs": [
    {
     "data": {
      "text/html": [
       "<div>\n",
       "<style scoped>\n",
       "    .dataframe tbody tr th:only-of-type {\n",
       "        vertical-align: middle;\n",
       "    }\n",
       "\n",
       "    .dataframe tbody tr th {\n",
       "        vertical-align: top;\n",
       "    }\n",
       "\n",
       "    .dataframe thead th {\n",
       "        text-align: right;\n",
       "    }\n",
       "</style>\n",
       "<table border=\"1\" class=\"dataframe\">\n",
       "  <thead>\n",
       "    <tr style=\"text-align: right;\">\n",
       "      <th></th>\n",
       "      <th>episode_id</th>\n",
       "      <th>transcript</th>\n",
       "      <th>show_uri</th>\n",
       "      <th>show_name</th>\n",
       "      <th>show_description</th>\n",
       "      <th>publisher</th>\n",
       "      <th>language</th>\n",
       "      <th>rss_link</th>\n",
       "      <th>episode_name</th>\n",
       "      <th>episode_description</th>\n",
       "      <th>duration</th>\n",
       "      <th>show_filename_prefix</th>\n",
       "      <th>episode_filename_prefix</th>\n",
       "      <th>scores</th>\n",
       "      <th>precision</th>\n",
       "      <th>recall</th>\n",
       "      <th>f1</th>\n",
       "    </tr>\n",
       "  </thead>\n",
       "  <tbody>\n",
       "    <tr>\n",
       "      <th>0</th>\n",
       "      <td>spotify:episode:6ktydnMr9Orii7YYrxvWy7</td>\n",
       "      <td>So welcome to the CrossFit 814 podcast. So we...</td>\n",
       "      <td>spotify:show:5W2yeaLpbdLjGvhrP6o8Bj</td>\n",
       "      <td>CrossFit A14 Podcast</td>\n",
       "      <td>Keep up with the updates of the gym and upcomi...</td>\n",
       "      <td>Aaron</td>\n",
       "      <td>['en']</td>\n",
       "      <td>https://anchor.fm/s/d6addc8/podcast/rss</td>\n",
       "      <td>#001 Richard Rout/Owner of A14</td>\n",
       "      <td>You asked and Richard answered! We cover expan...</td>\n",
       "      <td>15.998550</td>\n",
       "      <td>show_5W2yeaLpbdLjGvhrP6o8Bj</td>\n",
       "      <td>6ktydnMr9Orii7YYrxvWy7</td>\n",
       "      <td>{'precision': 0.9090909090909091, 'recall': 0....</td>\n",
       "      <td>0.909091</td>\n",
       "      <td>0.037736</td>\n",
       "      <td>0.072464</td>\n",
       "    </tr>\n",
       "    <tr>\n",
       "      <th>1</th>\n",
       "      <td>spotify:episode:0Ic1LNEDwdkLc8MRB6SPyc</td>\n",
       "      <td>Hey, welcome back to the dollar menu. Mid Car...</td>\n",
       "      <td>spotify:show:5w8P4Ky5CtfUd279q5JQ1a</td>\n",
       "      <td>Submission Squad Presents: Dollar Menu Midcarders</td>\n",
       "      <td>Recant the stories of our intrepid adventurers...</td>\n",
       "      <td>Evan Gelistico</td>\n",
       "      <td>['en']</td>\n",
       "      <td>https://anchor.fm/s/7149f40/podcast/rss</td>\n",
       "      <td>Circus Maximus 2019 Review</td>\n",
       "      <td>We review the Circus Maximus 2019 event</td>\n",
       "      <td>50.540167</td>\n",
       "      <td>show_5w8P4Ky5CtfUd279q5JQ1a</td>\n",
       "      <td>0Ic1LNEDwdkLc8MRB6SPyc</td>\n",
       "      <td>{'precision': 1.0, 'recall': 0.005535055350553...</td>\n",
       "      <td>1.000000</td>\n",
       "      <td>0.005535</td>\n",
       "      <td>0.011009</td>\n",
       "    </tr>\n",
       "  </tbody>\n",
       "</table>\n",
       "</div>"
      ],
      "text/plain": [
       "                               episode_id  \\\n",
       "0  spotify:episode:6ktydnMr9Orii7YYrxvWy7   \n",
       "1  spotify:episode:0Ic1LNEDwdkLc8MRB6SPyc   \n",
       "\n",
       "                                          transcript  \\\n",
       "0   So welcome to the CrossFit 814 podcast. So we...   \n",
       "1   Hey, welcome back to the dollar menu. Mid Car...   \n",
       "\n",
       "                              show_uri  \\\n",
       "0  spotify:show:5W2yeaLpbdLjGvhrP6o8Bj   \n",
       "1  spotify:show:5w8P4Ky5CtfUd279q5JQ1a   \n",
       "\n",
       "                                           show_name  \\\n",
       "0                               CrossFit A14 Podcast   \n",
       "1  Submission Squad Presents: Dollar Menu Midcarders   \n",
       "\n",
       "                                    show_description       publisher language  \\\n",
       "0  Keep up with the updates of the gym and upcomi...           Aaron   ['en']   \n",
       "1  Recant the stories of our intrepid adventurers...  Evan Gelistico   ['en']   \n",
       "\n",
       "                                  rss_link                    episode_name  \\\n",
       "0  https://anchor.fm/s/d6addc8/podcast/rss  #001 Richard Rout/Owner of A14   \n",
       "1  https://anchor.fm/s/7149f40/podcast/rss     Circus Maximus 2019 Review    \n",
       "\n",
       "                                 episode_description   duration  \\\n",
       "0  You asked and Richard answered! We cover expan...  15.998550   \n",
       "1            We review the Circus Maximus 2019 event  50.540167   \n",
       "\n",
       "          show_filename_prefix episode_filename_prefix  \\\n",
       "0  show_5W2yeaLpbdLjGvhrP6o8Bj  6ktydnMr9Orii7YYrxvWy7   \n",
       "1  show_5w8P4Ky5CtfUd279q5JQ1a  0Ic1LNEDwdkLc8MRB6SPyc   \n",
       "\n",
       "                                              scores  precision    recall  \\\n",
       "0  {'precision': 0.9090909090909091, 'recall': 0....   0.909091  0.037736   \n",
       "1  {'precision': 1.0, 'recall': 0.005535055350553...   1.000000  0.005535   \n",
       "\n",
       "         f1  \n",
       "0  0.072464  \n",
       "1  0.011009  "
      ]
     },
     "execution_count": 25,
     "metadata": {},
     "output_type": "execute_result"
    }
   ],
   "source": [
    "filtered.head(2)"
   ]
  },
  {
   "cell_type": "code",
   "execution_count": 26,
   "metadata": {},
   "outputs": [
    {
     "name": "stdout",
     "output_type": "stream",
     "text": [
      "Copying file:///home/jupyter/filtered_data-1.csv [Content-Type=text/csv]...\n",
      "\\ [1/1 files][ 48.0 MiB/ 48.0 MiB] 100% Done                                    \n",
      "Operation completed over 1 objects/48.0 MiB.                                     \n"
     ]
    }
   ],
   "source": [
    "filtered.to_csv('filtered_data-1.csv')\n",
    "!gsutil -m cp -r /home/jupyter/filtered_data-1.csv gs://{bucket_name}/"
   ]
  },
  {
   "cell_type": "code",
   "execution_count": null,
   "metadata": {},
   "outputs": [],
   "source": []
  }
 ],
 "metadata": {
  "environment": {
   "name": "pytorch-gpu.1-4.m55",
   "type": "gcloud",
   "uri": "gcr.io/deeplearning-platform-release/pytorch-gpu.1-4:m55"
  },
  "kernelspec": {
   "display_name": "Python 3",
   "language": "python",
   "name": "python3"
  },
  "language_info": {
   "codemirror_mode": {
    "name": "ipython",
    "version": 3
   },
   "file_extension": ".py",
   "mimetype": "text/x-python",
   "name": "python",
   "nbconvert_exporter": "python",
   "pygments_lexer": "ipython3",
   "version": "3.7.8"
  }
 },
 "nbformat": 4,
 "nbformat_minor": 4
}
